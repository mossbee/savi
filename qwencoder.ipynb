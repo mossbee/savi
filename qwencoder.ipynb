{
  "nbformat": 4,
  "nbformat_minor": 0,
  "metadata": {
    "colab": {
      "provenance": [],
      "gpuType": "T4"
    },
    "kernelspec": {
      "name": "python3",
      "display_name": "Python 3"
    },
    "language_info": {
      "name": "python"
    },
    "accelerator": "GPU",
    "widgets": {
      "application/vnd.jupyter.widget-state+json": {
        "c466e6c01d85450a82f68917953c5546": {
          "model_module": "@jupyter-widgets/controls",
          "model_name": "HBoxModel",
          "model_module_version": "1.5.0",
          "state": {
            "_dom_classes": [],
            "_model_module": "@jupyter-widgets/controls",
            "_model_module_version": "1.5.0",
            "_model_name": "HBoxModel",
            "_view_count": null,
            "_view_module": "@jupyter-widgets/controls",
            "_view_module_version": "1.5.0",
            "_view_name": "HBoxView",
            "box_style": "",
            "children": [
              "IPY_MODEL_6e9973e9b3d74656b72aef7bd626b409",
              "IPY_MODEL_8fae30f57d8c4dc8bc568ae0c90f70b4",
              "IPY_MODEL_5d432169cfa546b9806cadf8e6537ff0"
            ],
            "layout": "IPY_MODEL_252a3f7733cb430597eca4495914c72c"
          }
        },
        "6e9973e9b3d74656b72aef7bd626b409": {
          "model_module": "@jupyter-widgets/controls",
          "model_name": "HTMLModel",
          "model_module_version": "1.5.0",
          "state": {
            "_dom_classes": [],
            "_model_module": "@jupyter-widgets/controls",
            "_model_module_version": "1.5.0",
            "_model_name": "HTMLModel",
            "_view_count": null,
            "_view_module": "@jupyter-widgets/controls",
            "_view_module_version": "1.5.0",
            "_view_name": "HTMLView",
            "description": "",
            "description_tooltip": null,
            "layout": "IPY_MODEL_a15279f4a9284e5c88e175e9faf91e4c",
            "placeholder": "​",
            "style": "IPY_MODEL_ef9cf5a10e83408fb6594c0897c11d9e",
            "value": "config.json: 100%"
          }
        },
        "8fae30f57d8c4dc8bc568ae0c90f70b4": {
          "model_module": "@jupyter-widgets/controls",
          "model_name": "FloatProgressModel",
          "model_module_version": "1.5.0",
          "state": {
            "_dom_classes": [],
            "_model_module": "@jupyter-widgets/controls",
            "_model_module_version": "1.5.0",
            "_model_name": "FloatProgressModel",
            "_view_count": null,
            "_view_module": "@jupyter-widgets/controls",
            "_view_module_version": "1.5.0",
            "_view_name": "ProgressView",
            "bar_style": "success",
            "description": "",
            "description_tooltip": null,
            "layout": "IPY_MODEL_8b695c984a7347999e4db185e99ec219",
            "max": 663,
            "min": 0,
            "orientation": "horizontal",
            "style": "IPY_MODEL_dfe54ca6f8dc4dde93143f69a5a2e360",
            "value": 663
          }
        },
        "5d432169cfa546b9806cadf8e6537ff0": {
          "model_module": "@jupyter-widgets/controls",
          "model_name": "HTMLModel",
          "model_module_version": "1.5.0",
          "state": {
            "_dom_classes": [],
            "_model_module": "@jupyter-widgets/controls",
            "_model_module_version": "1.5.0",
            "_model_name": "HTMLModel",
            "_view_count": null,
            "_view_module": "@jupyter-widgets/controls",
            "_view_module_version": "1.5.0",
            "_view_name": "HTMLView",
            "description": "",
            "description_tooltip": null,
            "layout": "IPY_MODEL_6a3bb9fbc33d4e51b7ca49acd06d4bd4",
            "placeholder": "​",
            "style": "IPY_MODEL_40a88a2a51ec4831878e502a5422c8be",
            "value": " 663/663 [00:00&lt;00:00, 17.4kB/s]"
          }
        },
        "252a3f7733cb430597eca4495914c72c": {
          "model_module": "@jupyter-widgets/base",
          "model_name": "LayoutModel",
          "model_module_version": "1.2.0",
          "state": {
            "_model_module": "@jupyter-widgets/base",
            "_model_module_version": "1.2.0",
            "_model_name": "LayoutModel",
            "_view_count": null,
            "_view_module": "@jupyter-widgets/base",
            "_view_module_version": "1.2.0",
            "_view_name": "LayoutView",
            "align_content": null,
            "align_items": null,
            "align_self": null,
            "border": null,
            "bottom": null,
            "display": null,
            "flex": null,
            "flex_flow": null,
            "grid_area": null,
            "grid_auto_columns": null,
            "grid_auto_flow": null,
            "grid_auto_rows": null,
            "grid_column": null,
            "grid_gap": null,
            "grid_row": null,
            "grid_template_areas": null,
            "grid_template_columns": null,
            "grid_template_rows": null,
            "height": null,
            "justify_content": null,
            "justify_items": null,
            "left": null,
            "margin": null,
            "max_height": null,
            "max_width": null,
            "min_height": null,
            "min_width": null,
            "object_fit": null,
            "object_position": null,
            "order": null,
            "overflow": null,
            "overflow_x": null,
            "overflow_y": null,
            "padding": null,
            "right": null,
            "top": null,
            "visibility": null,
            "width": null
          }
        },
        "a15279f4a9284e5c88e175e9faf91e4c": {
          "model_module": "@jupyter-widgets/base",
          "model_name": "LayoutModel",
          "model_module_version": "1.2.0",
          "state": {
            "_model_module": "@jupyter-widgets/base",
            "_model_module_version": "1.2.0",
            "_model_name": "LayoutModel",
            "_view_count": null,
            "_view_module": "@jupyter-widgets/base",
            "_view_module_version": "1.2.0",
            "_view_name": "LayoutView",
            "align_content": null,
            "align_items": null,
            "align_self": null,
            "border": null,
            "bottom": null,
            "display": null,
            "flex": null,
            "flex_flow": null,
            "grid_area": null,
            "grid_auto_columns": null,
            "grid_auto_flow": null,
            "grid_auto_rows": null,
            "grid_column": null,
            "grid_gap": null,
            "grid_row": null,
            "grid_template_areas": null,
            "grid_template_columns": null,
            "grid_template_rows": null,
            "height": null,
            "justify_content": null,
            "justify_items": null,
            "left": null,
            "margin": null,
            "max_height": null,
            "max_width": null,
            "min_height": null,
            "min_width": null,
            "object_fit": null,
            "object_position": null,
            "order": null,
            "overflow": null,
            "overflow_x": null,
            "overflow_y": null,
            "padding": null,
            "right": null,
            "top": null,
            "visibility": null,
            "width": null
          }
        },
        "ef9cf5a10e83408fb6594c0897c11d9e": {
          "model_module": "@jupyter-widgets/controls",
          "model_name": "DescriptionStyleModel",
          "model_module_version": "1.5.0",
          "state": {
            "_model_module": "@jupyter-widgets/controls",
            "_model_module_version": "1.5.0",
            "_model_name": "DescriptionStyleModel",
            "_view_count": null,
            "_view_module": "@jupyter-widgets/base",
            "_view_module_version": "1.2.0",
            "_view_name": "StyleView",
            "description_width": ""
          }
        },
        "8b695c984a7347999e4db185e99ec219": {
          "model_module": "@jupyter-widgets/base",
          "model_name": "LayoutModel",
          "model_module_version": "1.2.0",
          "state": {
            "_model_module": "@jupyter-widgets/base",
            "_model_module_version": "1.2.0",
            "_model_name": "LayoutModel",
            "_view_count": null,
            "_view_module": "@jupyter-widgets/base",
            "_view_module_version": "1.2.0",
            "_view_name": "LayoutView",
            "align_content": null,
            "align_items": null,
            "align_self": null,
            "border": null,
            "bottom": null,
            "display": null,
            "flex": null,
            "flex_flow": null,
            "grid_area": null,
            "grid_auto_columns": null,
            "grid_auto_flow": null,
            "grid_auto_rows": null,
            "grid_column": null,
            "grid_gap": null,
            "grid_row": null,
            "grid_template_areas": null,
            "grid_template_columns": null,
            "grid_template_rows": null,
            "height": null,
            "justify_content": null,
            "justify_items": null,
            "left": null,
            "margin": null,
            "max_height": null,
            "max_width": null,
            "min_height": null,
            "min_width": null,
            "object_fit": null,
            "object_position": null,
            "order": null,
            "overflow": null,
            "overflow_x": null,
            "overflow_y": null,
            "padding": null,
            "right": null,
            "top": null,
            "visibility": null,
            "width": null
          }
        },
        "dfe54ca6f8dc4dde93143f69a5a2e360": {
          "model_module": "@jupyter-widgets/controls",
          "model_name": "ProgressStyleModel",
          "model_module_version": "1.5.0",
          "state": {
            "_model_module": "@jupyter-widgets/controls",
            "_model_module_version": "1.5.0",
            "_model_name": "ProgressStyleModel",
            "_view_count": null,
            "_view_module": "@jupyter-widgets/base",
            "_view_module_version": "1.2.0",
            "_view_name": "StyleView",
            "bar_color": null,
            "description_width": ""
          }
        },
        "6a3bb9fbc33d4e51b7ca49acd06d4bd4": {
          "model_module": "@jupyter-widgets/base",
          "model_name": "LayoutModel",
          "model_module_version": "1.2.0",
          "state": {
            "_model_module": "@jupyter-widgets/base",
            "_model_module_version": "1.2.0",
            "_model_name": "LayoutModel",
            "_view_count": null,
            "_view_module": "@jupyter-widgets/base",
            "_view_module_version": "1.2.0",
            "_view_name": "LayoutView",
            "align_content": null,
            "align_items": null,
            "align_self": null,
            "border": null,
            "bottom": null,
            "display": null,
            "flex": null,
            "flex_flow": null,
            "grid_area": null,
            "grid_auto_columns": null,
            "grid_auto_flow": null,
            "grid_auto_rows": null,
            "grid_column": null,
            "grid_gap": null,
            "grid_row": null,
            "grid_template_areas": null,
            "grid_template_columns": null,
            "grid_template_rows": null,
            "height": null,
            "justify_content": null,
            "justify_items": null,
            "left": null,
            "margin": null,
            "max_height": null,
            "max_width": null,
            "min_height": null,
            "min_width": null,
            "object_fit": null,
            "object_position": null,
            "order": null,
            "overflow": null,
            "overflow_x": null,
            "overflow_y": null,
            "padding": null,
            "right": null,
            "top": null,
            "visibility": null,
            "width": null
          }
        },
        "40a88a2a51ec4831878e502a5422c8be": {
          "model_module": "@jupyter-widgets/controls",
          "model_name": "DescriptionStyleModel",
          "model_module_version": "1.5.0",
          "state": {
            "_model_module": "@jupyter-widgets/controls",
            "_model_module_version": "1.5.0",
            "_model_name": "DescriptionStyleModel",
            "_view_count": null,
            "_view_module": "@jupyter-widgets/base",
            "_view_module_version": "1.2.0",
            "_view_name": "StyleView",
            "description_width": ""
          }
        },
        "9f2ea7b16a7041fdaaa399737e645cb4": {
          "model_module": "@jupyter-widgets/controls",
          "model_name": "HBoxModel",
          "model_module_version": "1.5.0",
          "state": {
            "_dom_classes": [],
            "_model_module": "@jupyter-widgets/controls",
            "_model_module_version": "1.5.0",
            "_model_name": "HBoxModel",
            "_view_count": null,
            "_view_module": "@jupyter-widgets/controls",
            "_view_module_version": "1.5.0",
            "_view_name": "HBoxView",
            "box_style": "",
            "children": [
              "IPY_MODEL_f5746c9f279d46cc8194e82593e804ae",
              "IPY_MODEL_3ef6aacae82242719c02d003d53485bc",
              "IPY_MODEL_5d8c19ad0f8749629318b46cc4575473"
            ],
            "layout": "IPY_MODEL_010d829e66394837a29d0fc4882fa058"
          }
        },
        "f5746c9f279d46cc8194e82593e804ae": {
          "model_module": "@jupyter-widgets/controls",
          "model_name": "HTMLModel",
          "model_module_version": "1.5.0",
          "state": {
            "_dom_classes": [],
            "_model_module": "@jupyter-widgets/controls",
            "_model_module_version": "1.5.0",
            "_model_name": "HTMLModel",
            "_view_count": null,
            "_view_module": "@jupyter-widgets/controls",
            "_view_module_version": "1.5.0",
            "_view_name": "HTMLView",
            "description": "",
            "description_tooltip": null,
            "layout": "IPY_MODEL_2bdfb476555347c1b96c094a49f66d33",
            "placeholder": "​",
            "style": "IPY_MODEL_ebd799d0bbf64e549d60d9b87c389c5a",
            "value": "model.safetensors.index.json: 100%"
          }
        },
        "3ef6aacae82242719c02d003d53485bc": {
          "model_module": "@jupyter-widgets/controls",
          "model_name": "FloatProgressModel",
          "model_module_version": "1.5.0",
          "state": {
            "_dom_classes": [],
            "_model_module": "@jupyter-widgets/controls",
            "_model_module_version": "1.5.0",
            "_model_name": "FloatProgressModel",
            "_view_count": null,
            "_view_module": "@jupyter-widgets/controls",
            "_view_module_version": "1.5.0",
            "_view_name": "ProgressView",
            "bar_style": "success",
            "description": "",
            "description_tooltip": null,
            "layout": "IPY_MODEL_b1cee9be774d402f9e4b1c009e1539ec",
            "max": 27752,
            "min": 0,
            "orientation": "horizontal",
            "style": "IPY_MODEL_c6419639843b45c99d32d116b0522d01",
            "value": 27752
          }
        },
        "5d8c19ad0f8749629318b46cc4575473": {
          "model_module": "@jupyter-widgets/controls",
          "model_name": "HTMLModel",
          "model_module_version": "1.5.0",
          "state": {
            "_dom_classes": [],
            "_model_module": "@jupyter-widgets/controls",
            "_model_module_version": "1.5.0",
            "_model_name": "HTMLModel",
            "_view_count": null,
            "_view_module": "@jupyter-widgets/controls",
            "_view_module_version": "1.5.0",
            "_view_name": "HTMLView",
            "description": "",
            "description_tooltip": null,
            "layout": "IPY_MODEL_d83a300f78324fb2bca8bf995bef471b",
            "placeholder": "​",
            "style": "IPY_MODEL_997ddd08360b4993825af13230c34fd0",
            "value": " 27.8k/27.8k [00:00&lt;00:00, 1.05MB/s]"
          }
        },
        "010d829e66394837a29d0fc4882fa058": {
          "model_module": "@jupyter-widgets/base",
          "model_name": "LayoutModel",
          "model_module_version": "1.2.0",
          "state": {
            "_model_module": "@jupyter-widgets/base",
            "_model_module_version": "1.2.0",
            "_model_name": "LayoutModel",
            "_view_count": null,
            "_view_module": "@jupyter-widgets/base",
            "_view_module_version": "1.2.0",
            "_view_name": "LayoutView",
            "align_content": null,
            "align_items": null,
            "align_self": null,
            "border": null,
            "bottom": null,
            "display": null,
            "flex": null,
            "flex_flow": null,
            "grid_area": null,
            "grid_auto_columns": null,
            "grid_auto_flow": null,
            "grid_auto_rows": null,
            "grid_column": null,
            "grid_gap": null,
            "grid_row": null,
            "grid_template_areas": null,
            "grid_template_columns": null,
            "grid_template_rows": null,
            "height": null,
            "justify_content": null,
            "justify_items": null,
            "left": null,
            "margin": null,
            "max_height": null,
            "max_width": null,
            "min_height": null,
            "min_width": null,
            "object_fit": null,
            "object_position": null,
            "order": null,
            "overflow": null,
            "overflow_x": null,
            "overflow_y": null,
            "padding": null,
            "right": null,
            "top": null,
            "visibility": null,
            "width": null
          }
        },
        "2bdfb476555347c1b96c094a49f66d33": {
          "model_module": "@jupyter-widgets/base",
          "model_name": "LayoutModel",
          "model_module_version": "1.2.0",
          "state": {
            "_model_module": "@jupyter-widgets/base",
            "_model_module_version": "1.2.0",
            "_model_name": "LayoutModel",
            "_view_count": null,
            "_view_module": "@jupyter-widgets/base",
            "_view_module_version": "1.2.0",
            "_view_name": "LayoutView",
            "align_content": null,
            "align_items": null,
            "align_self": null,
            "border": null,
            "bottom": null,
            "display": null,
            "flex": null,
            "flex_flow": null,
            "grid_area": null,
            "grid_auto_columns": null,
            "grid_auto_flow": null,
            "grid_auto_rows": null,
            "grid_column": null,
            "grid_gap": null,
            "grid_row": null,
            "grid_template_areas": null,
            "grid_template_columns": null,
            "grid_template_rows": null,
            "height": null,
            "justify_content": null,
            "justify_items": null,
            "left": null,
            "margin": null,
            "max_height": null,
            "max_width": null,
            "min_height": null,
            "min_width": null,
            "object_fit": null,
            "object_position": null,
            "order": null,
            "overflow": null,
            "overflow_x": null,
            "overflow_y": null,
            "padding": null,
            "right": null,
            "top": null,
            "visibility": null,
            "width": null
          }
        },
        "ebd799d0bbf64e549d60d9b87c389c5a": {
          "model_module": "@jupyter-widgets/controls",
          "model_name": "DescriptionStyleModel",
          "model_module_version": "1.5.0",
          "state": {
            "_model_module": "@jupyter-widgets/controls",
            "_model_module_version": "1.5.0",
            "_model_name": "DescriptionStyleModel",
            "_view_count": null,
            "_view_module": "@jupyter-widgets/base",
            "_view_module_version": "1.2.0",
            "_view_name": "StyleView",
            "description_width": ""
          }
        },
        "b1cee9be774d402f9e4b1c009e1539ec": {
          "model_module": "@jupyter-widgets/base",
          "model_name": "LayoutModel",
          "model_module_version": "1.2.0",
          "state": {
            "_model_module": "@jupyter-widgets/base",
            "_model_module_version": "1.2.0",
            "_model_name": "LayoutModel",
            "_view_count": null,
            "_view_module": "@jupyter-widgets/base",
            "_view_module_version": "1.2.0",
            "_view_name": "LayoutView",
            "align_content": null,
            "align_items": null,
            "align_self": null,
            "border": null,
            "bottom": null,
            "display": null,
            "flex": null,
            "flex_flow": null,
            "grid_area": null,
            "grid_auto_columns": null,
            "grid_auto_flow": null,
            "grid_auto_rows": null,
            "grid_column": null,
            "grid_gap": null,
            "grid_row": null,
            "grid_template_areas": null,
            "grid_template_columns": null,
            "grid_template_rows": null,
            "height": null,
            "justify_content": null,
            "justify_items": null,
            "left": null,
            "margin": null,
            "max_height": null,
            "max_width": null,
            "min_height": null,
            "min_width": null,
            "object_fit": null,
            "object_position": null,
            "order": null,
            "overflow": null,
            "overflow_x": null,
            "overflow_y": null,
            "padding": null,
            "right": null,
            "top": null,
            "visibility": null,
            "width": null
          }
        },
        "c6419639843b45c99d32d116b0522d01": {
          "model_module": "@jupyter-widgets/controls",
          "model_name": "ProgressStyleModel",
          "model_module_version": "1.5.0",
          "state": {
            "_model_module": "@jupyter-widgets/controls",
            "_model_module_version": "1.5.0",
            "_model_name": "ProgressStyleModel",
            "_view_count": null,
            "_view_module": "@jupyter-widgets/base",
            "_view_module_version": "1.2.0",
            "_view_name": "StyleView",
            "bar_color": null,
            "description_width": ""
          }
        },
        "d83a300f78324fb2bca8bf995bef471b": {
          "model_module": "@jupyter-widgets/base",
          "model_name": "LayoutModel",
          "model_module_version": "1.2.0",
          "state": {
            "_model_module": "@jupyter-widgets/base",
            "_model_module_version": "1.2.0",
            "_model_name": "LayoutModel",
            "_view_count": null,
            "_view_module": "@jupyter-widgets/base",
            "_view_module_version": "1.2.0",
            "_view_name": "LayoutView",
            "align_content": null,
            "align_items": null,
            "align_self": null,
            "border": null,
            "bottom": null,
            "display": null,
            "flex": null,
            "flex_flow": null,
            "grid_area": null,
            "grid_auto_columns": null,
            "grid_auto_flow": null,
            "grid_auto_rows": null,
            "grid_column": null,
            "grid_gap": null,
            "grid_row": null,
            "grid_template_areas": null,
            "grid_template_columns": null,
            "grid_template_rows": null,
            "height": null,
            "justify_content": null,
            "justify_items": null,
            "left": null,
            "margin": null,
            "max_height": null,
            "max_width": null,
            "min_height": null,
            "min_width": null,
            "object_fit": null,
            "object_position": null,
            "order": null,
            "overflow": null,
            "overflow_x": null,
            "overflow_y": null,
            "padding": null,
            "right": null,
            "top": null,
            "visibility": null,
            "width": null
          }
        },
        "997ddd08360b4993825af13230c34fd0": {
          "model_module": "@jupyter-widgets/controls",
          "model_name": "DescriptionStyleModel",
          "model_module_version": "1.5.0",
          "state": {
            "_model_module": "@jupyter-widgets/controls",
            "_model_module_version": "1.5.0",
            "_model_name": "DescriptionStyleModel",
            "_view_count": null,
            "_view_module": "@jupyter-widgets/base",
            "_view_module_version": "1.2.0",
            "_view_name": "StyleView",
            "description_width": ""
          }
        },
        "ed19f06400b24400bc386a9c421cfd11": {
          "model_module": "@jupyter-widgets/controls",
          "model_name": "HBoxModel",
          "model_module_version": "1.5.0",
          "state": {
            "_dom_classes": [],
            "_model_module": "@jupyter-widgets/controls",
            "_model_module_version": "1.5.0",
            "_model_name": "HBoxModel",
            "_view_count": null,
            "_view_module": "@jupyter-widgets/controls",
            "_view_module_version": "1.5.0",
            "_view_name": "HBoxView",
            "box_style": "",
            "children": [
              "IPY_MODEL_7dfe678935b54795a8c5b38cbe3c5306",
              "IPY_MODEL_bc4c8e5f464345cf9f366027dbe2b5f9",
              "IPY_MODEL_e79323407726451a9afca77d7e5a607b"
            ],
            "layout": "IPY_MODEL_95b1046bed8441a6bc224d9f677f591d"
          }
        },
        "7dfe678935b54795a8c5b38cbe3c5306": {
          "model_module": "@jupyter-widgets/controls",
          "model_name": "HTMLModel",
          "model_module_version": "1.5.0",
          "state": {
            "_dom_classes": [],
            "_model_module": "@jupyter-widgets/controls",
            "_model_module_version": "1.5.0",
            "_model_name": "HTMLModel",
            "_view_count": null,
            "_view_module": "@jupyter-widgets/controls",
            "_view_module_version": "1.5.0",
            "_view_name": "HTMLView",
            "description": "",
            "description_tooltip": null,
            "layout": "IPY_MODEL_50e6dcdce41b4c3ea8af41fb8c5edb14",
            "placeholder": "​",
            "style": "IPY_MODEL_d176db8651014b06b4998a7e7375150b",
            "value": "Fetching 4 files: 100%"
          }
        },
        "bc4c8e5f464345cf9f366027dbe2b5f9": {
          "model_module": "@jupyter-widgets/controls",
          "model_name": "FloatProgressModel",
          "model_module_version": "1.5.0",
          "state": {
            "_dom_classes": [],
            "_model_module": "@jupyter-widgets/controls",
            "_model_module_version": "1.5.0",
            "_model_name": "FloatProgressModel",
            "_view_count": null,
            "_view_module": "@jupyter-widgets/controls",
            "_view_module_version": "1.5.0",
            "_view_name": "ProgressView",
            "bar_style": "success",
            "description": "",
            "description_tooltip": null,
            "layout": "IPY_MODEL_b8192b05ed2945a581a238dbb33c77d5",
            "max": 4,
            "min": 0,
            "orientation": "horizontal",
            "style": "IPY_MODEL_253dd982726048939f65f77b78eb2566",
            "value": 4
          }
        },
        "e79323407726451a9afca77d7e5a607b": {
          "model_module": "@jupyter-widgets/controls",
          "model_name": "HTMLModel",
          "model_module_version": "1.5.0",
          "state": {
            "_dom_classes": [],
            "_model_module": "@jupyter-widgets/controls",
            "_model_module_version": "1.5.0",
            "_model_name": "HTMLModel",
            "_view_count": null,
            "_view_module": "@jupyter-widgets/controls",
            "_view_module_version": "1.5.0",
            "_view_name": "HTMLView",
            "description": "",
            "description_tooltip": null,
            "layout": "IPY_MODEL_74453999aba040c1b9a923636b348787",
            "placeholder": "​",
            "style": "IPY_MODEL_2cfea2f3b8304fa8a7f4075cd1d285f9",
            "value": " 4/4 [01:37&lt;00:00, 97.46s/it]"
          }
        },
        "95b1046bed8441a6bc224d9f677f591d": {
          "model_module": "@jupyter-widgets/base",
          "model_name": "LayoutModel",
          "model_module_version": "1.2.0",
          "state": {
            "_model_module": "@jupyter-widgets/base",
            "_model_module_version": "1.2.0",
            "_model_name": "LayoutModel",
            "_view_count": null,
            "_view_module": "@jupyter-widgets/base",
            "_view_module_version": "1.2.0",
            "_view_name": "LayoutView",
            "align_content": null,
            "align_items": null,
            "align_self": null,
            "border": null,
            "bottom": null,
            "display": null,
            "flex": null,
            "flex_flow": null,
            "grid_area": null,
            "grid_auto_columns": null,
            "grid_auto_flow": null,
            "grid_auto_rows": null,
            "grid_column": null,
            "grid_gap": null,
            "grid_row": null,
            "grid_template_areas": null,
            "grid_template_columns": null,
            "grid_template_rows": null,
            "height": null,
            "justify_content": null,
            "justify_items": null,
            "left": null,
            "margin": null,
            "max_height": null,
            "max_width": null,
            "min_height": null,
            "min_width": null,
            "object_fit": null,
            "object_position": null,
            "order": null,
            "overflow": null,
            "overflow_x": null,
            "overflow_y": null,
            "padding": null,
            "right": null,
            "top": null,
            "visibility": null,
            "width": null
          }
        },
        "50e6dcdce41b4c3ea8af41fb8c5edb14": {
          "model_module": "@jupyter-widgets/base",
          "model_name": "LayoutModel",
          "model_module_version": "1.2.0",
          "state": {
            "_model_module": "@jupyter-widgets/base",
            "_model_module_version": "1.2.0",
            "_model_name": "LayoutModel",
            "_view_count": null,
            "_view_module": "@jupyter-widgets/base",
            "_view_module_version": "1.2.0",
            "_view_name": "LayoutView",
            "align_content": null,
            "align_items": null,
            "align_self": null,
            "border": null,
            "bottom": null,
            "display": null,
            "flex": null,
            "flex_flow": null,
            "grid_area": null,
            "grid_auto_columns": null,
            "grid_auto_flow": null,
            "grid_auto_rows": null,
            "grid_column": null,
            "grid_gap": null,
            "grid_row": null,
            "grid_template_areas": null,
            "grid_template_columns": null,
            "grid_template_rows": null,
            "height": null,
            "justify_content": null,
            "justify_items": null,
            "left": null,
            "margin": null,
            "max_height": null,
            "max_width": null,
            "min_height": null,
            "min_width": null,
            "object_fit": null,
            "object_position": null,
            "order": null,
            "overflow": null,
            "overflow_x": null,
            "overflow_y": null,
            "padding": null,
            "right": null,
            "top": null,
            "visibility": null,
            "width": null
          }
        },
        "d176db8651014b06b4998a7e7375150b": {
          "model_module": "@jupyter-widgets/controls",
          "model_name": "DescriptionStyleModel",
          "model_module_version": "1.5.0",
          "state": {
            "_model_module": "@jupyter-widgets/controls",
            "_model_module_version": "1.5.0",
            "_model_name": "DescriptionStyleModel",
            "_view_count": null,
            "_view_module": "@jupyter-widgets/base",
            "_view_module_version": "1.2.0",
            "_view_name": "StyleView",
            "description_width": ""
          }
        },
        "b8192b05ed2945a581a238dbb33c77d5": {
          "model_module": "@jupyter-widgets/base",
          "model_name": "LayoutModel",
          "model_module_version": "1.2.0",
          "state": {
            "_model_module": "@jupyter-widgets/base",
            "_model_module_version": "1.2.0",
            "_model_name": "LayoutModel",
            "_view_count": null,
            "_view_module": "@jupyter-widgets/base",
            "_view_module_version": "1.2.0",
            "_view_name": "LayoutView",
            "align_content": null,
            "align_items": null,
            "align_self": null,
            "border": null,
            "bottom": null,
            "display": null,
            "flex": null,
            "flex_flow": null,
            "grid_area": null,
            "grid_auto_columns": null,
            "grid_auto_flow": null,
            "grid_auto_rows": null,
            "grid_column": null,
            "grid_gap": null,
            "grid_row": null,
            "grid_template_areas": null,
            "grid_template_columns": null,
            "grid_template_rows": null,
            "height": null,
            "justify_content": null,
            "justify_items": null,
            "left": null,
            "margin": null,
            "max_height": null,
            "max_width": null,
            "min_height": null,
            "min_width": null,
            "object_fit": null,
            "object_position": null,
            "order": null,
            "overflow": null,
            "overflow_x": null,
            "overflow_y": null,
            "padding": null,
            "right": null,
            "top": null,
            "visibility": null,
            "width": null
          }
        },
        "253dd982726048939f65f77b78eb2566": {
          "model_module": "@jupyter-widgets/controls",
          "model_name": "ProgressStyleModel",
          "model_module_version": "1.5.0",
          "state": {
            "_model_module": "@jupyter-widgets/controls",
            "_model_module_version": "1.5.0",
            "_model_name": "ProgressStyleModel",
            "_view_count": null,
            "_view_module": "@jupyter-widgets/base",
            "_view_module_version": "1.2.0",
            "_view_name": "StyleView",
            "bar_color": null,
            "description_width": ""
          }
        },
        "74453999aba040c1b9a923636b348787": {
          "model_module": "@jupyter-widgets/base",
          "model_name": "LayoutModel",
          "model_module_version": "1.2.0",
          "state": {
            "_model_module": "@jupyter-widgets/base",
            "_model_module_version": "1.2.0",
            "_model_name": "LayoutModel",
            "_view_count": null,
            "_view_module": "@jupyter-widgets/base",
            "_view_module_version": "1.2.0",
            "_view_name": "LayoutView",
            "align_content": null,
            "align_items": null,
            "align_self": null,
            "border": null,
            "bottom": null,
            "display": null,
            "flex": null,
            "flex_flow": null,
            "grid_area": null,
            "grid_auto_columns": null,
            "grid_auto_flow": null,
            "grid_auto_rows": null,
            "grid_column": null,
            "grid_gap": null,
            "grid_row": null,
            "grid_template_areas": null,
            "grid_template_columns": null,
            "grid_template_rows": null,
            "height": null,
            "justify_content": null,
            "justify_items": null,
            "left": null,
            "margin": null,
            "max_height": null,
            "max_width": null,
            "min_height": null,
            "min_width": null,
            "object_fit": null,
            "object_position": null,
            "order": null,
            "overflow": null,
            "overflow_x": null,
            "overflow_y": null,
            "padding": null,
            "right": null,
            "top": null,
            "visibility": null,
            "width": null
          }
        },
        "2cfea2f3b8304fa8a7f4075cd1d285f9": {
          "model_module": "@jupyter-widgets/controls",
          "model_name": "DescriptionStyleModel",
          "model_module_version": "1.5.0",
          "state": {
            "_model_module": "@jupyter-widgets/controls",
            "_model_module_version": "1.5.0",
            "_model_name": "DescriptionStyleModel",
            "_view_count": null,
            "_view_module": "@jupyter-widgets/base",
            "_view_module_version": "1.2.0",
            "_view_name": "StyleView",
            "description_width": ""
          }
        },
        "8b305eaddc7a4b339a010882d4bcf8a3": {
          "model_module": "@jupyter-widgets/controls",
          "model_name": "HBoxModel",
          "model_module_version": "1.5.0",
          "state": {
            "_dom_classes": [],
            "_model_module": "@jupyter-widgets/controls",
            "_model_module_version": "1.5.0",
            "_model_name": "HBoxModel",
            "_view_count": null,
            "_view_module": "@jupyter-widgets/controls",
            "_view_module_version": "1.5.0",
            "_view_name": "HBoxView",
            "box_style": "",
            "children": [
              "IPY_MODEL_7fb5af921c244f2a989e01c1ba5dc5b9",
              "IPY_MODEL_ad69017f344b47ecad0b4d5b99336b4a",
              "IPY_MODEL_8b0364597e3b4e068260006b4cdf253b"
            ],
            "layout": "IPY_MODEL_37b88d74cffe4596bfc6db9caffda950"
          }
        },
        "7fb5af921c244f2a989e01c1ba5dc5b9": {
          "model_module": "@jupyter-widgets/controls",
          "model_name": "HTMLModel",
          "model_module_version": "1.5.0",
          "state": {
            "_dom_classes": [],
            "_model_module": "@jupyter-widgets/controls",
            "_model_module_version": "1.5.0",
            "_model_name": "HTMLModel",
            "_view_count": null,
            "_view_module": "@jupyter-widgets/controls",
            "_view_module_version": "1.5.0",
            "_view_name": "HTMLView",
            "description": "",
            "description_tooltip": null,
            "layout": "IPY_MODEL_8da53fd4bb31426cbf309512df1b6aa3",
            "placeholder": "​",
            "style": "IPY_MODEL_1de265930a0d403d9e7ac3eae6bbbcbf",
            "value": "model-00001-of-00004.safetensors: 100%"
          }
        },
        "ad69017f344b47ecad0b4d5b99336b4a": {
          "model_module": "@jupyter-widgets/controls",
          "model_name": "FloatProgressModel",
          "model_module_version": "1.5.0",
          "state": {
            "_dom_classes": [],
            "_model_module": "@jupyter-widgets/controls",
            "_model_module_version": "1.5.0",
            "_model_name": "FloatProgressModel",
            "_view_count": null,
            "_view_module": "@jupyter-widgets/controls",
            "_view_module_version": "1.5.0",
            "_view_name": "ProgressView",
            "bar_style": "success",
            "description": "",
            "description_tooltip": null,
            "layout": "IPY_MODEL_03037c5c0a174b958525d58a17729e9a",
            "max": 4877660776,
            "min": 0,
            "orientation": "horizontal",
            "style": "IPY_MODEL_1cf5b46ef73b468c8c916cdb084c12b4",
            "value": 4877660776
          }
        },
        "8b0364597e3b4e068260006b4cdf253b": {
          "model_module": "@jupyter-widgets/controls",
          "model_name": "HTMLModel",
          "model_module_version": "1.5.0",
          "state": {
            "_dom_classes": [],
            "_model_module": "@jupyter-widgets/controls",
            "_model_module_version": "1.5.0",
            "_model_name": "HTMLModel",
            "_view_count": null,
            "_view_module": "@jupyter-widgets/controls",
            "_view_module_version": "1.5.0",
            "_view_name": "HTMLView",
            "description": "",
            "description_tooltip": null,
            "layout": "IPY_MODEL_75d6cc073a984115a0f20dd142d641ba",
            "placeholder": "​",
            "style": "IPY_MODEL_cde3435c82b2420f9a006e34f3c71ac2",
            "value": " 4.88G/4.88G [01:37&lt;00:00, 76.0MB/s]"
          }
        },
        "37b88d74cffe4596bfc6db9caffda950": {
          "model_module": "@jupyter-widgets/base",
          "model_name": "LayoutModel",
          "model_module_version": "1.2.0",
          "state": {
            "_model_module": "@jupyter-widgets/base",
            "_model_module_version": "1.2.0",
            "_model_name": "LayoutModel",
            "_view_count": null,
            "_view_module": "@jupyter-widgets/base",
            "_view_module_version": "1.2.0",
            "_view_name": "LayoutView",
            "align_content": null,
            "align_items": null,
            "align_self": null,
            "border": null,
            "bottom": null,
            "display": null,
            "flex": null,
            "flex_flow": null,
            "grid_area": null,
            "grid_auto_columns": null,
            "grid_auto_flow": null,
            "grid_auto_rows": null,
            "grid_column": null,
            "grid_gap": null,
            "grid_row": null,
            "grid_template_areas": null,
            "grid_template_columns": null,
            "grid_template_rows": null,
            "height": null,
            "justify_content": null,
            "justify_items": null,
            "left": null,
            "margin": null,
            "max_height": null,
            "max_width": null,
            "min_height": null,
            "min_width": null,
            "object_fit": null,
            "object_position": null,
            "order": null,
            "overflow": null,
            "overflow_x": null,
            "overflow_y": null,
            "padding": null,
            "right": null,
            "top": null,
            "visibility": null,
            "width": null
          }
        },
        "8da53fd4bb31426cbf309512df1b6aa3": {
          "model_module": "@jupyter-widgets/base",
          "model_name": "LayoutModel",
          "model_module_version": "1.2.0",
          "state": {
            "_model_module": "@jupyter-widgets/base",
            "_model_module_version": "1.2.0",
            "_model_name": "LayoutModel",
            "_view_count": null,
            "_view_module": "@jupyter-widgets/base",
            "_view_module_version": "1.2.0",
            "_view_name": "LayoutView",
            "align_content": null,
            "align_items": null,
            "align_self": null,
            "border": null,
            "bottom": null,
            "display": null,
            "flex": null,
            "flex_flow": null,
            "grid_area": null,
            "grid_auto_columns": null,
            "grid_auto_flow": null,
            "grid_auto_rows": null,
            "grid_column": null,
            "grid_gap": null,
            "grid_row": null,
            "grid_template_areas": null,
            "grid_template_columns": null,
            "grid_template_rows": null,
            "height": null,
            "justify_content": null,
            "justify_items": null,
            "left": null,
            "margin": null,
            "max_height": null,
            "max_width": null,
            "min_height": null,
            "min_width": null,
            "object_fit": null,
            "object_position": null,
            "order": null,
            "overflow": null,
            "overflow_x": null,
            "overflow_y": null,
            "padding": null,
            "right": null,
            "top": null,
            "visibility": null,
            "width": null
          }
        },
        "1de265930a0d403d9e7ac3eae6bbbcbf": {
          "model_module": "@jupyter-widgets/controls",
          "model_name": "DescriptionStyleModel",
          "model_module_version": "1.5.0",
          "state": {
            "_model_module": "@jupyter-widgets/controls",
            "_model_module_version": "1.5.0",
            "_model_name": "DescriptionStyleModel",
            "_view_count": null,
            "_view_module": "@jupyter-widgets/base",
            "_view_module_version": "1.2.0",
            "_view_name": "StyleView",
            "description_width": ""
          }
        },
        "03037c5c0a174b958525d58a17729e9a": {
          "model_module": "@jupyter-widgets/base",
          "model_name": "LayoutModel",
          "model_module_version": "1.2.0",
          "state": {
            "_model_module": "@jupyter-widgets/base",
            "_model_module_version": "1.2.0",
            "_model_name": "LayoutModel",
            "_view_count": null,
            "_view_module": "@jupyter-widgets/base",
            "_view_module_version": "1.2.0",
            "_view_name": "LayoutView",
            "align_content": null,
            "align_items": null,
            "align_self": null,
            "border": null,
            "bottom": null,
            "display": null,
            "flex": null,
            "flex_flow": null,
            "grid_area": null,
            "grid_auto_columns": null,
            "grid_auto_flow": null,
            "grid_auto_rows": null,
            "grid_column": null,
            "grid_gap": null,
            "grid_row": null,
            "grid_template_areas": null,
            "grid_template_columns": null,
            "grid_template_rows": null,
            "height": null,
            "justify_content": null,
            "justify_items": null,
            "left": null,
            "margin": null,
            "max_height": null,
            "max_width": null,
            "min_height": null,
            "min_width": null,
            "object_fit": null,
            "object_position": null,
            "order": null,
            "overflow": null,
            "overflow_x": null,
            "overflow_y": null,
            "padding": null,
            "right": null,
            "top": null,
            "visibility": null,
            "width": null
          }
        },
        "1cf5b46ef73b468c8c916cdb084c12b4": {
          "model_module": "@jupyter-widgets/controls",
          "model_name": "ProgressStyleModel",
          "model_module_version": "1.5.0",
          "state": {
            "_model_module": "@jupyter-widgets/controls",
            "_model_module_version": "1.5.0",
            "_model_name": "ProgressStyleModel",
            "_view_count": null,
            "_view_module": "@jupyter-widgets/base",
            "_view_module_version": "1.2.0",
            "_view_name": "StyleView",
            "bar_color": null,
            "description_width": ""
          }
        },
        "75d6cc073a984115a0f20dd142d641ba": {
          "model_module": "@jupyter-widgets/base",
          "model_name": "LayoutModel",
          "model_module_version": "1.2.0",
          "state": {
            "_model_module": "@jupyter-widgets/base",
            "_model_module_version": "1.2.0",
            "_model_name": "LayoutModel",
            "_view_count": null,
            "_view_module": "@jupyter-widgets/base",
            "_view_module_version": "1.2.0",
            "_view_name": "LayoutView",
            "align_content": null,
            "align_items": null,
            "align_self": null,
            "border": null,
            "bottom": null,
            "display": null,
            "flex": null,
            "flex_flow": null,
            "grid_area": null,
            "grid_auto_columns": null,
            "grid_auto_flow": null,
            "grid_auto_rows": null,
            "grid_column": null,
            "grid_gap": null,
            "grid_row": null,
            "grid_template_areas": null,
            "grid_template_columns": null,
            "grid_template_rows": null,
            "height": null,
            "justify_content": null,
            "justify_items": null,
            "left": null,
            "margin": null,
            "max_height": null,
            "max_width": null,
            "min_height": null,
            "min_width": null,
            "object_fit": null,
            "object_position": null,
            "order": null,
            "overflow": null,
            "overflow_x": null,
            "overflow_y": null,
            "padding": null,
            "right": null,
            "top": null,
            "visibility": null,
            "width": null
          }
        },
        "cde3435c82b2420f9a006e34f3c71ac2": {
          "model_module": "@jupyter-widgets/controls",
          "model_name": "DescriptionStyleModel",
          "model_module_version": "1.5.0",
          "state": {
            "_model_module": "@jupyter-widgets/controls",
            "_model_module_version": "1.5.0",
            "_model_name": "DescriptionStyleModel",
            "_view_count": null,
            "_view_module": "@jupyter-widgets/base",
            "_view_module_version": "1.2.0",
            "_view_name": "StyleView",
            "description_width": ""
          }
        },
        "012a23e5e7a743a8b19393bf50253bcd": {
          "model_module": "@jupyter-widgets/controls",
          "model_name": "HBoxModel",
          "model_module_version": "1.5.0",
          "state": {
            "_dom_classes": [],
            "_model_module": "@jupyter-widgets/controls",
            "_model_module_version": "1.5.0",
            "_model_name": "HBoxModel",
            "_view_count": null,
            "_view_module": "@jupyter-widgets/controls",
            "_view_module_version": "1.5.0",
            "_view_name": "HBoxView",
            "box_style": "",
            "children": [
              "IPY_MODEL_40835e86bc564bc9a042e94dd02a2253",
              "IPY_MODEL_bcc1a4847ae34da78c50e1eb4b93746a",
              "IPY_MODEL_d644f2af199046469cd7181c6e7ebfc7"
            ],
            "layout": "IPY_MODEL_591d56e61c45402bbd22eb8936b2369e"
          }
        },
        "40835e86bc564bc9a042e94dd02a2253": {
          "model_module": "@jupyter-widgets/controls",
          "model_name": "HTMLModel",
          "model_module_version": "1.5.0",
          "state": {
            "_dom_classes": [],
            "_model_module": "@jupyter-widgets/controls",
            "_model_module_version": "1.5.0",
            "_model_name": "HTMLModel",
            "_view_count": null,
            "_view_module": "@jupyter-widgets/controls",
            "_view_module_version": "1.5.0",
            "_view_name": "HTMLView",
            "description": "",
            "description_tooltip": null,
            "layout": "IPY_MODEL_e3183140fccf4694b1eedb2e2e19fec0",
            "placeholder": "​",
            "style": "IPY_MODEL_39444eba3e714276b494549a9ba05ab7",
            "value": "model-00003-of-00004.safetensors: 100%"
          }
        },
        "bcc1a4847ae34da78c50e1eb4b93746a": {
          "model_module": "@jupyter-widgets/controls",
          "model_name": "FloatProgressModel",
          "model_module_version": "1.5.0",
          "state": {
            "_dom_classes": [],
            "_model_module": "@jupyter-widgets/controls",
            "_model_module_version": "1.5.0",
            "_model_name": "FloatProgressModel",
            "_view_count": null,
            "_view_module": "@jupyter-widgets/controls",
            "_view_module_version": "1.5.0",
            "_view_name": "ProgressView",
            "bar_style": "success",
            "description": "",
            "description_tooltip": null,
            "layout": "IPY_MODEL_76b86b82b1eb40c48e6346d49713009b",
            "max": 4330865200,
            "min": 0,
            "orientation": "horizontal",
            "style": "IPY_MODEL_c61b7a51631844628a6164856b13ec84",
            "value": 4330865200
          }
        },
        "d644f2af199046469cd7181c6e7ebfc7": {
          "model_module": "@jupyter-widgets/controls",
          "model_name": "HTMLModel",
          "model_module_version": "1.5.0",
          "state": {
            "_dom_classes": [],
            "_model_module": "@jupyter-widgets/controls",
            "_model_module_version": "1.5.0",
            "_model_name": "HTMLModel",
            "_view_count": null,
            "_view_module": "@jupyter-widgets/controls",
            "_view_module_version": "1.5.0",
            "_view_name": "HTMLView",
            "description": "",
            "description_tooltip": null,
            "layout": "IPY_MODEL_1c8a19ce0bd04038a1b7466eaa58959d",
            "placeholder": "​",
            "style": "IPY_MODEL_d35c38352ca54a29a6ad3d9653a6f1e5",
            "value": " 4.33G/4.33G [01:22&lt;00:00, 81.4MB/s]"
          }
        },
        "591d56e61c45402bbd22eb8936b2369e": {
          "model_module": "@jupyter-widgets/base",
          "model_name": "LayoutModel",
          "model_module_version": "1.2.0",
          "state": {
            "_model_module": "@jupyter-widgets/base",
            "_model_module_version": "1.2.0",
            "_model_name": "LayoutModel",
            "_view_count": null,
            "_view_module": "@jupyter-widgets/base",
            "_view_module_version": "1.2.0",
            "_view_name": "LayoutView",
            "align_content": null,
            "align_items": null,
            "align_self": null,
            "border": null,
            "bottom": null,
            "display": null,
            "flex": null,
            "flex_flow": null,
            "grid_area": null,
            "grid_auto_columns": null,
            "grid_auto_flow": null,
            "grid_auto_rows": null,
            "grid_column": null,
            "grid_gap": null,
            "grid_row": null,
            "grid_template_areas": null,
            "grid_template_columns": null,
            "grid_template_rows": null,
            "height": null,
            "justify_content": null,
            "justify_items": null,
            "left": null,
            "margin": null,
            "max_height": null,
            "max_width": null,
            "min_height": null,
            "min_width": null,
            "object_fit": null,
            "object_position": null,
            "order": null,
            "overflow": null,
            "overflow_x": null,
            "overflow_y": null,
            "padding": null,
            "right": null,
            "top": null,
            "visibility": null,
            "width": null
          }
        },
        "e3183140fccf4694b1eedb2e2e19fec0": {
          "model_module": "@jupyter-widgets/base",
          "model_name": "LayoutModel",
          "model_module_version": "1.2.0",
          "state": {
            "_model_module": "@jupyter-widgets/base",
            "_model_module_version": "1.2.0",
            "_model_name": "LayoutModel",
            "_view_count": null,
            "_view_module": "@jupyter-widgets/base",
            "_view_module_version": "1.2.0",
            "_view_name": "LayoutView",
            "align_content": null,
            "align_items": null,
            "align_self": null,
            "border": null,
            "bottom": null,
            "display": null,
            "flex": null,
            "flex_flow": null,
            "grid_area": null,
            "grid_auto_columns": null,
            "grid_auto_flow": null,
            "grid_auto_rows": null,
            "grid_column": null,
            "grid_gap": null,
            "grid_row": null,
            "grid_template_areas": null,
            "grid_template_columns": null,
            "grid_template_rows": null,
            "height": null,
            "justify_content": null,
            "justify_items": null,
            "left": null,
            "margin": null,
            "max_height": null,
            "max_width": null,
            "min_height": null,
            "min_width": null,
            "object_fit": null,
            "object_position": null,
            "order": null,
            "overflow": null,
            "overflow_x": null,
            "overflow_y": null,
            "padding": null,
            "right": null,
            "top": null,
            "visibility": null,
            "width": null
          }
        },
        "39444eba3e714276b494549a9ba05ab7": {
          "model_module": "@jupyter-widgets/controls",
          "model_name": "DescriptionStyleModel",
          "model_module_version": "1.5.0",
          "state": {
            "_model_module": "@jupyter-widgets/controls",
            "_model_module_version": "1.5.0",
            "_model_name": "DescriptionStyleModel",
            "_view_count": null,
            "_view_module": "@jupyter-widgets/base",
            "_view_module_version": "1.2.0",
            "_view_name": "StyleView",
            "description_width": ""
          }
        },
        "76b86b82b1eb40c48e6346d49713009b": {
          "model_module": "@jupyter-widgets/base",
          "model_name": "LayoutModel",
          "model_module_version": "1.2.0",
          "state": {
            "_model_module": "@jupyter-widgets/base",
            "_model_module_version": "1.2.0",
            "_model_name": "LayoutModel",
            "_view_count": null,
            "_view_module": "@jupyter-widgets/base",
            "_view_module_version": "1.2.0",
            "_view_name": "LayoutView",
            "align_content": null,
            "align_items": null,
            "align_self": null,
            "border": null,
            "bottom": null,
            "display": null,
            "flex": null,
            "flex_flow": null,
            "grid_area": null,
            "grid_auto_columns": null,
            "grid_auto_flow": null,
            "grid_auto_rows": null,
            "grid_column": null,
            "grid_gap": null,
            "grid_row": null,
            "grid_template_areas": null,
            "grid_template_columns": null,
            "grid_template_rows": null,
            "height": null,
            "justify_content": null,
            "justify_items": null,
            "left": null,
            "margin": null,
            "max_height": null,
            "max_width": null,
            "min_height": null,
            "min_width": null,
            "object_fit": null,
            "object_position": null,
            "order": null,
            "overflow": null,
            "overflow_x": null,
            "overflow_y": null,
            "padding": null,
            "right": null,
            "top": null,
            "visibility": null,
            "width": null
          }
        },
        "c61b7a51631844628a6164856b13ec84": {
          "model_module": "@jupyter-widgets/controls",
          "model_name": "ProgressStyleModel",
          "model_module_version": "1.5.0",
          "state": {
            "_model_module": "@jupyter-widgets/controls",
            "_model_module_version": "1.5.0",
            "_model_name": "ProgressStyleModel",
            "_view_count": null,
            "_view_module": "@jupyter-widgets/base",
            "_view_module_version": "1.2.0",
            "_view_name": "StyleView",
            "bar_color": null,
            "description_width": ""
          }
        },
        "1c8a19ce0bd04038a1b7466eaa58959d": {
          "model_module": "@jupyter-widgets/base",
          "model_name": "LayoutModel",
          "model_module_version": "1.2.0",
          "state": {
            "_model_module": "@jupyter-widgets/base",
            "_model_module_version": "1.2.0",
            "_model_name": "LayoutModel",
            "_view_count": null,
            "_view_module": "@jupyter-widgets/base",
            "_view_module_version": "1.2.0",
            "_view_name": "LayoutView",
            "align_content": null,
            "align_items": null,
            "align_self": null,
            "border": null,
            "bottom": null,
            "display": null,
            "flex": null,
            "flex_flow": null,
            "grid_area": null,
            "grid_auto_columns": null,
            "grid_auto_flow": null,
            "grid_auto_rows": null,
            "grid_column": null,
            "grid_gap": null,
            "grid_row": null,
            "grid_template_areas": null,
            "grid_template_columns": null,
            "grid_template_rows": null,
            "height": null,
            "justify_content": null,
            "justify_items": null,
            "left": null,
            "margin": null,
            "max_height": null,
            "max_width": null,
            "min_height": null,
            "min_width": null,
            "object_fit": null,
            "object_position": null,
            "order": null,
            "overflow": null,
            "overflow_x": null,
            "overflow_y": null,
            "padding": null,
            "right": null,
            "top": null,
            "visibility": null,
            "width": null
          }
        },
        "d35c38352ca54a29a6ad3d9653a6f1e5": {
          "model_module": "@jupyter-widgets/controls",
          "model_name": "DescriptionStyleModel",
          "model_module_version": "1.5.0",
          "state": {
            "_model_module": "@jupyter-widgets/controls",
            "_model_module_version": "1.5.0",
            "_model_name": "DescriptionStyleModel",
            "_view_count": null,
            "_view_module": "@jupyter-widgets/base",
            "_view_module_version": "1.2.0",
            "_view_name": "StyleView",
            "description_width": ""
          }
        },
        "060fb1a75ab641b8aaf59d1c6387650d": {
          "model_module": "@jupyter-widgets/controls",
          "model_name": "HBoxModel",
          "model_module_version": "1.5.0",
          "state": {
            "_dom_classes": [],
            "_model_module": "@jupyter-widgets/controls",
            "_model_module_version": "1.5.0",
            "_model_name": "HBoxModel",
            "_view_count": null,
            "_view_module": "@jupyter-widgets/controls",
            "_view_module_version": "1.5.0",
            "_view_name": "HBoxView",
            "box_style": "",
            "children": [
              "IPY_MODEL_a4a3927c64f34a168add5aa054727b3b",
              "IPY_MODEL_fd4e4d3aa9894fbb868f4f1657a0717f",
              "IPY_MODEL_915ebe0a22824ec2b928649c850643f7"
            ],
            "layout": "IPY_MODEL_ea1e8c01e8194a67b96852abb28a125a"
          }
        },
        "a4a3927c64f34a168add5aa054727b3b": {
          "model_module": "@jupyter-widgets/controls",
          "model_name": "HTMLModel",
          "model_module_version": "1.5.0",
          "state": {
            "_dom_classes": [],
            "_model_module": "@jupyter-widgets/controls",
            "_model_module_version": "1.5.0",
            "_model_name": "HTMLModel",
            "_view_count": null,
            "_view_module": "@jupyter-widgets/controls",
            "_view_module_version": "1.5.0",
            "_view_name": "HTMLView",
            "description": "",
            "description_tooltip": null,
            "layout": "IPY_MODEL_cac6e93065464311968f471b570c00e5",
            "placeholder": "​",
            "style": "IPY_MODEL_a94706630f644a6b9e536f6eaa4bded3",
            "value": "model-00004-of-00004.safetensors: 100%"
          }
        },
        "fd4e4d3aa9894fbb868f4f1657a0717f": {
          "model_module": "@jupyter-widgets/controls",
          "model_name": "FloatProgressModel",
          "model_module_version": "1.5.0",
          "state": {
            "_dom_classes": [],
            "_model_module": "@jupyter-widgets/controls",
            "_model_module_version": "1.5.0",
            "_model_name": "FloatProgressModel",
            "_view_count": null,
            "_view_module": "@jupyter-widgets/controls",
            "_view_module_version": "1.5.0",
            "_view_name": "ProgressView",
            "bar_style": "success",
            "description": "",
            "description_tooltip": null,
            "layout": "IPY_MODEL_c211039b19bd40b9aea04fcaf2943cab",
            "max": 1089994880,
            "min": 0,
            "orientation": "horizontal",
            "style": "IPY_MODEL_73202f38583d400989429a6c4f31aba3",
            "value": 1089994880
          }
        },
        "915ebe0a22824ec2b928649c850643f7": {
          "model_module": "@jupyter-widgets/controls",
          "model_name": "HTMLModel",
          "model_module_version": "1.5.0",
          "state": {
            "_dom_classes": [],
            "_model_module": "@jupyter-widgets/controls",
            "_model_module_version": "1.5.0",
            "_model_name": "HTMLModel",
            "_view_count": null,
            "_view_module": "@jupyter-widgets/controls",
            "_view_module_version": "1.5.0",
            "_view_name": "HTMLView",
            "description": "",
            "description_tooltip": null,
            "layout": "IPY_MODEL_4f82f68086ae48b082414f3c332fcfad",
            "placeholder": "​",
            "style": "IPY_MODEL_3e847a52c50447d0bfe73866e95b661f",
            "value": " 1.09G/1.09G [00:28&lt;00:00, 13.9MB/s]"
          }
        },
        "ea1e8c01e8194a67b96852abb28a125a": {
          "model_module": "@jupyter-widgets/base",
          "model_name": "LayoutModel",
          "model_module_version": "1.2.0",
          "state": {
            "_model_module": "@jupyter-widgets/base",
            "_model_module_version": "1.2.0",
            "_model_name": "LayoutModel",
            "_view_count": null,
            "_view_module": "@jupyter-widgets/base",
            "_view_module_version": "1.2.0",
            "_view_name": "LayoutView",
            "align_content": null,
            "align_items": null,
            "align_self": null,
            "border": null,
            "bottom": null,
            "display": null,
            "flex": null,
            "flex_flow": null,
            "grid_area": null,
            "grid_auto_columns": null,
            "grid_auto_flow": null,
            "grid_auto_rows": null,
            "grid_column": null,
            "grid_gap": null,
            "grid_row": null,
            "grid_template_areas": null,
            "grid_template_columns": null,
            "grid_template_rows": null,
            "height": null,
            "justify_content": null,
            "justify_items": null,
            "left": null,
            "margin": null,
            "max_height": null,
            "max_width": null,
            "min_height": null,
            "min_width": null,
            "object_fit": null,
            "object_position": null,
            "order": null,
            "overflow": null,
            "overflow_x": null,
            "overflow_y": null,
            "padding": null,
            "right": null,
            "top": null,
            "visibility": null,
            "width": null
          }
        },
        "cac6e93065464311968f471b570c00e5": {
          "model_module": "@jupyter-widgets/base",
          "model_name": "LayoutModel",
          "model_module_version": "1.2.0",
          "state": {
            "_model_module": "@jupyter-widgets/base",
            "_model_module_version": "1.2.0",
            "_model_name": "LayoutModel",
            "_view_count": null,
            "_view_module": "@jupyter-widgets/base",
            "_view_module_version": "1.2.0",
            "_view_name": "LayoutView",
            "align_content": null,
            "align_items": null,
            "align_self": null,
            "border": null,
            "bottom": null,
            "display": null,
            "flex": null,
            "flex_flow": null,
            "grid_area": null,
            "grid_auto_columns": null,
            "grid_auto_flow": null,
            "grid_auto_rows": null,
            "grid_column": null,
            "grid_gap": null,
            "grid_row": null,
            "grid_template_areas": null,
            "grid_template_columns": null,
            "grid_template_rows": null,
            "height": null,
            "justify_content": null,
            "justify_items": null,
            "left": null,
            "margin": null,
            "max_height": null,
            "max_width": null,
            "min_height": null,
            "min_width": null,
            "object_fit": null,
            "object_position": null,
            "order": null,
            "overflow": null,
            "overflow_x": null,
            "overflow_y": null,
            "padding": null,
            "right": null,
            "top": null,
            "visibility": null,
            "width": null
          }
        },
        "a94706630f644a6b9e536f6eaa4bded3": {
          "model_module": "@jupyter-widgets/controls",
          "model_name": "DescriptionStyleModel",
          "model_module_version": "1.5.0",
          "state": {
            "_model_module": "@jupyter-widgets/controls",
            "_model_module_version": "1.5.0",
            "_model_name": "DescriptionStyleModel",
            "_view_count": null,
            "_view_module": "@jupyter-widgets/base",
            "_view_module_version": "1.2.0",
            "_view_name": "StyleView",
            "description_width": ""
          }
        },
        "c211039b19bd40b9aea04fcaf2943cab": {
          "model_module": "@jupyter-widgets/base",
          "model_name": "LayoutModel",
          "model_module_version": "1.2.0",
          "state": {
            "_model_module": "@jupyter-widgets/base",
            "_model_module_version": "1.2.0",
            "_model_name": "LayoutModel",
            "_view_count": null,
            "_view_module": "@jupyter-widgets/base",
            "_view_module_version": "1.2.0",
            "_view_name": "LayoutView",
            "align_content": null,
            "align_items": null,
            "align_self": null,
            "border": null,
            "bottom": null,
            "display": null,
            "flex": null,
            "flex_flow": null,
            "grid_area": null,
            "grid_auto_columns": null,
            "grid_auto_flow": null,
            "grid_auto_rows": null,
            "grid_column": null,
            "grid_gap": null,
            "grid_row": null,
            "grid_template_areas": null,
            "grid_template_columns": null,
            "grid_template_rows": null,
            "height": null,
            "justify_content": null,
            "justify_items": null,
            "left": null,
            "margin": null,
            "max_height": null,
            "max_width": null,
            "min_height": null,
            "min_width": null,
            "object_fit": null,
            "object_position": null,
            "order": null,
            "overflow": null,
            "overflow_x": null,
            "overflow_y": null,
            "padding": null,
            "right": null,
            "top": null,
            "visibility": null,
            "width": null
          }
        },
        "73202f38583d400989429a6c4f31aba3": {
          "model_module": "@jupyter-widgets/controls",
          "model_name": "ProgressStyleModel",
          "model_module_version": "1.5.0",
          "state": {
            "_model_module": "@jupyter-widgets/controls",
            "_model_module_version": "1.5.0",
            "_model_name": "ProgressStyleModel",
            "_view_count": null,
            "_view_module": "@jupyter-widgets/base",
            "_view_module_version": "1.2.0",
            "_view_name": "StyleView",
            "bar_color": null,
            "description_width": ""
          }
        },
        "4f82f68086ae48b082414f3c332fcfad": {
          "model_module": "@jupyter-widgets/base",
          "model_name": "LayoutModel",
          "model_module_version": "1.2.0",
          "state": {
            "_model_module": "@jupyter-widgets/base",
            "_model_module_version": "1.2.0",
            "_model_name": "LayoutModel",
            "_view_count": null,
            "_view_module": "@jupyter-widgets/base",
            "_view_module_version": "1.2.0",
            "_view_name": "LayoutView",
            "align_content": null,
            "align_items": null,
            "align_self": null,
            "border": null,
            "bottom": null,
            "display": null,
            "flex": null,
            "flex_flow": null,
            "grid_area": null,
            "grid_auto_columns": null,
            "grid_auto_flow": null,
            "grid_auto_rows": null,
            "grid_column": null,
            "grid_gap": null,
            "grid_row": null,
            "grid_template_areas": null,
            "grid_template_columns": null,
            "grid_template_rows": null,
            "height": null,
            "justify_content": null,
            "justify_items": null,
            "left": null,
            "margin": null,
            "max_height": null,
            "max_width": null,
            "min_height": null,
            "min_width": null,
            "object_fit": null,
            "object_position": null,
            "order": null,
            "overflow": null,
            "overflow_x": null,
            "overflow_y": null,
            "padding": null,
            "right": null,
            "top": null,
            "visibility": null,
            "width": null
          }
        },
        "3e847a52c50447d0bfe73866e95b661f": {
          "model_module": "@jupyter-widgets/controls",
          "model_name": "DescriptionStyleModel",
          "model_module_version": "1.5.0",
          "state": {
            "_model_module": "@jupyter-widgets/controls",
            "_model_module_version": "1.5.0",
            "_model_name": "DescriptionStyleModel",
            "_view_count": null,
            "_view_module": "@jupyter-widgets/base",
            "_view_module_version": "1.2.0",
            "_view_name": "StyleView",
            "description_width": ""
          }
        },
        "ea8cb8e1fb1d472fa03c1b678a08913e": {
          "model_module": "@jupyter-widgets/controls",
          "model_name": "HBoxModel",
          "model_module_version": "1.5.0",
          "state": {
            "_dom_classes": [],
            "_model_module": "@jupyter-widgets/controls",
            "_model_module_version": "1.5.0",
            "_model_name": "HBoxModel",
            "_view_count": null,
            "_view_module": "@jupyter-widgets/controls",
            "_view_module_version": "1.5.0",
            "_view_name": "HBoxView",
            "box_style": "",
            "children": [
              "IPY_MODEL_a67dca25ea9344efb9ef21fa94fbe25b",
              "IPY_MODEL_0574d4eb7b204b0ebdeef7f7b7065b53",
              "IPY_MODEL_5842de04410d4a109af38154661000c8"
            ],
            "layout": "IPY_MODEL_dc2c6c56ef624d138b8a876492397f4a"
          }
        },
        "a67dca25ea9344efb9ef21fa94fbe25b": {
          "model_module": "@jupyter-widgets/controls",
          "model_name": "HTMLModel",
          "model_module_version": "1.5.0",
          "state": {
            "_dom_classes": [],
            "_model_module": "@jupyter-widgets/controls",
            "_model_module_version": "1.5.0",
            "_model_name": "HTMLModel",
            "_view_count": null,
            "_view_module": "@jupyter-widgets/controls",
            "_view_module_version": "1.5.0",
            "_view_name": "HTMLView",
            "description": "",
            "description_tooltip": null,
            "layout": "IPY_MODEL_472b12c8fdb84a62a4a4bea5faea0e38",
            "placeholder": "​",
            "style": "IPY_MODEL_9dcd0e7bcf6e45abb63b160c879af6c6",
            "value": "model-00002-of-00004.safetensors: 100%"
          }
        },
        "0574d4eb7b204b0ebdeef7f7b7065b53": {
          "model_module": "@jupyter-widgets/controls",
          "model_name": "FloatProgressModel",
          "model_module_version": "1.5.0",
          "state": {
            "_dom_classes": [],
            "_model_module": "@jupyter-widgets/controls",
            "_model_module_version": "1.5.0",
            "_model_name": "FloatProgressModel",
            "_view_count": null,
            "_view_module": "@jupyter-widgets/controls",
            "_view_module_version": "1.5.0",
            "_view_name": "ProgressView",
            "bar_style": "success",
            "description": "",
            "description_tooltip": null,
            "layout": "IPY_MODEL_b8832422e43a4685b006ed4a2fd03211",
            "max": 4932751008,
            "min": 0,
            "orientation": "horizontal",
            "style": "IPY_MODEL_182a5b4f07db49b1a2d2107f636f99c6",
            "value": 4932751008
          }
        },
        "5842de04410d4a109af38154661000c8": {
          "model_module": "@jupyter-widgets/controls",
          "model_name": "HTMLModel",
          "model_module_version": "1.5.0",
          "state": {
            "_dom_classes": [],
            "_model_module": "@jupyter-widgets/controls",
            "_model_module_version": "1.5.0",
            "_model_name": "HTMLModel",
            "_view_count": null,
            "_view_module": "@jupyter-widgets/controls",
            "_view_module_version": "1.5.0",
            "_view_name": "HTMLView",
            "description": "",
            "description_tooltip": null,
            "layout": "IPY_MODEL_afa593902cfa412cbdbb6cfbf0802f9d",
            "placeholder": "​",
            "style": "IPY_MODEL_5bb1f8e379f142f2a9acf47ba57177de",
            "value": " 4.93G/4.93G [01:36&lt;00:00, 55.2MB/s]"
          }
        },
        "dc2c6c56ef624d138b8a876492397f4a": {
          "model_module": "@jupyter-widgets/base",
          "model_name": "LayoutModel",
          "model_module_version": "1.2.0",
          "state": {
            "_model_module": "@jupyter-widgets/base",
            "_model_module_version": "1.2.0",
            "_model_name": "LayoutModel",
            "_view_count": null,
            "_view_module": "@jupyter-widgets/base",
            "_view_module_version": "1.2.0",
            "_view_name": "LayoutView",
            "align_content": null,
            "align_items": null,
            "align_self": null,
            "border": null,
            "bottom": null,
            "display": null,
            "flex": null,
            "flex_flow": null,
            "grid_area": null,
            "grid_auto_columns": null,
            "grid_auto_flow": null,
            "grid_auto_rows": null,
            "grid_column": null,
            "grid_gap": null,
            "grid_row": null,
            "grid_template_areas": null,
            "grid_template_columns": null,
            "grid_template_rows": null,
            "height": null,
            "justify_content": null,
            "justify_items": null,
            "left": null,
            "margin": null,
            "max_height": null,
            "max_width": null,
            "min_height": null,
            "min_width": null,
            "object_fit": null,
            "object_position": null,
            "order": null,
            "overflow": null,
            "overflow_x": null,
            "overflow_y": null,
            "padding": null,
            "right": null,
            "top": null,
            "visibility": null,
            "width": null
          }
        },
        "472b12c8fdb84a62a4a4bea5faea0e38": {
          "model_module": "@jupyter-widgets/base",
          "model_name": "LayoutModel",
          "model_module_version": "1.2.0",
          "state": {
            "_model_module": "@jupyter-widgets/base",
            "_model_module_version": "1.2.0",
            "_model_name": "LayoutModel",
            "_view_count": null,
            "_view_module": "@jupyter-widgets/base",
            "_view_module_version": "1.2.0",
            "_view_name": "LayoutView",
            "align_content": null,
            "align_items": null,
            "align_self": null,
            "border": null,
            "bottom": null,
            "display": null,
            "flex": null,
            "flex_flow": null,
            "grid_area": null,
            "grid_auto_columns": null,
            "grid_auto_flow": null,
            "grid_auto_rows": null,
            "grid_column": null,
            "grid_gap": null,
            "grid_row": null,
            "grid_template_areas": null,
            "grid_template_columns": null,
            "grid_template_rows": null,
            "height": null,
            "justify_content": null,
            "justify_items": null,
            "left": null,
            "margin": null,
            "max_height": null,
            "max_width": null,
            "min_height": null,
            "min_width": null,
            "object_fit": null,
            "object_position": null,
            "order": null,
            "overflow": null,
            "overflow_x": null,
            "overflow_y": null,
            "padding": null,
            "right": null,
            "top": null,
            "visibility": null,
            "width": null
          }
        },
        "9dcd0e7bcf6e45abb63b160c879af6c6": {
          "model_module": "@jupyter-widgets/controls",
          "model_name": "DescriptionStyleModel",
          "model_module_version": "1.5.0",
          "state": {
            "_model_module": "@jupyter-widgets/controls",
            "_model_module_version": "1.5.0",
            "_model_name": "DescriptionStyleModel",
            "_view_count": null,
            "_view_module": "@jupyter-widgets/base",
            "_view_module_version": "1.2.0",
            "_view_name": "StyleView",
            "description_width": ""
          }
        },
        "b8832422e43a4685b006ed4a2fd03211": {
          "model_module": "@jupyter-widgets/base",
          "model_name": "LayoutModel",
          "model_module_version": "1.2.0",
          "state": {
            "_model_module": "@jupyter-widgets/base",
            "_model_module_version": "1.2.0",
            "_model_name": "LayoutModel",
            "_view_count": null,
            "_view_module": "@jupyter-widgets/base",
            "_view_module_version": "1.2.0",
            "_view_name": "LayoutView",
            "align_content": null,
            "align_items": null,
            "align_self": null,
            "border": null,
            "bottom": null,
            "display": null,
            "flex": null,
            "flex_flow": null,
            "grid_area": null,
            "grid_auto_columns": null,
            "grid_auto_flow": null,
            "grid_auto_rows": null,
            "grid_column": null,
            "grid_gap": null,
            "grid_row": null,
            "grid_template_areas": null,
            "grid_template_columns": null,
            "grid_template_rows": null,
            "height": null,
            "justify_content": null,
            "justify_items": null,
            "left": null,
            "margin": null,
            "max_height": null,
            "max_width": null,
            "min_height": null,
            "min_width": null,
            "object_fit": null,
            "object_position": null,
            "order": null,
            "overflow": null,
            "overflow_x": null,
            "overflow_y": null,
            "padding": null,
            "right": null,
            "top": null,
            "visibility": null,
            "width": null
          }
        },
        "182a5b4f07db49b1a2d2107f636f99c6": {
          "model_module": "@jupyter-widgets/controls",
          "model_name": "ProgressStyleModel",
          "model_module_version": "1.5.0",
          "state": {
            "_model_module": "@jupyter-widgets/controls",
            "_model_module_version": "1.5.0",
            "_model_name": "ProgressStyleModel",
            "_view_count": null,
            "_view_module": "@jupyter-widgets/base",
            "_view_module_version": "1.2.0",
            "_view_name": "StyleView",
            "bar_color": null,
            "description_width": ""
          }
        },
        "afa593902cfa412cbdbb6cfbf0802f9d": {
          "model_module": "@jupyter-widgets/base",
          "model_name": "LayoutModel",
          "model_module_version": "1.2.0",
          "state": {
            "_model_module": "@jupyter-widgets/base",
            "_model_module_version": "1.2.0",
            "_model_name": "LayoutModel",
            "_view_count": null,
            "_view_module": "@jupyter-widgets/base",
            "_view_module_version": "1.2.0",
            "_view_name": "LayoutView",
            "align_content": null,
            "align_items": null,
            "align_self": null,
            "border": null,
            "bottom": null,
            "display": null,
            "flex": null,
            "flex_flow": null,
            "grid_area": null,
            "grid_auto_columns": null,
            "grid_auto_flow": null,
            "grid_auto_rows": null,
            "grid_column": null,
            "grid_gap": null,
            "grid_row": null,
            "grid_template_areas": null,
            "grid_template_columns": null,
            "grid_template_rows": null,
            "height": null,
            "justify_content": null,
            "justify_items": null,
            "left": null,
            "margin": null,
            "max_height": null,
            "max_width": null,
            "min_height": null,
            "min_width": null,
            "object_fit": null,
            "object_position": null,
            "order": null,
            "overflow": null,
            "overflow_x": null,
            "overflow_y": null,
            "padding": null,
            "right": null,
            "top": null,
            "visibility": null,
            "width": null
          }
        },
        "5bb1f8e379f142f2a9acf47ba57177de": {
          "model_module": "@jupyter-widgets/controls",
          "model_name": "DescriptionStyleModel",
          "model_module_version": "1.5.0",
          "state": {
            "_model_module": "@jupyter-widgets/controls",
            "_model_module_version": "1.5.0",
            "_model_name": "DescriptionStyleModel",
            "_view_count": null,
            "_view_module": "@jupyter-widgets/base",
            "_view_module_version": "1.2.0",
            "_view_name": "StyleView",
            "description_width": ""
          }
        },
        "52b018a4fbae4183af79514a82b43815": {
          "model_module": "@jupyter-widgets/controls",
          "model_name": "HBoxModel",
          "model_module_version": "1.5.0",
          "state": {
            "_dom_classes": [],
            "_model_module": "@jupyter-widgets/controls",
            "_model_module_version": "1.5.0",
            "_model_name": "HBoxModel",
            "_view_count": null,
            "_view_module": "@jupyter-widgets/controls",
            "_view_module_version": "1.5.0",
            "_view_name": "HBoxView",
            "box_style": "",
            "children": [
              "IPY_MODEL_3eeca41764e145a0802f1ecbc18abc6b",
              "IPY_MODEL_37b12d03cd0947a1af0f8ed0ca21c21a",
              "IPY_MODEL_cf84e0b92f494fc58c076a9662d0fde5"
            ],
            "layout": "IPY_MODEL_bd667eed312141a2870c9d8ed176d8ee"
          }
        },
        "3eeca41764e145a0802f1ecbc18abc6b": {
          "model_module": "@jupyter-widgets/controls",
          "model_name": "HTMLModel",
          "model_module_version": "1.5.0",
          "state": {
            "_dom_classes": [],
            "_model_module": "@jupyter-widgets/controls",
            "_model_module_version": "1.5.0",
            "_model_name": "HTMLModel",
            "_view_count": null,
            "_view_module": "@jupyter-widgets/controls",
            "_view_module_version": "1.5.0",
            "_view_name": "HTMLView",
            "description": "",
            "description_tooltip": null,
            "layout": "IPY_MODEL_313a2340da694c58b9c0d94b9512e9a1",
            "placeholder": "​",
            "style": "IPY_MODEL_9c09fe01dbf8421d9bb851c08e00fc47",
            "value": "Loading checkpoint shards: 100%"
          }
        },
        "37b12d03cd0947a1af0f8ed0ca21c21a": {
          "model_module": "@jupyter-widgets/controls",
          "model_name": "FloatProgressModel",
          "model_module_version": "1.5.0",
          "state": {
            "_dom_classes": [],
            "_model_module": "@jupyter-widgets/controls",
            "_model_module_version": "1.5.0",
            "_model_name": "FloatProgressModel",
            "_view_count": null,
            "_view_module": "@jupyter-widgets/controls",
            "_view_module_version": "1.5.0",
            "_view_name": "ProgressView",
            "bar_style": "success",
            "description": "",
            "description_tooltip": null,
            "layout": "IPY_MODEL_ab92845995244537878a142a96575b2a",
            "max": 4,
            "min": 0,
            "orientation": "horizontal",
            "style": "IPY_MODEL_77c68edc071d470bb3e192aa1f2ed04a",
            "value": 4
          }
        },
        "cf84e0b92f494fc58c076a9662d0fde5": {
          "model_module": "@jupyter-widgets/controls",
          "model_name": "HTMLModel",
          "model_module_version": "1.5.0",
          "state": {
            "_dom_classes": [],
            "_model_module": "@jupyter-widgets/controls",
            "_model_module_version": "1.5.0",
            "_model_name": "HTMLModel",
            "_view_count": null,
            "_view_module": "@jupyter-widgets/controls",
            "_view_module_version": "1.5.0",
            "_view_name": "HTMLView",
            "description": "",
            "description_tooltip": null,
            "layout": "IPY_MODEL_c2f48ca5d2ed44e7814284ab80ebff9a",
            "placeholder": "​",
            "style": "IPY_MODEL_fc2b35c64ee847f2837737e44958bf32",
            "value": " 4/4 [01:07&lt;00:00, 20.94s/it]"
          }
        },
        "bd667eed312141a2870c9d8ed176d8ee": {
          "model_module": "@jupyter-widgets/base",
          "model_name": "LayoutModel",
          "model_module_version": "1.2.0",
          "state": {
            "_model_module": "@jupyter-widgets/base",
            "_model_module_version": "1.2.0",
            "_model_name": "LayoutModel",
            "_view_count": null,
            "_view_module": "@jupyter-widgets/base",
            "_view_module_version": "1.2.0",
            "_view_name": "LayoutView",
            "align_content": null,
            "align_items": null,
            "align_self": null,
            "border": null,
            "bottom": null,
            "display": null,
            "flex": null,
            "flex_flow": null,
            "grid_area": null,
            "grid_auto_columns": null,
            "grid_auto_flow": null,
            "grid_auto_rows": null,
            "grid_column": null,
            "grid_gap": null,
            "grid_row": null,
            "grid_template_areas": null,
            "grid_template_columns": null,
            "grid_template_rows": null,
            "height": null,
            "justify_content": null,
            "justify_items": null,
            "left": null,
            "margin": null,
            "max_height": null,
            "max_width": null,
            "min_height": null,
            "min_width": null,
            "object_fit": null,
            "object_position": null,
            "order": null,
            "overflow": null,
            "overflow_x": null,
            "overflow_y": null,
            "padding": null,
            "right": null,
            "top": null,
            "visibility": null,
            "width": null
          }
        },
        "313a2340da694c58b9c0d94b9512e9a1": {
          "model_module": "@jupyter-widgets/base",
          "model_name": "LayoutModel",
          "model_module_version": "1.2.0",
          "state": {
            "_model_module": "@jupyter-widgets/base",
            "_model_module_version": "1.2.0",
            "_model_name": "LayoutModel",
            "_view_count": null,
            "_view_module": "@jupyter-widgets/base",
            "_view_module_version": "1.2.0",
            "_view_name": "LayoutView",
            "align_content": null,
            "align_items": null,
            "align_self": null,
            "border": null,
            "bottom": null,
            "display": null,
            "flex": null,
            "flex_flow": null,
            "grid_area": null,
            "grid_auto_columns": null,
            "grid_auto_flow": null,
            "grid_auto_rows": null,
            "grid_column": null,
            "grid_gap": null,
            "grid_row": null,
            "grid_template_areas": null,
            "grid_template_columns": null,
            "grid_template_rows": null,
            "height": null,
            "justify_content": null,
            "justify_items": null,
            "left": null,
            "margin": null,
            "max_height": null,
            "max_width": null,
            "min_height": null,
            "min_width": null,
            "object_fit": null,
            "object_position": null,
            "order": null,
            "overflow": null,
            "overflow_x": null,
            "overflow_y": null,
            "padding": null,
            "right": null,
            "top": null,
            "visibility": null,
            "width": null
          }
        },
        "9c09fe01dbf8421d9bb851c08e00fc47": {
          "model_module": "@jupyter-widgets/controls",
          "model_name": "DescriptionStyleModel",
          "model_module_version": "1.5.0",
          "state": {
            "_model_module": "@jupyter-widgets/controls",
            "_model_module_version": "1.5.0",
            "_model_name": "DescriptionStyleModel",
            "_view_count": null,
            "_view_module": "@jupyter-widgets/base",
            "_view_module_version": "1.2.0",
            "_view_name": "StyleView",
            "description_width": ""
          }
        },
        "ab92845995244537878a142a96575b2a": {
          "model_module": "@jupyter-widgets/base",
          "model_name": "LayoutModel",
          "model_module_version": "1.2.0",
          "state": {
            "_model_module": "@jupyter-widgets/base",
            "_model_module_version": "1.2.0",
            "_model_name": "LayoutModel",
            "_view_count": null,
            "_view_module": "@jupyter-widgets/base",
            "_view_module_version": "1.2.0",
            "_view_name": "LayoutView",
            "align_content": null,
            "align_items": null,
            "align_self": null,
            "border": null,
            "bottom": null,
            "display": null,
            "flex": null,
            "flex_flow": null,
            "grid_area": null,
            "grid_auto_columns": null,
            "grid_auto_flow": null,
            "grid_auto_rows": null,
            "grid_column": null,
            "grid_gap": null,
            "grid_row": null,
            "grid_template_areas": null,
            "grid_template_columns": null,
            "grid_template_rows": null,
            "height": null,
            "justify_content": null,
            "justify_items": null,
            "left": null,
            "margin": null,
            "max_height": null,
            "max_width": null,
            "min_height": null,
            "min_width": null,
            "object_fit": null,
            "object_position": null,
            "order": null,
            "overflow": null,
            "overflow_x": null,
            "overflow_y": null,
            "padding": null,
            "right": null,
            "top": null,
            "visibility": null,
            "width": null
          }
        },
        "77c68edc071d470bb3e192aa1f2ed04a": {
          "model_module": "@jupyter-widgets/controls",
          "model_name": "ProgressStyleModel",
          "model_module_version": "1.5.0",
          "state": {
            "_model_module": "@jupyter-widgets/controls",
            "_model_module_version": "1.5.0",
            "_model_name": "ProgressStyleModel",
            "_view_count": null,
            "_view_module": "@jupyter-widgets/base",
            "_view_module_version": "1.2.0",
            "_view_name": "StyleView",
            "bar_color": null,
            "description_width": ""
          }
        },
        "c2f48ca5d2ed44e7814284ab80ebff9a": {
          "model_module": "@jupyter-widgets/base",
          "model_name": "LayoutModel",
          "model_module_version": "1.2.0",
          "state": {
            "_model_module": "@jupyter-widgets/base",
            "_model_module_version": "1.2.0",
            "_model_name": "LayoutModel",
            "_view_count": null,
            "_view_module": "@jupyter-widgets/base",
            "_view_module_version": "1.2.0",
            "_view_name": "LayoutView",
            "align_content": null,
            "align_items": null,
            "align_self": null,
            "border": null,
            "bottom": null,
            "display": null,
            "flex": null,
            "flex_flow": null,
            "grid_area": null,
            "grid_auto_columns": null,
            "grid_auto_flow": null,
            "grid_auto_rows": null,
            "grid_column": null,
            "grid_gap": null,
            "grid_row": null,
            "grid_template_areas": null,
            "grid_template_columns": null,
            "grid_template_rows": null,
            "height": null,
            "justify_content": null,
            "justify_items": null,
            "left": null,
            "margin": null,
            "max_height": null,
            "max_width": null,
            "min_height": null,
            "min_width": null,
            "object_fit": null,
            "object_position": null,
            "order": null,
            "overflow": null,
            "overflow_x": null,
            "overflow_y": null,
            "padding": null,
            "right": null,
            "top": null,
            "visibility": null,
            "width": null
          }
        },
        "fc2b35c64ee847f2837737e44958bf32": {
          "model_module": "@jupyter-widgets/controls",
          "model_name": "DescriptionStyleModel",
          "model_module_version": "1.5.0",
          "state": {
            "_model_module": "@jupyter-widgets/controls",
            "_model_module_version": "1.5.0",
            "_model_name": "DescriptionStyleModel",
            "_view_count": null,
            "_view_module": "@jupyter-widgets/base",
            "_view_module_version": "1.2.0",
            "_view_name": "StyleView",
            "description_width": ""
          }
        },
        "cf66a217f01e42c2bf23ed635b581513": {
          "model_module": "@jupyter-widgets/controls",
          "model_name": "HBoxModel",
          "model_module_version": "1.5.0",
          "state": {
            "_dom_classes": [],
            "_model_module": "@jupyter-widgets/controls",
            "_model_module_version": "1.5.0",
            "_model_name": "HBoxModel",
            "_view_count": null,
            "_view_module": "@jupyter-widgets/controls",
            "_view_module_version": "1.5.0",
            "_view_name": "HBoxView",
            "box_style": "",
            "children": [
              "IPY_MODEL_bc8969c01a7f4aafb9c1dde535afa333",
              "IPY_MODEL_7de5fe707655414c87a417676b4f14c6",
              "IPY_MODEL_e4291229629d4a749938c47dd707816d"
            ],
            "layout": "IPY_MODEL_ef502402ee1e4e7790c04d317c3edc3c"
          }
        },
        "bc8969c01a7f4aafb9c1dde535afa333": {
          "model_module": "@jupyter-widgets/controls",
          "model_name": "HTMLModel",
          "model_module_version": "1.5.0",
          "state": {
            "_dom_classes": [],
            "_model_module": "@jupyter-widgets/controls",
            "_model_module_version": "1.5.0",
            "_model_name": "HTMLModel",
            "_view_count": null,
            "_view_module": "@jupyter-widgets/controls",
            "_view_module_version": "1.5.0",
            "_view_name": "HTMLView",
            "description": "",
            "description_tooltip": null,
            "layout": "IPY_MODEL_3dcd940d861244fe8727ac15760dd1fe",
            "placeholder": "​",
            "style": "IPY_MODEL_067ded7da4434f859833d599b31bf677",
            "value": "generation_config.json: 100%"
          }
        },
        "7de5fe707655414c87a417676b4f14c6": {
          "model_module": "@jupyter-widgets/controls",
          "model_name": "FloatProgressModel",
          "model_module_version": "1.5.0",
          "state": {
            "_dom_classes": [],
            "_model_module": "@jupyter-widgets/controls",
            "_model_module_version": "1.5.0",
            "_model_name": "FloatProgressModel",
            "_view_count": null,
            "_view_module": "@jupyter-widgets/controls",
            "_view_module_version": "1.5.0",
            "_view_name": "ProgressView",
            "bar_style": "success",
            "description": "",
            "description_tooltip": null,
            "layout": "IPY_MODEL_90da5a92b9ca46a58c418bc530229bb1",
            "max": 242,
            "min": 0,
            "orientation": "horizontal",
            "style": "IPY_MODEL_05ddb1ef16f44f62b905f41e6f3a78b7",
            "value": 242
          }
        },
        "e4291229629d4a749938c47dd707816d": {
          "model_module": "@jupyter-widgets/controls",
          "model_name": "HTMLModel",
          "model_module_version": "1.5.0",
          "state": {
            "_dom_classes": [],
            "_model_module": "@jupyter-widgets/controls",
            "_model_module_version": "1.5.0",
            "_model_name": "HTMLModel",
            "_view_count": null,
            "_view_module": "@jupyter-widgets/controls",
            "_view_module_version": "1.5.0",
            "_view_name": "HTMLView",
            "description": "",
            "description_tooltip": null,
            "layout": "IPY_MODEL_b21fbcd19094461dafb5e6cc19ef9094",
            "placeholder": "​",
            "style": "IPY_MODEL_6c60f96aebe14f048d0ddbae99892f89",
            "value": " 242/242 [00:00&lt;00:00, 8.13kB/s]"
          }
        },
        "ef502402ee1e4e7790c04d317c3edc3c": {
          "model_module": "@jupyter-widgets/base",
          "model_name": "LayoutModel",
          "model_module_version": "1.2.0",
          "state": {
            "_model_module": "@jupyter-widgets/base",
            "_model_module_version": "1.2.0",
            "_model_name": "LayoutModel",
            "_view_count": null,
            "_view_module": "@jupyter-widgets/base",
            "_view_module_version": "1.2.0",
            "_view_name": "LayoutView",
            "align_content": null,
            "align_items": null,
            "align_self": null,
            "border": null,
            "bottom": null,
            "display": null,
            "flex": null,
            "flex_flow": null,
            "grid_area": null,
            "grid_auto_columns": null,
            "grid_auto_flow": null,
            "grid_auto_rows": null,
            "grid_column": null,
            "grid_gap": null,
            "grid_row": null,
            "grid_template_areas": null,
            "grid_template_columns": null,
            "grid_template_rows": null,
            "height": null,
            "justify_content": null,
            "justify_items": null,
            "left": null,
            "margin": null,
            "max_height": null,
            "max_width": null,
            "min_height": null,
            "min_width": null,
            "object_fit": null,
            "object_position": null,
            "order": null,
            "overflow": null,
            "overflow_x": null,
            "overflow_y": null,
            "padding": null,
            "right": null,
            "top": null,
            "visibility": null,
            "width": null
          }
        },
        "3dcd940d861244fe8727ac15760dd1fe": {
          "model_module": "@jupyter-widgets/base",
          "model_name": "LayoutModel",
          "model_module_version": "1.2.0",
          "state": {
            "_model_module": "@jupyter-widgets/base",
            "_model_module_version": "1.2.0",
            "_model_name": "LayoutModel",
            "_view_count": null,
            "_view_module": "@jupyter-widgets/base",
            "_view_module_version": "1.2.0",
            "_view_name": "LayoutView",
            "align_content": null,
            "align_items": null,
            "align_self": null,
            "border": null,
            "bottom": null,
            "display": null,
            "flex": null,
            "flex_flow": null,
            "grid_area": null,
            "grid_auto_columns": null,
            "grid_auto_flow": null,
            "grid_auto_rows": null,
            "grid_column": null,
            "grid_gap": null,
            "grid_row": null,
            "grid_template_areas": null,
            "grid_template_columns": null,
            "grid_template_rows": null,
            "height": null,
            "justify_content": null,
            "justify_items": null,
            "left": null,
            "margin": null,
            "max_height": null,
            "max_width": null,
            "min_height": null,
            "min_width": null,
            "object_fit": null,
            "object_position": null,
            "order": null,
            "overflow": null,
            "overflow_x": null,
            "overflow_y": null,
            "padding": null,
            "right": null,
            "top": null,
            "visibility": null,
            "width": null
          }
        },
        "067ded7da4434f859833d599b31bf677": {
          "model_module": "@jupyter-widgets/controls",
          "model_name": "DescriptionStyleModel",
          "model_module_version": "1.5.0",
          "state": {
            "_model_module": "@jupyter-widgets/controls",
            "_model_module_version": "1.5.0",
            "_model_name": "DescriptionStyleModel",
            "_view_count": null,
            "_view_module": "@jupyter-widgets/base",
            "_view_module_version": "1.2.0",
            "_view_name": "StyleView",
            "description_width": ""
          }
        },
        "90da5a92b9ca46a58c418bc530229bb1": {
          "model_module": "@jupyter-widgets/base",
          "model_name": "LayoutModel",
          "model_module_version": "1.2.0",
          "state": {
            "_model_module": "@jupyter-widgets/base",
            "_model_module_version": "1.2.0",
            "_model_name": "LayoutModel",
            "_view_count": null,
            "_view_module": "@jupyter-widgets/base",
            "_view_module_version": "1.2.0",
            "_view_name": "LayoutView",
            "align_content": null,
            "align_items": null,
            "align_self": null,
            "border": null,
            "bottom": null,
            "display": null,
            "flex": null,
            "flex_flow": null,
            "grid_area": null,
            "grid_auto_columns": null,
            "grid_auto_flow": null,
            "grid_auto_rows": null,
            "grid_column": null,
            "grid_gap": null,
            "grid_row": null,
            "grid_template_areas": null,
            "grid_template_columns": null,
            "grid_template_rows": null,
            "height": null,
            "justify_content": null,
            "justify_items": null,
            "left": null,
            "margin": null,
            "max_height": null,
            "max_width": null,
            "min_height": null,
            "min_width": null,
            "object_fit": null,
            "object_position": null,
            "order": null,
            "overflow": null,
            "overflow_x": null,
            "overflow_y": null,
            "padding": null,
            "right": null,
            "top": null,
            "visibility": null,
            "width": null
          }
        },
        "05ddb1ef16f44f62b905f41e6f3a78b7": {
          "model_module": "@jupyter-widgets/controls",
          "model_name": "ProgressStyleModel",
          "model_module_version": "1.5.0",
          "state": {
            "_model_module": "@jupyter-widgets/controls",
            "_model_module_version": "1.5.0",
            "_model_name": "ProgressStyleModel",
            "_view_count": null,
            "_view_module": "@jupyter-widgets/base",
            "_view_module_version": "1.2.0",
            "_view_name": "StyleView",
            "bar_color": null,
            "description_width": ""
          }
        },
        "b21fbcd19094461dafb5e6cc19ef9094": {
          "model_module": "@jupyter-widgets/base",
          "model_name": "LayoutModel",
          "model_module_version": "1.2.0",
          "state": {
            "_model_module": "@jupyter-widgets/base",
            "_model_module_version": "1.2.0",
            "_model_name": "LayoutModel",
            "_view_count": null,
            "_view_module": "@jupyter-widgets/base",
            "_view_module_version": "1.2.0",
            "_view_name": "LayoutView",
            "align_content": null,
            "align_items": null,
            "align_self": null,
            "border": null,
            "bottom": null,
            "display": null,
            "flex": null,
            "flex_flow": null,
            "grid_area": null,
            "grid_auto_columns": null,
            "grid_auto_flow": null,
            "grid_auto_rows": null,
            "grid_column": null,
            "grid_gap": null,
            "grid_row": null,
            "grid_template_areas": null,
            "grid_template_columns": null,
            "grid_template_rows": null,
            "height": null,
            "justify_content": null,
            "justify_items": null,
            "left": null,
            "margin": null,
            "max_height": null,
            "max_width": null,
            "min_height": null,
            "min_width": null,
            "object_fit": null,
            "object_position": null,
            "order": null,
            "overflow": null,
            "overflow_x": null,
            "overflow_y": null,
            "padding": null,
            "right": null,
            "top": null,
            "visibility": null,
            "width": null
          }
        },
        "6c60f96aebe14f048d0ddbae99892f89": {
          "model_module": "@jupyter-widgets/controls",
          "model_name": "DescriptionStyleModel",
          "model_module_version": "1.5.0",
          "state": {
            "_model_module": "@jupyter-widgets/controls",
            "_model_module_version": "1.5.0",
            "_model_name": "DescriptionStyleModel",
            "_view_count": null,
            "_view_module": "@jupyter-widgets/base",
            "_view_module_version": "1.2.0",
            "_view_name": "StyleView",
            "description_width": ""
          }
        },
        "1ec26338bb3a4f20b69c981fad161285": {
          "model_module": "@jupyter-widgets/controls",
          "model_name": "HBoxModel",
          "model_module_version": "1.5.0",
          "state": {
            "_dom_classes": [],
            "_model_module": "@jupyter-widgets/controls",
            "_model_module_version": "1.5.0",
            "_model_name": "HBoxModel",
            "_view_count": null,
            "_view_module": "@jupyter-widgets/controls",
            "_view_module_version": "1.5.0",
            "_view_name": "HBoxView",
            "box_style": "",
            "children": [
              "IPY_MODEL_49cb439159284571b604fd8127f31512",
              "IPY_MODEL_85c5c7349ec04df29510ebea12267f40",
              "IPY_MODEL_f6a840feddc840ad92488c68a2915471"
            ],
            "layout": "IPY_MODEL_c8ca804587544dbcbf58838f59f2ce3c"
          }
        },
        "49cb439159284571b604fd8127f31512": {
          "model_module": "@jupyter-widgets/controls",
          "model_name": "HTMLModel",
          "model_module_version": "1.5.0",
          "state": {
            "_dom_classes": [],
            "_model_module": "@jupyter-widgets/controls",
            "_model_module_version": "1.5.0",
            "_model_name": "HTMLModel",
            "_view_count": null,
            "_view_module": "@jupyter-widgets/controls",
            "_view_module_version": "1.5.0",
            "_view_name": "HTMLView",
            "description": "",
            "description_tooltip": null,
            "layout": "IPY_MODEL_0095f6e8de43478b89de9e5b095f5fa1",
            "placeholder": "​",
            "style": "IPY_MODEL_545a43ec1a04457e9e22280bc5b89961",
            "value": "tokenizer_config.json: 100%"
          }
        },
        "85c5c7349ec04df29510ebea12267f40": {
          "model_module": "@jupyter-widgets/controls",
          "model_name": "FloatProgressModel",
          "model_module_version": "1.5.0",
          "state": {
            "_dom_classes": [],
            "_model_module": "@jupyter-widgets/controls",
            "_model_module_version": "1.5.0",
            "_model_name": "FloatProgressModel",
            "_view_count": null,
            "_view_module": "@jupyter-widgets/controls",
            "_view_module_version": "1.5.0",
            "_view_name": "ProgressView",
            "bar_style": "success",
            "description": "",
            "description_tooltip": null,
            "layout": "IPY_MODEL_38cbc51ee0b54d40a9f7af0c93303a7f",
            "max": 7305,
            "min": 0,
            "orientation": "horizontal",
            "style": "IPY_MODEL_fb85d90fabea4bb08266ad5d34ab9747",
            "value": 7305
          }
        },
        "f6a840feddc840ad92488c68a2915471": {
          "model_module": "@jupyter-widgets/controls",
          "model_name": "HTMLModel",
          "model_module_version": "1.5.0",
          "state": {
            "_dom_classes": [],
            "_model_module": "@jupyter-widgets/controls",
            "_model_module_version": "1.5.0",
            "_model_name": "HTMLModel",
            "_view_count": null,
            "_view_module": "@jupyter-widgets/controls",
            "_view_module_version": "1.5.0",
            "_view_name": "HTMLView",
            "description": "",
            "description_tooltip": null,
            "layout": "IPY_MODEL_3e9e38d5b708410da7470b4a12f15aad",
            "placeholder": "​",
            "style": "IPY_MODEL_78d33c1ddc464d31b28edf92cf271f79",
            "value": " 7.30k/7.30k [00:00&lt;00:00, 743kB/s]"
          }
        },
        "c8ca804587544dbcbf58838f59f2ce3c": {
          "model_module": "@jupyter-widgets/base",
          "model_name": "LayoutModel",
          "model_module_version": "1.2.0",
          "state": {
            "_model_module": "@jupyter-widgets/base",
            "_model_module_version": "1.2.0",
            "_model_name": "LayoutModel",
            "_view_count": null,
            "_view_module": "@jupyter-widgets/base",
            "_view_module_version": "1.2.0",
            "_view_name": "LayoutView",
            "align_content": null,
            "align_items": null,
            "align_self": null,
            "border": null,
            "bottom": null,
            "display": null,
            "flex": null,
            "flex_flow": null,
            "grid_area": null,
            "grid_auto_columns": null,
            "grid_auto_flow": null,
            "grid_auto_rows": null,
            "grid_column": null,
            "grid_gap": null,
            "grid_row": null,
            "grid_template_areas": null,
            "grid_template_columns": null,
            "grid_template_rows": null,
            "height": null,
            "justify_content": null,
            "justify_items": null,
            "left": null,
            "margin": null,
            "max_height": null,
            "max_width": null,
            "min_height": null,
            "min_width": null,
            "object_fit": null,
            "object_position": null,
            "order": null,
            "overflow": null,
            "overflow_x": null,
            "overflow_y": null,
            "padding": null,
            "right": null,
            "top": null,
            "visibility": null,
            "width": null
          }
        },
        "0095f6e8de43478b89de9e5b095f5fa1": {
          "model_module": "@jupyter-widgets/base",
          "model_name": "LayoutModel",
          "model_module_version": "1.2.0",
          "state": {
            "_model_module": "@jupyter-widgets/base",
            "_model_module_version": "1.2.0",
            "_model_name": "LayoutModel",
            "_view_count": null,
            "_view_module": "@jupyter-widgets/base",
            "_view_module_version": "1.2.0",
            "_view_name": "LayoutView",
            "align_content": null,
            "align_items": null,
            "align_self": null,
            "border": null,
            "bottom": null,
            "display": null,
            "flex": null,
            "flex_flow": null,
            "grid_area": null,
            "grid_auto_columns": null,
            "grid_auto_flow": null,
            "grid_auto_rows": null,
            "grid_column": null,
            "grid_gap": null,
            "grid_row": null,
            "grid_template_areas": null,
            "grid_template_columns": null,
            "grid_template_rows": null,
            "height": null,
            "justify_content": null,
            "justify_items": null,
            "left": null,
            "margin": null,
            "max_height": null,
            "max_width": null,
            "min_height": null,
            "min_width": null,
            "object_fit": null,
            "object_position": null,
            "order": null,
            "overflow": null,
            "overflow_x": null,
            "overflow_y": null,
            "padding": null,
            "right": null,
            "top": null,
            "visibility": null,
            "width": null
          }
        },
        "545a43ec1a04457e9e22280bc5b89961": {
          "model_module": "@jupyter-widgets/controls",
          "model_name": "DescriptionStyleModel",
          "model_module_version": "1.5.0",
          "state": {
            "_model_module": "@jupyter-widgets/controls",
            "_model_module_version": "1.5.0",
            "_model_name": "DescriptionStyleModel",
            "_view_count": null,
            "_view_module": "@jupyter-widgets/base",
            "_view_module_version": "1.2.0",
            "_view_name": "StyleView",
            "description_width": ""
          }
        },
        "38cbc51ee0b54d40a9f7af0c93303a7f": {
          "model_module": "@jupyter-widgets/base",
          "model_name": "LayoutModel",
          "model_module_version": "1.2.0",
          "state": {
            "_model_module": "@jupyter-widgets/base",
            "_model_module_version": "1.2.0",
            "_model_name": "LayoutModel",
            "_view_count": null,
            "_view_module": "@jupyter-widgets/base",
            "_view_module_version": "1.2.0",
            "_view_name": "LayoutView",
            "align_content": null,
            "align_items": null,
            "align_self": null,
            "border": null,
            "bottom": null,
            "display": null,
            "flex": null,
            "flex_flow": null,
            "grid_area": null,
            "grid_auto_columns": null,
            "grid_auto_flow": null,
            "grid_auto_rows": null,
            "grid_column": null,
            "grid_gap": null,
            "grid_row": null,
            "grid_template_areas": null,
            "grid_template_columns": null,
            "grid_template_rows": null,
            "height": null,
            "justify_content": null,
            "justify_items": null,
            "left": null,
            "margin": null,
            "max_height": null,
            "max_width": null,
            "min_height": null,
            "min_width": null,
            "object_fit": null,
            "object_position": null,
            "order": null,
            "overflow": null,
            "overflow_x": null,
            "overflow_y": null,
            "padding": null,
            "right": null,
            "top": null,
            "visibility": null,
            "width": null
          }
        },
        "fb85d90fabea4bb08266ad5d34ab9747": {
          "model_module": "@jupyter-widgets/controls",
          "model_name": "ProgressStyleModel",
          "model_module_version": "1.5.0",
          "state": {
            "_model_module": "@jupyter-widgets/controls",
            "_model_module_version": "1.5.0",
            "_model_name": "ProgressStyleModel",
            "_view_count": null,
            "_view_module": "@jupyter-widgets/base",
            "_view_module_version": "1.2.0",
            "_view_name": "StyleView",
            "bar_color": null,
            "description_width": ""
          }
        },
        "3e9e38d5b708410da7470b4a12f15aad": {
          "model_module": "@jupyter-widgets/base",
          "model_name": "LayoutModel",
          "model_module_version": "1.2.0",
          "state": {
            "_model_module": "@jupyter-widgets/base",
            "_model_module_version": "1.2.0",
            "_model_name": "LayoutModel",
            "_view_count": null,
            "_view_module": "@jupyter-widgets/base",
            "_view_module_version": "1.2.0",
            "_view_name": "LayoutView",
            "align_content": null,
            "align_items": null,
            "align_self": null,
            "border": null,
            "bottom": null,
            "display": null,
            "flex": null,
            "flex_flow": null,
            "grid_area": null,
            "grid_auto_columns": null,
            "grid_auto_flow": null,
            "grid_auto_rows": null,
            "grid_column": null,
            "grid_gap": null,
            "grid_row": null,
            "grid_template_areas": null,
            "grid_template_columns": null,
            "grid_template_rows": null,
            "height": null,
            "justify_content": null,
            "justify_items": null,
            "left": null,
            "margin": null,
            "max_height": null,
            "max_width": null,
            "min_height": null,
            "min_width": null,
            "object_fit": null,
            "object_position": null,
            "order": null,
            "overflow": null,
            "overflow_x": null,
            "overflow_y": null,
            "padding": null,
            "right": null,
            "top": null,
            "visibility": null,
            "width": null
          }
        },
        "78d33c1ddc464d31b28edf92cf271f79": {
          "model_module": "@jupyter-widgets/controls",
          "model_name": "DescriptionStyleModel",
          "model_module_version": "1.5.0",
          "state": {
            "_model_module": "@jupyter-widgets/controls",
            "_model_module_version": "1.5.0",
            "_model_name": "DescriptionStyleModel",
            "_view_count": null,
            "_view_module": "@jupyter-widgets/base",
            "_view_module_version": "1.2.0",
            "_view_name": "StyleView",
            "description_width": ""
          }
        },
        "38669e590d8245419b489989ee2599ed": {
          "model_module": "@jupyter-widgets/controls",
          "model_name": "HBoxModel",
          "model_module_version": "1.5.0",
          "state": {
            "_dom_classes": [],
            "_model_module": "@jupyter-widgets/controls",
            "_model_module_version": "1.5.0",
            "_model_name": "HBoxModel",
            "_view_count": null,
            "_view_module": "@jupyter-widgets/controls",
            "_view_module_version": "1.5.0",
            "_view_name": "HBoxView",
            "box_style": "",
            "children": [
              "IPY_MODEL_f6c04a09828f430aa84487f408fbf78b",
              "IPY_MODEL_0782554a65df432f9feb56ff907a2dff",
              "IPY_MODEL_ca19cf37e0e24f8899641d7e715e85c8"
            ],
            "layout": "IPY_MODEL_d486b692b2c949ce9bad07e5a1fbeb8c"
          }
        },
        "f6c04a09828f430aa84487f408fbf78b": {
          "model_module": "@jupyter-widgets/controls",
          "model_name": "HTMLModel",
          "model_module_version": "1.5.0",
          "state": {
            "_dom_classes": [],
            "_model_module": "@jupyter-widgets/controls",
            "_model_module_version": "1.5.0",
            "_model_name": "HTMLModel",
            "_view_count": null,
            "_view_module": "@jupyter-widgets/controls",
            "_view_module_version": "1.5.0",
            "_view_name": "HTMLView",
            "description": "",
            "description_tooltip": null,
            "layout": "IPY_MODEL_130aa837b116468e9f119a54a71f7421",
            "placeholder": "​",
            "style": "IPY_MODEL_6c64c918b971420e98a87a61e27d823e",
            "value": "vocab.json: 100%"
          }
        },
        "0782554a65df432f9feb56ff907a2dff": {
          "model_module": "@jupyter-widgets/controls",
          "model_name": "FloatProgressModel",
          "model_module_version": "1.5.0",
          "state": {
            "_dom_classes": [],
            "_model_module": "@jupyter-widgets/controls",
            "_model_module_version": "1.5.0",
            "_model_name": "FloatProgressModel",
            "_view_count": null,
            "_view_module": "@jupyter-widgets/controls",
            "_view_module_version": "1.5.0",
            "_view_name": "ProgressView",
            "bar_style": "success",
            "description": "",
            "description_tooltip": null,
            "layout": "IPY_MODEL_2b95185b80e740d88231ad85cc687bf0",
            "max": 2776833,
            "min": 0,
            "orientation": "horizontal",
            "style": "IPY_MODEL_4ec5c5611c3248f4ad05fc3b4faf0629",
            "value": 2776833
          }
        },
        "ca19cf37e0e24f8899641d7e715e85c8": {
          "model_module": "@jupyter-widgets/controls",
          "model_name": "HTMLModel",
          "model_module_version": "1.5.0",
          "state": {
            "_dom_classes": [],
            "_model_module": "@jupyter-widgets/controls",
            "_model_module_version": "1.5.0",
            "_model_name": "HTMLModel",
            "_view_count": null,
            "_view_module": "@jupyter-widgets/controls",
            "_view_module_version": "1.5.0",
            "_view_name": "HTMLView",
            "description": "",
            "description_tooltip": null,
            "layout": "IPY_MODEL_bc1bf7e00a24405b8d6c3552791ff1e6",
            "placeholder": "​",
            "style": "IPY_MODEL_a65a55a1685a47d8ba2718ee89f98f51",
            "value": " 2.78M/2.78M [00:00&lt;00:00, 6.60MB/s]"
          }
        },
        "d486b692b2c949ce9bad07e5a1fbeb8c": {
          "model_module": "@jupyter-widgets/base",
          "model_name": "LayoutModel",
          "model_module_version": "1.2.0",
          "state": {
            "_model_module": "@jupyter-widgets/base",
            "_model_module_version": "1.2.0",
            "_model_name": "LayoutModel",
            "_view_count": null,
            "_view_module": "@jupyter-widgets/base",
            "_view_module_version": "1.2.0",
            "_view_name": "LayoutView",
            "align_content": null,
            "align_items": null,
            "align_self": null,
            "border": null,
            "bottom": null,
            "display": null,
            "flex": null,
            "flex_flow": null,
            "grid_area": null,
            "grid_auto_columns": null,
            "grid_auto_flow": null,
            "grid_auto_rows": null,
            "grid_column": null,
            "grid_gap": null,
            "grid_row": null,
            "grid_template_areas": null,
            "grid_template_columns": null,
            "grid_template_rows": null,
            "height": null,
            "justify_content": null,
            "justify_items": null,
            "left": null,
            "margin": null,
            "max_height": null,
            "max_width": null,
            "min_height": null,
            "min_width": null,
            "object_fit": null,
            "object_position": null,
            "order": null,
            "overflow": null,
            "overflow_x": null,
            "overflow_y": null,
            "padding": null,
            "right": null,
            "top": null,
            "visibility": null,
            "width": null
          }
        },
        "130aa837b116468e9f119a54a71f7421": {
          "model_module": "@jupyter-widgets/base",
          "model_name": "LayoutModel",
          "model_module_version": "1.2.0",
          "state": {
            "_model_module": "@jupyter-widgets/base",
            "_model_module_version": "1.2.0",
            "_model_name": "LayoutModel",
            "_view_count": null,
            "_view_module": "@jupyter-widgets/base",
            "_view_module_version": "1.2.0",
            "_view_name": "LayoutView",
            "align_content": null,
            "align_items": null,
            "align_self": null,
            "border": null,
            "bottom": null,
            "display": null,
            "flex": null,
            "flex_flow": null,
            "grid_area": null,
            "grid_auto_columns": null,
            "grid_auto_flow": null,
            "grid_auto_rows": null,
            "grid_column": null,
            "grid_gap": null,
            "grid_row": null,
            "grid_template_areas": null,
            "grid_template_columns": null,
            "grid_template_rows": null,
            "height": null,
            "justify_content": null,
            "justify_items": null,
            "left": null,
            "margin": null,
            "max_height": null,
            "max_width": null,
            "min_height": null,
            "min_width": null,
            "object_fit": null,
            "object_position": null,
            "order": null,
            "overflow": null,
            "overflow_x": null,
            "overflow_y": null,
            "padding": null,
            "right": null,
            "top": null,
            "visibility": null,
            "width": null
          }
        },
        "6c64c918b971420e98a87a61e27d823e": {
          "model_module": "@jupyter-widgets/controls",
          "model_name": "DescriptionStyleModel",
          "model_module_version": "1.5.0",
          "state": {
            "_model_module": "@jupyter-widgets/controls",
            "_model_module_version": "1.5.0",
            "_model_name": "DescriptionStyleModel",
            "_view_count": null,
            "_view_module": "@jupyter-widgets/base",
            "_view_module_version": "1.2.0",
            "_view_name": "StyleView",
            "description_width": ""
          }
        },
        "2b95185b80e740d88231ad85cc687bf0": {
          "model_module": "@jupyter-widgets/base",
          "model_name": "LayoutModel",
          "model_module_version": "1.2.0",
          "state": {
            "_model_module": "@jupyter-widgets/base",
            "_model_module_version": "1.2.0",
            "_model_name": "LayoutModel",
            "_view_count": null,
            "_view_module": "@jupyter-widgets/base",
            "_view_module_version": "1.2.0",
            "_view_name": "LayoutView",
            "align_content": null,
            "align_items": null,
            "align_self": null,
            "border": null,
            "bottom": null,
            "display": null,
            "flex": null,
            "flex_flow": null,
            "grid_area": null,
            "grid_auto_columns": null,
            "grid_auto_flow": null,
            "grid_auto_rows": null,
            "grid_column": null,
            "grid_gap": null,
            "grid_row": null,
            "grid_template_areas": null,
            "grid_template_columns": null,
            "grid_template_rows": null,
            "height": null,
            "justify_content": null,
            "justify_items": null,
            "left": null,
            "margin": null,
            "max_height": null,
            "max_width": null,
            "min_height": null,
            "min_width": null,
            "object_fit": null,
            "object_position": null,
            "order": null,
            "overflow": null,
            "overflow_x": null,
            "overflow_y": null,
            "padding": null,
            "right": null,
            "top": null,
            "visibility": null,
            "width": null
          }
        },
        "4ec5c5611c3248f4ad05fc3b4faf0629": {
          "model_module": "@jupyter-widgets/controls",
          "model_name": "ProgressStyleModel",
          "model_module_version": "1.5.0",
          "state": {
            "_model_module": "@jupyter-widgets/controls",
            "_model_module_version": "1.5.0",
            "_model_name": "ProgressStyleModel",
            "_view_count": null,
            "_view_module": "@jupyter-widgets/base",
            "_view_module_version": "1.2.0",
            "_view_name": "StyleView",
            "bar_color": null,
            "description_width": ""
          }
        },
        "bc1bf7e00a24405b8d6c3552791ff1e6": {
          "model_module": "@jupyter-widgets/base",
          "model_name": "LayoutModel",
          "model_module_version": "1.2.0",
          "state": {
            "_model_module": "@jupyter-widgets/base",
            "_model_module_version": "1.2.0",
            "_model_name": "LayoutModel",
            "_view_count": null,
            "_view_module": "@jupyter-widgets/base",
            "_view_module_version": "1.2.0",
            "_view_name": "LayoutView",
            "align_content": null,
            "align_items": null,
            "align_self": null,
            "border": null,
            "bottom": null,
            "display": null,
            "flex": null,
            "flex_flow": null,
            "grid_area": null,
            "grid_auto_columns": null,
            "grid_auto_flow": null,
            "grid_auto_rows": null,
            "grid_column": null,
            "grid_gap": null,
            "grid_row": null,
            "grid_template_areas": null,
            "grid_template_columns": null,
            "grid_template_rows": null,
            "height": null,
            "justify_content": null,
            "justify_items": null,
            "left": null,
            "margin": null,
            "max_height": null,
            "max_width": null,
            "min_height": null,
            "min_width": null,
            "object_fit": null,
            "object_position": null,
            "order": null,
            "overflow": null,
            "overflow_x": null,
            "overflow_y": null,
            "padding": null,
            "right": null,
            "top": null,
            "visibility": null,
            "width": null
          }
        },
        "a65a55a1685a47d8ba2718ee89f98f51": {
          "model_module": "@jupyter-widgets/controls",
          "model_name": "DescriptionStyleModel",
          "model_module_version": "1.5.0",
          "state": {
            "_model_module": "@jupyter-widgets/controls",
            "_model_module_version": "1.5.0",
            "_model_name": "DescriptionStyleModel",
            "_view_count": null,
            "_view_module": "@jupyter-widgets/base",
            "_view_module_version": "1.2.0",
            "_view_name": "StyleView",
            "description_width": ""
          }
        },
        "10960275f41b414397a425c519c42344": {
          "model_module": "@jupyter-widgets/controls",
          "model_name": "HBoxModel",
          "model_module_version": "1.5.0",
          "state": {
            "_dom_classes": [],
            "_model_module": "@jupyter-widgets/controls",
            "_model_module_version": "1.5.0",
            "_model_name": "HBoxModel",
            "_view_count": null,
            "_view_module": "@jupyter-widgets/controls",
            "_view_module_version": "1.5.0",
            "_view_name": "HBoxView",
            "box_style": "",
            "children": [
              "IPY_MODEL_26fc04a5dfa2423c858e94740c548046",
              "IPY_MODEL_107df15e5627482e92c7be174f0cdf7a",
              "IPY_MODEL_196e21ccb68546b2ad26e869ba04205e"
            ],
            "layout": "IPY_MODEL_656557dc93914a10864f1baa1bb31a40"
          }
        },
        "26fc04a5dfa2423c858e94740c548046": {
          "model_module": "@jupyter-widgets/controls",
          "model_name": "HTMLModel",
          "model_module_version": "1.5.0",
          "state": {
            "_dom_classes": [],
            "_model_module": "@jupyter-widgets/controls",
            "_model_module_version": "1.5.0",
            "_model_name": "HTMLModel",
            "_view_count": null,
            "_view_module": "@jupyter-widgets/controls",
            "_view_module_version": "1.5.0",
            "_view_name": "HTMLView",
            "description": "",
            "description_tooltip": null,
            "layout": "IPY_MODEL_9e0d57cdc9694cf2992bdb695354b85e",
            "placeholder": "​",
            "style": "IPY_MODEL_b0c001a8314f4855b190833cf81b61ec",
            "value": "merges.txt: 100%"
          }
        },
        "107df15e5627482e92c7be174f0cdf7a": {
          "model_module": "@jupyter-widgets/controls",
          "model_name": "FloatProgressModel",
          "model_module_version": "1.5.0",
          "state": {
            "_dom_classes": [],
            "_model_module": "@jupyter-widgets/controls",
            "_model_module_version": "1.5.0",
            "_model_name": "FloatProgressModel",
            "_view_count": null,
            "_view_module": "@jupyter-widgets/controls",
            "_view_module_version": "1.5.0",
            "_view_name": "ProgressView",
            "bar_style": "success",
            "description": "",
            "description_tooltip": null,
            "layout": "IPY_MODEL_4f871ba5188f4cc089a07e17922b8767",
            "max": 1671839,
            "min": 0,
            "orientation": "horizontal",
            "style": "IPY_MODEL_336c6dc6a9954f669b33e73f2840f9a2",
            "value": 1671839
          }
        },
        "196e21ccb68546b2ad26e869ba04205e": {
          "model_module": "@jupyter-widgets/controls",
          "model_name": "HTMLModel",
          "model_module_version": "1.5.0",
          "state": {
            "_dom_classes": [],
            "_model_module": "@jupyter-widgets/controls",
            "_model_module_version": "1.5.0",
            "_model_name": "HTMLModel",
            "_view_count": null,
            "_view_module": "@jupyter-widgets/controls",
            "_view_module_version": "1.5.0",
            "_view_name": "HTMLView",
            "description": "",
            "description_tooltip": null,
            "layout": "IPY_MODEL_1d54c9bc2a7444f29f02aeaebb95c3d3",
            "placeholder": "​",
            "style": "IPY_MODEL_c5fc879ac78f4894b49745f104e67357",
            "value": " 1.67M/1.67M [00:00&lt;00:00, 5.10MB/s]"
          }
        },
        "656557dc93914a10864f1baa1bb31a40": {
          "model_module": "@jupyter-widgets/base",
          "model_name": "LayoutModel",
          "model_module_version": "1.2.0",
          "state": {
            "_model_module": "@jupyter-widgets/base",
            "_model_module_version": "1.2.0",
            "_model_name": "LayoutModel",
            "_view_count": null,
            "_view_module": "@jupyter-widgets/base",
            "_view_module_version": "1.2.0",
            "_view_name": "LayoutView",
            "align_content": null,
            "align_items": null,
            "align_self": null,
            "border": null,
            "bottom": null,
            "display": null,
            "flex": null,
            "flex_flow": null,
            "grid_area": null,
            "grid_auto_columns": null,
            "grid_auto_flow": null,
            "grid_auto_rows": null,
            "grid_column": null,
            "grid_gap": null,
            "grid_row": null,
            "grid_template_areas": null,
            "grid_template_columns": null,
            "grid_template_rows": null,
            "height": null,
            "justify_content": null,
            "justify_items": null,
            "left": null,
            "margin": null,
            "max_height": null,
            "max_width": null,
            "min_height": null,
            "min_width": null,
            "object_fit": null,
            "object_position": null,
            "order": null,
            "overflow": null,
            "overflow_x": null,
            "overflow_y": null,
            "padding": null,
            "right": null,
            "top": null,
            "visibility": null,
            "width": null
          }
        },
        "9e0d57cdc9694cf2992bdb695354b85e": {
          "model_module": "@jupyter-widgets/base",
          "model_name": "LayoutModel",
          "model_module_version": "1.2.0",
          "state": {
            "_model_module": "@jupyter-widgets/base",
            "_model_module_version": "1.2.0",
            "_model_name": "LayoutModel",
            "_view_count": null,
            "_view_module": "@jupyter-widgets/base",
            "_view_module_version": "1.2.0",
            "_view_name": "LayoutView",
            "align_content": null,
            "align_items": null,
            "align_self": null,
            "border": null,
            "bottom": null,
            "display": null,
            "flex": null,
            "flex_flow": null,
            "grid_area": null,
            "grid_auto_columns": null,
            "grid_auto_flow": null,
            "grid_auto_rows": null,
            "grid_column": null,
            "grid_gap": null,
            "grid_row": null,
            "grid_template_areas": null,
            "grid_template_columns": null,
            "grid_template_rows": null,
            "height": null,
            "justify_content": null,
            "justify_items": null,
            "left": null,
            "margin": null,
            "max_height": null,
            "max_width": null,
            "min_height": null,
            "min_width": null,
            "object_fit": null,
            "object_position": null,
            "order": null,
            "overflow": null,
            "overflow_x": null,
            "overflow_y": null,
            "padding": null,
            "right": null,
            "top": null,
            "visibility": null,
            "width": null
          }
        },
        "b0c001a8314f4855b190833cf81b61ec": {
          "model_module": "@jupyter-widgets/controls",
          "model_name": "DescriptionStyleModel",
          "model_module_version": "1.5.0",
          "state": {
            "_model_module": "@jupyter-widgets/controls",
            "_model_module_version": "1.5.0",
            "_model_name": "DescriptionStyleModel",
            "_view_count": null,
            "_view_module": "@jupyter-widgets/base",
            "_view_module_version": "1.2.0",
            "_view_name": "StyleView",
            "description_width": ""
          }
        },
        "4f871ba5188f4cc089a07e17922b8767": {
          "model_module": "@jupyter-widgets/base",
          "model_name": "LayoutModel",
          "model_module_version": "1.2.0",
          "state": {
            "_model_module": "@jupyter-widgets/base",
            "_model_module_version": "1.2.0",
            "_model_name": "LayoutModel",
            "_view_count": null,
            "_view_module": "@jupyter-widgets/base",
            "_view_module_version": "1.2.0",
            "_view_name": "LayoutView",
            "align_content": null,
            "align_items": null,
            "align_self": null,
            "border": null,
            "bottom": null,
            "display": null,
            "flex": null,
            "flex_flow": null,
            "grid_area": null,
            "grid_auto_columns": null,
            "grid_auto_flow": null,
            "grid_auto_rows": null,
            "grid_column": null,
            "grid_gap": null,
            "grid_row": null,
            "grid_template_areas": null,
            "grid_template_columns": null,
            "grid_template_rows": null,
            "height": null,
            "justify_content": null,
            "justify_items": null,
            "left": null,
            "margin": null,
            "max_height": null,
            "max_width": null,
            "min_height": null,
            "min_width": null,
            "object_fit": null,
            "object_position": null,
            "order": null,
            "overflow": null,
            "overflow_x": null,
            "overflow_y": null,
            "padding": null,
            "right": null,
            "top": null,
            "visibility": null,
            "width": null
          }
        },
        "336c6dc6a9954f669b33e73f2840f9a2": {
          "model_module": "@jupyter-widgets/controls",
          "model_name": "ProgressStyleModel",
          "model_module_version": "1.5.0",
          "state": {
            "_model_module": "@jupyter-widgets/controls",
            "_model_module_version": "1.5.0",
            "_model_name": "ProgressStyleModel",
            "_view_count": null,
            "_view_module": "@jupyter-widgets/base",
            "_view_module_version": "1.2.0",
            "_view_name": "StyleView",
            "bar_color": null,
            "description_width": ""
          }
        },
        "1d54c9bc2a7444f29f02aeaebb95c3d3": {
          "model_module": "@jupyter-widgets/base",
          "model_name": "LayoutModel",
          "model_module_version": "1.2.0",
          "state": {
            "_model_module": "@jupyter-widgets/base",
            "_model_module_version": "1.2.0",
            "_model_name": "LayoutModel",
            "_view_count": null,
            "_view_module": "@jupyter-widgets/base",
            "_view_module_version": "1.2.0",
            "_view_name": "LayoutView",
            "align_content": null,
            "align_items": null,
            "align_self": null,
            "border": null,
            "bottom": null,
            "display": null,
            "flex": null,
            "flex_flow": null,
            "grid_area": null,
            "grid_auto_columns": null,
            "grid_auto_flow": null,
            "grid_auto_rows": null,
            "grid_column": null,
            "grid_gap": null,
            "grid_row": null,
            "grid_template_areas": null,
            "grid_template_columns": null,
            "grid_template_rows": null,
            "height": null,
            "justify_content": null,
            "justify_items": null,
            "left": null,
            "margin": null,
            "max_height": null,
            "max_width": null,
            "min_height": null,
            "min_width": null,
            "object_fit": null,
            "object_position": null,
            "order": null,
            "overflow": null,
            "overflow_x": null,
            "overflow_y": null,
            "padding": null,
            "right": null,
            "top": null,
            "visibility": null,
            "width": null
          }
        },
        "c5fc879ac78f4894b49745f104e67357": {
          "model_module": "@jupyter-widgets/controls",
          "model_name": "DescriptionStyleModel",
          "model_module_version": "1.5.0",
          "state": {
            "_model_module": "@jupyter-widgets/controls",
            "_model_module_version": "1.5.0",
            "_model_name": "DescriptionStyleModel",
            "_view_count": null,
            "_view_module": "@jupyter-widgets/base",
            "_view_module_version": "1.2.0",
            "_view_name": "StyleView",
            "description_width": ""
          }
        },
        "505d50a412d14b8f864bff1affef5bee": {
          "model_module": "@jupyter-widgets/controls",
          "model_name": "HBoxModel",
          "model_module_version": "1.5.0",
          "state": {
            "_dom_classes": [],
            "_model_module": "@jupyter-widgets/controls",
            "_model_module_version": "1.5.0",
            "_model_name": "HBoxModel",
            "_view_count": null,
            "_view_module": "@jupyter-widgets/controls",
            "_view_module_version": "1.5.0",
            "_view_name": "HBoxView",
            "box_style": "",
            "children": [
              "IPY_MODEL_c85fffdccf5c4871a8dce8ce796b537a",
              "IPY_MODEL_beeb218d47f24d758a069d4517a57122",
              "IPY_MODEL_3adf0968a9c64a4bafbbc46bb4c7bcc6"
            ],
            "layout": "IPY_MODEL_1a9fe952914c4bbe9cfa4733d30553b8"
          }
        },
        "c85fffdccf5c4871a8dce8ce796b537a": {
          "model_module": "@jupyter-widgets/controls",
          "model_name": "HTMLModel",
          "model_module_version": "1.5.0",
          "state": {
            "_dom_classes": [],
            "_model_module": "@jupyter-widgets/controls",
            "_model_module_version": "1.5.0",
            "_model_name": "HTMLModel",
            "_view_count": null,
            "_view_module": "@jupyter-widgets/controls",
            "_view_module_version": "1.5.0",
            "_view_name": "HTMLView",
            "description": "",
            "description_tooltip": null,
            "layout": "IPY_MODEL_ceaca52cc9ff4d0a92bb1498d3b55745",
            "placeholder": "​",
            "style": "IPY_MODEL_f2128e525eed4769babd87664f0c9940",
            "value": "tokenizer.json: 100%"
          }
        },
        "beeb218d47f24d758a069d4517a57122": {
          "model_module": "@jupyter-widgets/controls",
          "model_name": "FloatProgressModel",
          "model_module_version": "1.5.0",
          "state": {
            "_dom_classes": [],
            "_model_module": "@jupyter-widgets/controls",
            "_model_module_version": "1.5.0",
            "_model_name": "FloatProgressModel",
            "_view_count": null,
            "_view_module": "@jupyter-widgets/controls",
            "_view_module_version": "1.5.0",
            "_view_name": "ProgressView",
            "bar_style": "success",
            "description": "",
            "description_tooltip": null,
            "layout": "IPY_MODEL_20507d5d5c804fa3baeb0f8ec35e5233",
            "max": 7031645,
            "min": 0,
            "orientation": "horizontal",
            "style": "IPY_MODEL_2b91ea90591541b5ae1de75a269d9b8c",
            "value": 7031645
          }
        },
        "3adf0968a9c64a4bafbbc46bb4c7bcc6": {
          "model_module": "@jupyter-widgets/controls",
          "model_name": "HTMLModel",
          "model_module_version": "1.5.0",
          "state": {
            "_dom_classes": [],
            "_model_module": "@jupyter-widgets/controls",
            "_model_module_version": "1.5.0",
            "_model_name": "HTMLModel",
            "_view_count": null,
            "_view_module": "@jupyter-widgets/controls",
            "_view_module_version": "1.5.0",
            "_view_name": "HTMLView",
            "description": "",
            "description_tooltip": null,
            "layout": "IPY_MODEL_a0a1821ce7bf4ddb8a7dc859e7deb8ab",
            "placeholder": "​",
            "style": "IPY_MODEL_856dc348c5554ddf964c575878702806",
            "value": " 7.03M/7.03M [00:00&lt;00:00, 13.9MB/s]"
          }
        },
        "1a9fe952914c4bbe9cfa4733d30553b8": {
          "model_module": "@jupyter-widgets/base",
          "model_name": "LayoutModel",
          "model_module_version": "1.2.0",
          "state": {
            "_model_module": "@jupyter-widgets/base",
            "_model_module_version": "1.2.0",
            "_model_name": "LayoutModel",
            "_view_count": null,
            "_view_module": "@jupyter-widgets/base",
            "_view_module_version": "1.2.0",
            "_view_name": "LayoutView",
            "align_content": null,
            "align_items": null,
            "align_self": null,
            "border": null,
            "bottom": null,
            "display": null,
            "flex": null,
            "flex_flow": null,
            "grid_area": null,
            "grid_auto_columns": null,
            "grid_auto_flow": null,
            "grid_auto_rows": null,
            "grid_column": null,
            "grid_gap": null,
            "grid_row": null,
            "grid_template_areas": null,
            "grid_template_columns": null,
            "grid_template_rows": null,
            "height": null,
            "justify_content": null,
            "justify_items": null,
            "left": null,
            "margin": null,
            "max_height": null,
            "max_width": null,
            "min_height": null,
            "min_width": null,
            "object_fit": null,
            "object_position": null,
            "order": null,
            "overflow": null,
            "overflow_x": null,
            "overflow_y": null,
            "padding": null,
            "right": null,
            "top": null,
            "visibility": null,
            "width": null
          }
        },
        "ceaca52cc9ff4d0a92bb1498d3b55745": {
          "model_module": "@jupyter-widgets/base",
          "model_name": "LayoutModel",
          "model_module_version": "1.2.0",
          "state": {
            "_model_module": "@jupyter-widgets/base",
            "_model_module_version": "1.2.0",
            "_model_name": "LayoutModel",
            "_view_count": null,
            "_view_module": "@jupyter-widgets/base",
            "_view_module_version": "1.2.0",
            "_view_name": "LayoutView",
            "align_content": null,
            "align_items": null,
            "align_self": null,
            "border": null,
            "bottom": null,
            "display": null,
            "flex": null,
            "flex_flow": null,
            "grid_area": null,
            "grid_auto_columns": null,
            "grid_auto_flow": null,
            "grid_auto_rows": null,
            "grid_column": null,
            "grid_gap": null,
            "grid_row": null,
            "grid_template_areas": null,
            "grid_template_columns": null,
            "grid_template_rows": null,
            "height": null,
            "justify_content": null,
            "justify_items": null,
            "left": null,
            "margin": null,
            "max_height": null,
            "max_width": null,
            "min_height": null,
            "min_width": null,
            "object_fit": null,
            "object_position": null,
            "order": null,
            "overflow": null,
            "overflow_x": null,
            "overflow_y": null,
            "padding": null,
            "right": null,
            "top": null,
            "visibility": null,
            "width": null
          }
        },
        "f2128e525eed4769babd87664f0c9940": {
          "model_module": "@jupyter-widgets/controls",
          "model_name": "DescriptionStyleModel",
          "model_module_version": "1.5.0",
          "state": {
            "_model_module": "@jupyter-widgets/controls",
            "_model_module_version": "1.5.0",
            "_model_name": "DescriptionStyleModel",
            "_view_count": null,
            "_view_module": "@jupyter-widgets/base",
            "_view_module_version": "1.2.0",
            "_view_name": "StyleView",
            "description_width": ""
          }
        },
        "20507d5d5c804fa3baeb0f8ec35e5233": {
          "model_module": "@jupyter-widgets/base",
          "model_name": "LayoutModel",
          "model_module_version": "1.2.0",
          "state": {
            "_model_module": "@jupyter-widgets/base",
            "_model_module_version": "1.2.0",
            "_model_name": "LayoutModel",
            "_view_count": null,
            "_view_module": "@jupyter-widgets/base",
            "_view_module_version": "1.2.0",
            "_view_name": "LayoutView",
            "align_content": null,
            "align_items": null,
            "align_self": null,
            "border": null,
            "bottom": null,
            "display": null,
            "flex": null,
            "flex_flow": null,
            "grid_area": null,
            "grid_auto_columns": null,
            "grid_auto_flow": null,
            "grid_auto_rows": null,
            "grid_column": null,
            "grid_gap": null,
            "grid_row": null,
            "grid_template_areas": null,
            "grid_template_columns": null,
            "grid_template_rows": null,
            "height": null,
            "justify_content": null,
            "justify_items": null,
            "left": null,
            "margin": null,
            "max_height": null,
            "max_width": null,
            "min_height": null,
            "min_width": null,
            "object_fit": null,
            "object_position": null,
            "order": null,
            "overflow": null,
            "overflow_x": null,
            "overflow_y": null,
            "padding": null,
            "right": null,
            "top": null,
            "visibility": null,
            "width": null
          }
        },
        "2b91ea90591541b5ae1de75a269d9b8c": {
          "model_module": "@jupyter-widgets/controls",
          "model_name": "ProgressStyleModel",
          "model_module_version": "1.5.0",
          "state": {
            "_model_module": "@jupyter-widgets/controls",
            "_model_module_version": "1.5.0",
            "_model_name": "ProgressStyleModel",
            "_view_count": null,
            "_view_module": "@jupyter-widgets/base",
            "_view_module_version": "1.2.0",
            "_view_name": "StyleView",
            "bar_color": null,
            "description_width": ""
          }
        },
        "a0a1821ce7bf4ddb8a7dc859e7deb8ab": {
          "model_module": "@jupyter-widgets/base",
          "model_name": "LayoutModel",
          "model_module_version": "1.2.0",
          "state": {
            "_model_module": "@jupyter-widgets/base",
            "_model_module_version": "1.2.0",
            "_model_name": "LayoutModel",
            "_view_count": null,
            "_view_module": "@jupyter-widgets/base",
            "_view_module_version": "1.2.0",
            "_view_name": "LayoutView",
            "align_content": null,
            "align_items": null,
            "align_self": null,
            "border": null,
            "bottom": null,
            "display": null,
            "flex": null,
            "flex_flow": null,
            "grid_area": null,
            "grid_auto_columns": null,
            "grid_auto_flow": null,
            "grid_auto_rows": null,
            "grid_column": null,
            "grid_gap": null,
            "grid_row": null,
            "grid_template_areas": null,
            "grid_template_columns": null,
            "grid_template_rows": null,
            "height": null,
            "justify_content": null,
            "justify_items": null,
            "left": null,
            "margin": null,
            "max_height": null,
            "max_width": null,
            "min_height": null,
            "min_width": null,
            "object_fit": null,
            "object_position": null,
            "order": null,
            "overflow": null,
            "overflow_x": null,
            "overflow_y": null,
            "padding": null,
            "right": null,
            "top": null,
            "visibility": null,
            "width": null
          }
        },
        "856dc348c5554ddf964c575878702806": {
          "model_module": "@jupyter-widgets/controls",
          "model_name": "DescriptionStyleModel",
          "model_module_version": "1.5.0",
          "state": {
            "_model_module": "@jupyter-widgets/controls",
            "_model_module_version": "1.5.0",
            "_model_name": "DescriptionStyleModel",
            "_view_count": null,
            "_view_module": "@jupyter-widgets/base",
            "_view_module_version": "1.2.0",
            "_view_name": "StyleView",
            "description_width": ""
          }
        }
      }
    }
  },
  "cells": [
    {
      "cell_type": "code",
      "source": [
        "!pip install transformers"
      ],
      "metadata": {
        "colab": {
          "base_uri": "https://localhost:8080/"
        },
        "id": "vBSdku_NE4Qp",
        "outputId": "8cc941e9-e7dd-44d2-a88f-18e405ccd8ba"
      },
      "execution_count": 1,
      "outputs": [
        {
          "output_type": "stream",
          "name": "stdout",
          "text": [
            "Requirement already satisfied: transformers in /usr/local/lib/python3.11/dist-packages (4.50.0)\n",
            "Requirement already satisfied: filelock in /usr/local/lib/python3.11/dist-packages (from transformers) (3.18.0)\n",
            "Requirement already satisfied: huggingface-hub<1.0,>=0.26.0 in /usr/local/lib/python3.11/dist-packages (from transformers) (0.29.3)\n",
            "Requirement already satisfied: numpy>=1.17 in /usr/local/lib/python3.11/dist-packages (from transformers) (2.0.2)\n",
            "Requirement already satisfied: packaging>=20.0 in /usr/local/lib/python3.11/dist-packages (from transformers) (24.2)\n",
            "Requirement already satisfied: pyyaml>=5.1 in /usr/local/lib/python3.11/dist-packages (from transformers) (6.0.2)\n",
            "Requirement already satisfied: regex!=2019.12.17 in /usr/local/lib/python3.11/dist-packages (from transformers) (2024.11.6)\n",
            "Requirement already satisfied: requests in /usr/local/lib/python3.11/dist-packages (from transformers) (2.32.3)\n",
            "Requirement already satisfied: tokenizers<0.22,>=0.21 in /usr/local/lib/python3.11/dist-packages (from transformers) (0.21.1)\n",
            "Requirement already satisfied: safetensors>=0.4.3 in /usr/local/lib/python3.11/dist-packages (from transformers) (0.5.3)\n",
            "Requirement already satisfied: tqdm>=4.27 in /usr/local/lib/python3.11/dist-packages (from transformers) (4.67.1)\n",
            "Requirement already satisfied: fsspec>=2023.5.0 in /usr/local/lib/python3.11/dist-packages (from huggingface-hub<1.0,>=0.26.0->transformers) (2025.3.0)\n",
            "Requirement already satisfied: typing-extensions>=3.7.4.3 in /usr/local/lib/python3.11/dist-packages (from huggingface-hub<1.0,>=0.26.0->transformers) (4.12.2)\n",
            "Requirement already satisfied: charset-normalizer<4,>=2 in /usr/local/lib/python3.11/dist-packages (from requests->transformers) (3.4.1)\n",
            "Requirement already satisfied: idna<4,>=2.5 in /usr/local/lib/python3.11/dist-packages (from requests->transformers) (3.10)\n",
            "Requirement already satisfied: urllib3<3,>=1.21.1 in /usr/local/lib/python3.11/dist-packages (from requests->transformers) (2.3.0)\n",
            "Requirement already satisfied: certifi>=2017.4.17 in /usr/local/lib/python3.11/dist-packages (from requests->transformers) (2025.1.31)\n"
          ]
        }
      ]
    },
    {
      "cell_type": "code",
      "source": [
        "from transformers import AutoModelForCausalLM, AutoTokenizer\n",
        "\n",
        "model_name = \"Qwen/Qwen2.5-Coder-7B-Instruct\"\n",
        "\n",
        "model = AutoModelForCausalLM.from_pretrained(\n",
        "    model_name,\n",
        "    torch_dtype=\"auto\",\n",
        "    device_map=\"auto\"\n",
        ")\n",
        "tokenizer = AutoTokenizer.from_pretrained(model_name)"
      ],
      "metadata": {
        "colab": {
          "base_uri": "https://localhost:8080/",
          "height": 710,
          "referenced_widgets": [
            "c466e6c01d85450a82f68917953c5546",
            "6e9973e9b3d74656b72aef7bd626b409",
            "8fae30f57d8c4dc8bc568ae0c90f70b4",
            "5d432169cfa546b9806cadf8e6537ff0",
            "252a3f7733cb430597eca4495914c72c",
            "a15279f4a9284e5c88e175e9faf91e4c",
            "ef9cf5a10e83408fb6594c0897c11d9e",
            "8b695c984a7347999e4db185e99ec219",
            "dfe54ca6f8dc4dde93143f69a5a2e360",
            "6a3bb9fbc33d4e51b7ca49acd06d4bd4",
            "40a88a2a51ec4831878e502a5422c8be",
            "9f2ea7b16a7041fdaaa399737e645cb4",
            "f5746c9f279d46cc8194e82593e804ae",
            "3ef6aacae82242719c02d003d53485bc",
            "5d8c19ad0f8749629318b46cc4575473",
            "010d829e66394837a29d0fc4882fa058",
            "2bdfb476555347c1b96c094a49f66d33",
            "ebd799d0bbf64e549d60d9b87c389c5a",
            "b1cee9be774d402f9e4b1c009e1539ec",
            "c6419639843b45c99d32d116b0522d01",
            "d83a300f78324fb2bca8bf995bef471b",
            "997ddd08360b4993825af13230c34fd0",
            "ed19f06400b24400bc386a9c421cfd11",
            "7dfe678935b54795a8c5b38cbe3c5306",
            "bc4c8e5f464345cf9f366027dbe2b5f9",
            "e79323407726451a9afca77d7e5a607b",
            "95b1046bed8441a6bc224d9f677f591d",
            "50e6dcdce41b4c3ea8af41fb8c5edb14",
            "d176db8651014b06b4998a7e7375150b",
            "b8192b05ed2945a581a238dbb33c77d5",
            "253dd982726048939f65f77b78eb2566",
            "74453999aba040c1b9a923636b348787",
            "2cfea2f3b8304fa8a7f4075cd1d285f9",
            "8b305eaddc7a4b339a010882d4bcf8a3",
            "7fb5af921c244f2a989e01c1ba5dc5b9",
            "ad69017f344b47ecad0b4d5b99336b4a",
            "8b0364597e3b4e068260006b4cdf253b",
            "37b88d74cffe4596bfc6db9caffda950",
            "8da53fd4bb31426cbf309512df1b6aa3",
            "1de265930a0d403d9e7ac3eae6bbbcbf",
            "03037c5c0a174b958525d58a17729e9a",
            "1cf5b46ef73b468c8c916cdb084c12b4",
            "75d6cc073a984115a0f20dd142d641ba",
            "cde3435c82b2420f9a006e34f3c71ac2",
            "012a23e5e7a743a8b19393bf50253bcd",
            "40835e86bc564bc9a042e94dd02a2253",
            "bcc1a4847ae34da78c50e1eb4b93746a",
            "d644f2af199046469cd7181c6e7ebfc7",
            "591d56e61c45402bbd22eb8936b2369e",
            "e3183140fccf4694b1eedb2e2e19fec0",
            "39444eba3e714276b494549a9ba05ab7",
            "76b86b82b1eb40c48e6346d49713009b",
            "c61b7a51631844628a6164856b13ec84",
            "1c8a19ce0bd04038a1b7466eaa58959d",
            "d35c38352ca54a29a6ad3d9653a6f1e5",
            "060fb1a75ab641b8aaf59d1c6387650d",
            "a4a3927c64f34a168add5aa054727b3b",
            "fd4e4d3aa9894fbb868f4f1657a0717f",
            "915ebe0a22824ec2b928649c850643f7",
            "ea1e8c01e8194a67b96852abb28a125a",
            "cac6e93065464311968f471b570c00e5",
            "a94706630f644a6b9e536f6eaa4bded3",
            "c211039b19bd40b9aea04fcaf2943cab",
            "73202f38583d400989429a6c4f31aba3",
            "4f82f68086ae48b082414f3c332fcfad",
            "3e847a52c50447d0bfe73866e95b661f",
            "ea8cb8e1fb1d472fa03c1b678a08913e",
            "a67dca25ea9344efb9ef21fa94fbe25b",
            "0574d4eb7b204b0ebdeef7f7b7065b53",
            "5842de04410d4a109af38154661000c8",
            "dc2c6c56ef624d138b8a876492397f4a",
            "472b12c8fdb84a62a4a4bea5faea0e38",
            "9dcd0e7bcf6e45abb63b160c879af6c6",
            "b8832422e43a4685b006ed4a2fd03211",
            "182a5b4f07db49b1a2d2107f636f99c6",
            "afa593902cfa412cbdbb6cfbf0802f9d",
            "5bb1f8e379f142f2a9acf47ba57177de",
            "52b018a4fbae4183af79514a82b43815",
            "3eeca41764e145a0802f1ecbc18abc6b",
            "37b12d03cd0947a1af0f8ed0ca21c21a",
            "cf84e0b92f494fc58c076a9662d0fde5",
            "bd667eed312141a2870c9d8ed176d8ee",
            "313a2340da694c58b9c0d94b9512e9a1",
            "9c09fe01dbf8421d9bb851c08e00fc47",
            "ab92845995244537878a142a96575b2a",
            "77c68edc071d470bb3e192aa1f2ed04a",
            "c2f48ca5d2ed44e7814284ab80ebff9a",
            "fc2b35c64ee847f2837737e44958bf32",
            "cf66a217f01e42c2bf23ed635b581513",
            "bc8969c01a7f4aafb9c1dde535afa333",
            "7de5fe707655414c87a417676b4f14c6",
            "e4291229629d4a749938c47dd707816d",
            "ef502402ee1e4e7790c04d317c3edc3c",
            "3dcd940d861244fe8727ac15760dd1fe",
            "067ded7da4434f859833d599b31bf677",
            "90da5a92b9ca46a58c418bc530229bb1",
            "05ddb1ef16f44f62b905f41e6f3a78b7",
            "b21fbcd19094461dafb5e6cc19ef9094",
            "6c60f96aebe14f048d0ddbae99892f89",
            "1ec26338bb3a4f20b69c981fad161285",
            "49cb439159284571b604fd8127f31512",
            "85c5c7349ec04df29510ebea12267f40",
            "f6a840feddc840ad92488c68a2915471",
            "c8ca804587544dbcbf58838f59f2ce3c",
            "0095f6e8de43478b89de9e5b095f5fa1",
            "545a43ec1a04457e9e22280bc5b89961",
            "38cbc51ee0b54d40a9f7af0c93303a7f",
            "fb85d90fabea4bb08266ad5d34ab9747",
            "3e9e38d5b708410da7470b4a12f15aad",
            "78d33c1ddc464d31b28edf92cf271f79",
            "38669e590d8245419b489989ee2599ed",
            "f6c04a09828f430aa84487f408fbf78b",
            "0782554a65df432f9feb56ff907a2dff",
            "ca19cf37e0e24f8899641d7e715e85c8",
            "d486b692b2c949ce9bad07e5a1fbeb8c",
            "130aa837b116468e9f119a54a71f7421",
            "6c64c918b971420e98a87a61e27d823e",
            "2b95185b80e740d88231ad85cc687bf0",
            "4ec5c5611c3248f4ad05fc3b4faf0629",
            "bc1bf7e00a24405b8d6c3552791ff1e6",
            "a65a55a1685a47d8ba2718ee89f98f51",
            "10960275f41b414397a425c519c42344",
            "26fc04a5dfa2423c858e94740c548046",
            "107df15e5627482e92c7be174f0cdf7a",
            "196e21ccb68546b2ad26e869ba04205e",
            "656557dc93914a10864f1baa1bb31a40",
            "9e0d57cdc9694cf2992bdb695354b85e",
            "b0c001a8314f4855b190833cf81b61ec",
            "4f871ba5188f4cc089a07e17922b8767",
            "336c6dc6a9954f669b33e73f2840f9a2",
            "1d54c9bc2a7444f29f02aeaebb95c3d3",
            "c5fc879ac78f4894b49745f104e67357",
            "505d50a412d14b8f864bff1affef5bee",
            "c85fffdccf5c4871a8dce8ce796b537a",
            "beeb218d47f24d758a069d4517a57122",
            "3adf0968a9c64a4bafbbc46bb4c7bcc6",
            "1a9fe952914c4bbe9cfa4733d30553b8",
            "ceaca52cc9ff4d0a92bb1498d3b55745",
            "f2128e525eed4769babd87664f0c9940",
            "20507d5d5c804fa3baeb0f8ec35e5233",
            "2b91ea90591541b5ae1de75a269d9b8c",
            "a0a1821ce7bf4ddb8a7dc859e7deb8ab",
            "856dc348c5554ddf964c575878702806"
          ]
        },
        "id": "KE24AqdLE88R",
        "outputId": "ced24b9a-78e4-4a65-a2df-01a994b1cae3"
      },
      "execution_count": 2,
      "outputs": [
        {
          "output_type": "stream",
          "name": "stderr",
          "text": [
            "/usr/local/lib/python3.11/dist-packages/huggingface_hub/utils/_auth.py:94: UserWarning: \n",
            "The secret `HF_TOKEN` does not exist in your Colab secrets.\n",
            "To authenticate with the Hugging Face Hub, create a token in your settings tab (https://huggingface.co/settings/tokens), set it as secret in your Google Colab and restart your session.\n",
            "You will be able to reuse this secret in all of your notebooks.\n",
            "Please note that authentication is recommended but still optional to access public models or datasets.\n",
            "  warnings.warn(\n"
          ]
        },
        {
          "output_type": "display_data",
          "data": {
            "text/plain": [
              "config.json:   0%|          | 0.00/663 [00:00<?, ?B/s]"
            ],
            "application/vnd.jupyter.widget-view+json": {
              "version_major": 2,
              "version_minor": 0,
              "model_id": "c466e6c01d85450a82f68917953c5546"
            }
          },
          "metadata": {}
        },
        {
          "output_type": "display_data",
          "data": {
            "text/plain": [
              "model.safetensors.index.json:   0%|          | 0.00/27.8k [00:00<?, ?B/s]"
            ],
            "application/vnd.jupyter.widget-view+json": {
              "version_major": 2,
              "version_minor": 0,
              "model_id": "9f2ea7b16a7041fdaaa399737e645cb4"
            }
          },
          "metadata": {}
        },
        {
          "output_type": "display_data",
          "data": {
            "text/plain": [
              "Fetching 4 files:   0%|          | 0/4 [00:00<?, ?it/s]"
            ],
            "application/vnd.jupyter.widget-view+json": {
              "version_major": 2,
              "version_minor": 0,
              "model_id": "ed19f06400b24400bc386a9c421cfd11"
            }
          },
          "metadata": {}
        },
        {
          "output_type": "display_data",
          "data": {
            "text/plain": [
              "model-00001-of-00004.safetensors:   0%|          | 0.00/4.88G [00:00<?, ?B/s]"
            ],
            "application/vnd.jupyter.widget-view+json": {
              "version_major": 2,
              "version_minor": 0,
              "model_id": "8b305eaddc7a4b339a010882d4bcf8a3"
            }
          },
          "metadata": {}
        },
        {
          "output_type": "display_data",
          "data": {
            "text/plain": [
              "model-00003-of-00004.safetensors:   0%|          | 0.00/4.33G [00:00<?, ?B/s]"
            ],
            "application/vnd.jupyter.widget-view+json": {
              "version_major": 2,
              "version_minor": 0,
              "model_id": "012a23e5e7a743a8b19393bf50253bcd"
            }
          },
          "metadata": {}
        },
        {
          "output_type": "display_data",
          "data": {
            "text/plain": [
              "model-00004-of-00004.safetensors:   0%|          | 0.00/1.09G [00:00<?, ?B/s]"
            ],
            "application/vnd.jupyter.widget-view+json": {
              "version_major": 2,
              "version_minor": 0,
              "model_id": "060fb1a75ab641b8aaf59d1c6387650d"
            }
          },
          "metadata": {}
        },
        {
          "output_type": "display_data",
          "data": {
            "text/plain": [
              "model-00002-of-00004.safetensors:   0%|          | 0.00/4.93G [00:00<?, ?B/s]"
            ],
            "application/vnd.jupyter.widget-view+json": {
              "version_major": 2,
              "version_minor": 0,
              "model_id": "ea8cb8e1fb1d472fa03c1b678a08913e"
            }
          },
          "metadata": {}
        },
        {
          "output_type": "stream",
          "name": "stderr",
          "text": [
            "Sliding Window Attention is enabled but not implemented for `sdpa`; unexpected results may be encountered.\n"
          ]
        },
        {
          "output_type": "display_data",
          "data": {
            "text/plain": [
              "Loading checkpoint shards:   0%|          | 0/4 [00:00<?, ?it/s]"
            ],
            "application/vnd.jupyter.widget-view+json": {
              "version_major": 2,
              "version_minor": 0,
              "model_id": "52b018a4fbae4183af79514a82b43815"
            }
          },
          "metadata": {}
        },
        {
          "output_type": "display_data",
          "data": {
            "text/plain": [
              "generation_config.json:   0%|          | 0.00/242 [00:00<?, ?B/s]"
            ],
            "application/vnd.jupyter.widget-view+json": {
              "version_major": 2,
              "version_minor": 0,
              "model_id": "cf66a217f01e42c2bf23ed635b581513"
            }
          },
          "metadata": {}
        },
        {
          "output_type": "stream",
          "name": "stderr",
          "text": [
            "WARNING:accelerate.big_modeling:Some parameters are on the meta device because they were offloaded to the cpu.\n"
          ]
        },
        {
          "output_type": "display_data",
          "data": {
            "text/plain": [
              "tokenizer_config.json:   0%|          | 0.00/7.30k [00:00<?, ?B/s]"
            ],
            "application/vnd.jupyter.widget-view+json": {
              "version_major": 2,
              "version_minor": 0,
              "model_id": "1ec26338bb3a4f20b69c981fad161285"
            }
          },
          "metadata": {}
        },
        {
          "output_type": "display_data",
          "data": {
            "text/plain": [
              "vocab.json:   0%|          | 0.00/2.78M [00:00<?, ?B/s]"
            ],
            "application/vnd.jupyter.widget-view+json": {
              "version_major": 2,
              "version_minor": 0,
              "model_id": "38669e590d8245419b489989ee2599ed"
            }
          },
          "metadata": {}
        },
        {
          "output_type": "display_data",
          "data": {
            "text/plain": [
              "merges.txt:   0%|          | 0.00/1.67M [00:00<?, ?B/s]"
            ],
            "application/vnd.jupyter.widget-view+json": {
              "version_major": 2,
              "version_minor": 0,
              "model_id": "10960275f41b414397a425c519c42344"
            }
          },
          "metadata": {}
        },
        {
          "output_type": "display_data",
          "data": {
            "text/plain": [
              "tokenizer.json:   0%|          | 0.00/7.03M [00:00<?, ?B/s]"
            ],
            "application/vnd.jupyter.widget-view+json": {
              "version_major": 2,
              "version_minor": 0,
              "model_id": "505d50a412d14b8f864bff1affef5bee"
            }
          },
          "metadata": {}
        }
      ]
    },
    {
      "cell_type": "markdown",
      "source": [
        "The output from model is wrapped in a markdown tag ```python ```, use regex to parse it"
      ],
      "metadata": {
        "id": "MubAXsZvBPXh"
      }
    },
    {
      "cell_type": "code",
      "source": [
        "import re\n",
        "\n",
        "def extract_python_code(text: str) -> str:\n",
        "    \"\"\"Extracts Python code enclosed in triple backticks from a given text.\"\"\"\n",
        "    match = re.search(r\"```python\\s*(.*?)\\s*```\", text, re.DOTALL)\n",
        "    return match.group(1) if match else \"\""
      ],
      "metadata": {
        "id": "ctqhbJ5RzTjn"
      },
      "execution_count": 3,
      "outputs": []
    },
    {
      "cell_type": "markdown",
      "source": [
        "Prompt to convert other language to Python:\n",
        "``` text\n",
        "You are a helpful assistant that excellent in converting codes.\n",
        "\n",
        "I will give you a code snippet, if it is not a Python code, convert it to executable Python code.\n",
        "\n",
        "Do not include explanations, restate the question.\n",
        "\n",
        "Do not add quotation marks or punctuation—just the letter. Just the Python code.\n",
        "```"
      ],
      "metadata": {
        "id": "y9ooAMKVBwNE"
      }
    },
    {
      "cell_type": "code",
      "source": [
        "def get_response(prompt):\n",
        "    messages = [\n",
        "        {\"role\": \"system\", \"content\": \"You are a helpful assistant that excellent in converting codes. I will give you a code snippet, if it is not a Python code, convert it to executable Python code. Do not include explanations, restate the question. Do not add quotation marks or punctuation—just the letter. Just the Python code.\"},\n",
        "        {\"role\": \"user\", \"content\": prompt}\n",
        "    ]\n",
        "    text = tokenizer.apply_chat_template(\n",
        "        messages,\n",
        "        tokenize=False,\n",
        "        add_generation_prompt=True\n",
        "    )\n",
        "    model_inputs = tokenizer([text], return_tensors=\"pt\").to(model.device)\n",
        "\n",
        "    generated_ids = model.generate(\n",
        "        **model_inputs,\n",
        "        max_new_tokens=512\n",
        "    )\n",
        "    generated_ids = [\n",
        "        output_ids[len(input_ids):] for input_ids, output_ids in zip(model_inputs.input_ids, generated_ids)\n",
        "    ]\n",
        "\n",
        "    response = tokenizer.batch_decode(generated_ids, skip_special_tokens=True)[0]\n",
        "    return extract_python_code(response)"
      ],
      "metadata": {
        "id": "ab-_NVUbFZ32"
      },
      "execution_count": 4,
      "outputs": []
    },
    {
      "cell_type": "markdown",
      "source": [
        "A small function to extract question that need code executing from test_set"
      ],
      "metadata": {
        "id": "sVWcqZd1C4xV"
      }
    },
    {
      "cell_type": "code",
      "source": [
        "import csv\n",
        "import re\n",
        "\n",
        "def extract_questions(input_csv, output_csv):\n",
        "    patterns = [\n",
        "        r\"^Question: What will be output\\??\",\n",
        "        r\"^Question: What will be the output\\??\",\n",
        "        r\"^Question: What is the output\\??\",\n",
        "        r\"^Question: What would be the output\\??\"\n",
        "    ]\n",
        "\n",
        "    with open(input_csv, newline='', encoding='utf-8') as infile, \\\n",
        "         open(output_csv, mode='w', newline='', encoding='utf-8') as outfile:\n",
        "\n",
        "        reader = csv.DictReader(infile)\n",
        "        fieldnames = ['task_id', 'extracted_text']\n",
        "        writer = csv.DictWriter(outfile, fieldnames=fieldnames)\n",
        "        writer.writeheader()\n",
        "\n",
        "        for row in reader:\n",
        "            question = row['question'].strip()\n",
        "            task_id = row['task_id']\n",
        "\n",
        "            for pattern in patterns:\n",
        "                match = re.match(pattern, question)\n",
        "                if match:\n",
        "                    extracted_text = question[question.find('?')+1:].strip()\n",
        "                    writer.writerow({'task_id': task_id, 'extracted_text': extracted_text})\n",
        "                    break\n",
        "\n",
        "extract_questions('b6_test_data.csv', 'b6_code_extracted.csv')"
      ],
      "metadata": {
        "id": "M7Enp65jCsi5"
      },
      "execution_count": null,
      "outputs": []
    },
    {
      "cell_type": "markdown",
      "source": [
        "Interate through question and convert them to Python executable code."
      ],
      "metadata": {
        "id": "ZTsXaGyKDQJF"
      }
    },
    {
      "cell_type": "code",
      "source": [
        "import os\n",
        "import pandas as pd\n",
        "from tqdm import tqdm\n",
        "\n",
        "df = pd.read_csv(\"/content/b6_code_extracted.csv\")\n",
        "\n",
        "results = []\n",
        "for _, row in tqdm(df.iterrows()):\n",
        "    task_id = row['task_id']\n",
        "    question = row['extracted_text']\n",
        "\n",
        "    result = get_response(question)\n",
        "    print(result)\n",
        "\n",
        "    # save task_id and answer to results to save to submission.csv file\n",
        "    results.append({\n",
        "        'task_id': task_id,\n",
        "        'python_code': result\n",
        "    })\n",
        "    # Save the results to a CSV file\n",
        "output_df = pd.DataFrame(results)\n",
        "    # save to csv\n",
        "output_df.to_csv('python_code_converted.csv', index=False)"
      ],
      "metadata": {
        "colab": {
          "base_uri": "https://localhost:8080/"
        },
        "outputId": "805d211e-8b96-4e4b-c71a-556e789a13dd",
        "id": "SSENcn1WTHh8"
      },
      "execution_count": null,
      "outputs": [
        {
          "output_type": "stream",
          "name": "stderr",
          "text": [
            "1it [00:28, 28.10s/it]"
          ]
        },
        {
          "output_type": "stream",
          "name": "stdout",
          "text": [
            "import sys\n",
            "\n",
            "a = sys.getsizeof(int) + sys.getsizeof(int)\n",
            "b = sys.getsizeof(int) + sys.getsizeof(int)\n",
            "print(a + b)\n"
          ]
        },
        {
          "output_type": "stream",
          "name": "stderr",
          "text": [
            "\r2it [01:06, 34.20s/it]"
          ]
        },
        {
          "output_type": "stream",
          "name": "stdout",
          "text": [
            "SIZE = 5\n",
            "expr = 1 | 2 | 3 | 4\n",
            "value = [2.0, 4.0, 6.0, 8.0, 10.0]\n",
            "print(value[expr])\n"
          ]
        },
        {
          "output_type": "stream",
          "name": "stderr",
          "text": [
            "\r3it [01:28, 28.54s/it]"
          ]
        },
        {
          "output_type": "stream",
          "name": "stdout",
          "text": [
            "def san_function():\n",
            "    print(\"Welcome to the Hello World\")\n",
            "    print(\"World of Linux\")\n",
            "\n",
            "san_function()\n",
            "exit(0)\n"
          ]
        },
        {
          "output_type": "stream",
          "name": "stderr",
          "text": [
            "\r4it [01:50, 25.85s/it]"
          ]
        },
        {
          "output_type": "stream",
          "name": "stdout",
          "text": [
            "var = [\"san_1\", \"san_2\", \"san_3\"]\n",
            "print(\" \".join(var))\n",
            "exit(0)\n"
          ]
        },
        {
          "output_type": "stream",
          "name": "stderr",
          "text": [
            "\r5it [02:15, 25.58s/it]"
          ]
        },
        {
          "output_type": "stream",
          "name": "stdout",
          "text": [
            "a = 10\n",
            "b = 20\n",
            "c = a + 1\n",
            "a = c + a\n",
            "print(a)\n",
            "exit(0)\n"
          ]
        },
        {
          "output_type": "stream",
          "name": "stderr",
          "text": [
            "\r6it [02:30, 22.00s/it]"
          ]
        },
        {
          "output_type": "stream",
          "name": "stdout",
          "text": [
            "print(\"20\" < \"9\" and \"true\" or \"false\")\n"
          ]
        },
        {
          "output_type": "stream",
          "name": "stderr",
          "text": [
            "\r7it [02:53, 22.31s/it]"
          ]
        },
        {
          "output_type": "stream",
          "name": "stdout",
          "text": [
            "#!/usr/bin/python3\n",
            "\n",
            "a = 5\n",
            "while a < 5:\n",
            "    print(\"hello_world\")\n",
            "    a += 1\n"
          ]
        },
        {
          "output_type": "stream",
          "name": "stderr",
          "text": [
            "\r8it [03:11, 21.10s/it]"
          ]
        },
        {
          "output_type": "stream",
          "name": "stdout",
          "text": [
            "a = [\"hello_world\", \"hello_world\"]\n",
            "for i in range(2):\n",
            "    print(a[i])\n"
          ]
        },
        {
          "output_type": "stream",
          "name": "stderr",
          "text": [
            "\r9it [04:00, 29.65s/it]"
          ]
        },
        {
          "output_type": "stream",
          "name": "stdout",
          "text": [
            "a = {(1, 1): 0, (1, 2): 1, (2, 1): 2, (2, 2): 3}\n",
            "for i in range(1, 3):\n",
            "    for j in range(1, 3):\n",
            "        print(a[(i, j)])\n"
          ]
        },
        {
          "output_type": "stream",
          "name": "stderr",
          "text": [
            "\r10it [05:23, 46.20s/it]"
          ]
        },
        {
          "output_type": "stream",
          "name": "stdout",
          "text": [
            "import ctypes\n",
            "\n",
            "# Allocate memory for an integer\n",
            "ptr1 = ctypes.c_int.in_dll(ctypes.CDLL(\"libc.so.6\"), \"malloc\")(ctypes.sizeof(ctypes.c_int))\n",
            "# Assign value to the allocated memory\n",
            "ctypes.cast(ptr1, ctypes.POINTER(ctypes.c_int))[0] = 10\n",
            "# Free the allocated memory and assign the result to another pointer\n",
            "ptr2 = ctypes.c_int.in_dll(ctypes.CDLL(\"libc.so.6\"), \"free\")(ptr1)\n",
            "# Print the value of the second pointer\n",
            "print(ptr2.value)\n"
          ]
        },
        {
          "output_type": "stream",
          "name": "stderr",
          "text": [
            "\r11it [05:41, 37.59s/it]"
          ]
        },
        {
          "output_type": "stream",
          "name": "stdout",
          "text": [
            "import ctypes\n",
            "\n",
            "ptr = ctypes.create_string_buffer(b'hello_world')\n",
            "print(ord(ptr.value[0]))\n"
          ]
        },
        {
          "output_type": "stream",
          "name": "stderr",
          "text": [
            "\r12it [06:11, 35.44s/it]"
          ]
        },
        {
          "output_type": "stream",
          "name": "stdout",
          "text": [
            "\n"
          ]
        },
        {
          "output_type": "stream",
          "name": "stderr",
          "text": [
            "\r13it [06:22, 27.85s/it]"
          ]
        },
        {
          "output_type": "stream",
          "name": "stdout",
          "text": [
            "\n"
          ]
        },
        {
          "output_type": "stream",
          "name": "stderr",
          "text": [
            "\r14it [07:56, 47.83s/it]"
          ]
        },
        {
          "output_type": "stream",
          "name": "stdout",
          "text": [
            "import os\n",
            "import signal\n",
            "import sys\n",
            "\n",
            "def response(sig_no):\n",
            "    print(sys.strerror(sig_no))\n",
            "    print(\"This is signal handler\")\n",
            "\n",
            "if __name__ == \"__main__\":\n",
            "    child = os.fork()\n",
            "    if child == -1:\n",
            "        print(\"Fork error\")\n",
            "        sys.exit(1)\n",
            "    elif child == 0:\n",
            "        os.kill(os.getppid(), signal.SIGKILL)\n",
            "        print(\"I am an orphan process because my parent has been killed by me\")\n",
            "        print(\"Handler failed\")\n",
            "    else:\n",
            "        signal.signal(signal.SIGKILL, response)\n",
            "        os.wait()\n",
            "        print(\"The parent process is still alive\")\n"
          ]
        },
        {
          "output_type": "stream",
          "name": "stderr",
          "text": [
            "\r15it [10:11, 74.27s/it]"
          ]
        },
        {
          "output_type": "stream",
          "name": "stdout",
          "text": [
            "\n"
          ]
        },
        {
          "output_type": "stream",
          "name": "stderr",
          "text": [
            "\r16it [11:01, 66.87s/it]"
          ]
        },
        {
          "output_type": "stream",
          "name": "stdout",
          "text": [
            "import os\n",
            "\n",
            "if os.mkfifo(\"/tmp/test_fifo\", 0o666) != 0:\n",
            "    print(\"mkfifo:\", os.strerror(os.errno))\n",
            "if os.mkfifo(\"/tmp/test_fifo\", 0o666) != 0:\n",
            "    print(\"mkfifo:\", os.strerror(os.errno))\n"
          ]
        },
        {
          "output_type": "stream",
          "name": "stderr",
          "text": [
            "\r17it [12:12, 68.18s/it]"
          ]
        },
        {
          "output_type": "stream",
          "name": "stdout",
          "text": [
            "\n"
          ]
        },
        {
          "output_type": "stream",
          "name": "stderr",
          "text": [
            "\r18it [14:54, 96.27s/it]"
          ]
        },
        {
          "output_type": "stream",
          "name": "stdout",
          "text": [
            "import os\n",
            "import sys\n",
            "import time\n",
            "\n",
            "class DataSt:\n",
            "    def __init__(self):\n",
            "        self.id = 0\n",
            "        self.buff = \"\"\n",
            "\n",
            "def main():\n",
            "    m_id = os.msgget(181, 0o666 | os.IPC_CREAT)\n",
            "    if m_id == -1:\n",
            "        print(\"msgget\")\n",
            "        sys.exit(1)\n",
            "\n",
            "    data1 = DataSt()\n",
            "    data1.id = 1\n",
            "    data1.buff = \"Hello World\"\n",
            "\n",
            "    if os msgsnd(m_id, data1, 11, 0) == -1:\n",
            "        print(\"msgsnd\")\n",
            "        sys.exit(1)\n",
            "\n",
            "    if os msgctl(m_id, os.IPC_RMID, None) != 0:\n",
            "        print(\"msgctl\")\n",
            "        sys.exit(1)\n",
            "\n",
            "    data2 = DataSt()\n",
            "    if os msgrcv(m_id, data2, 11, 1, 0) == -1:\n",
            "        print(\"msgrcv\")\n",
            "        sys.exit(1)\n",
            "\n",
            "    print(data2.buff)\n",
            "\n",
            "if __name__ == \"__main__\":\n",
            "    main()\n"
          ]
        },
        {
          "output_type": "stream",
          "name": "stderr",
          "text": [
            "\r19it [17:51, 120.52s/it]"
          ]
        },
        {
          "output_type": "stream",
          "name": "stdout",
          "text": [
            "import os\n",
            "import sys\n",
            "import ctypes\n",
            "\n",
            "class DataSt(ctypes.Structure):\n",
            "    _fields_ = [(\"id\", ctypes.c_long), (\"buff\", ctypes.c_char * 11)]\n",
            "\n",
            "def main():\n",
            "    m_id = os.msgget(181, 0o666 | os.IPC_CREAT)\n",
            "    if m_id == -1:\n",
            "        print(os.strerror(ctypes.get_errno()), file=sys.stderr)\n",
            "        sys.exit(1)\n",
            "\n",
            "    data1 = DataSt()\n",
            "    data1.id = 1\n",
            "    ctypes.memmove(data1.buff, b\"Hello World\", 11)\n",
            "\n",
            "    if os.msgsnd(m_id, ctypes.byref(data1), 11, 0) == -1:\n",
            "        print(os.strerror(ctypes.get_errno()), file=sys.stderr)\n",
            "        sys.exit(1)\n",
            "\n",
            "    data2 = DataSt()\n",
            "    ret = os.msgrcv(m_id, ctypes.byref(data2), 11, 1, 0)\n",
            "    print(ret)\n",
            "\n",
            "    if os.msgctl(m_id, os.IPC_RMID, None) != 0:\n",
            "        print(os.strerror(ctypes.get_errno()), file=sys.stderr)\n",
            "        sys.exit(1)\n",
            "\n",
            "if __name__ == \"__main__\":\n",
            "    main()\n"
          ]
        },
        {
          "output_type": "stream",
          "name": "stderr",
          "text": [
            "\r20it [20:38, 134.51s/it]"
          ]
        },
        {
          "output_type": "stream",
          "name": "stdout",
          "text": [
            "import os\n",
            "import sys\n",
            "import time\n",
            "\n",
            "def sem_p():\n",
            "    global mybuf\n",
            "    mybuf.sem_num = 0\n",
            "    mybuf.sem_op = -1\n",
            "    mybuf.sem_flg = os.SEM_UNDO\n",
            "    os.semop(sem_id, [mybuf], 1)\n",
            "\n",
            "def sem_v():\n",
            "    global mybuf\n",
            "    mybuf.sem_num = 0\n",
            "    mybuf.sem_op = 1\n",
            "    mybuf.sem_flg = os.SEM_UNDO\n",
            "    os.semop(sem_id, [mybuf], 1)\n",
            "\n",
            "if __name__ == \"__main__\":\n",
            "    sem_id = os.semget(os.IPC_PRIVATE, 1, 0o666 | os.IPC_CREAT)\n",
            "    mybuf = os.sembuf(0, 0, 0)\n",
            "    myun = {'val': 0}\n",
            "    os.semctl(sem_id, 0, os.IPC_RMID, myun)\n",
            "    os.semctl(sem_id, 0, os.SETVAL, myun)\n",
            "    sem_p()\n",
            "    print(\"Hello World\")\n",
            "    sem_v()\n",
            "    os.semctl(sem_id, 0, os.IPC_RMID, myun)\n"
          ]
        },
        {
          "output_type": "stream",
          "name": "stderr",
          "text": [
            "\r21it [21:51, 115.99s/it]"
          ]
        },
        {
          "output_type": "stream",
          "name": "stdout",
          "text": [
            "import socket\n",
            "\n",
            "def main():\n",
            "    fd_server = socket.socket(socket.AF_INET, socket.SOCK_STREAM)\n",
            "    if fd_server == -1:\n",
            "        print(\"fd_sock\")\n",
            "        exit(1)\n",
            "\n",
            "    add_server = socket.sockaddr_in()\n",
            "    add_client = socket.sockaddr_in()\n",
            "\n",
            "    fd_client = fd_server.accept()\n",
            "    if fd_client == -1:\n",
            "        print(\"accept\")\n",
            "\n",
            "    buff = fd_client.recv(10)\n",
            "    return 0\n",
            "\n",
            "if __name__ == \"__main__\":\n",
            "    main()\n"
          ]
        },
        {
          "output_type": "stream",
          "name": "stderr",
          "text": [
            "\r22it [22:42, 96.39s/it] "
          ]
        },
        {
          "output_type": "stream",
          "name": "stdout",
          "text": [
            "import socket\n",
            "\n",
            "fd_server = socket.socket(socket.AF_INET, socket.SOCK_STREAM)\n",
            "close(fd_server)\n",
            "perror(\"accept\")\n",
            "if listen(fd_server, 5) != 0:\n",
            "    perror(\"listen\")\n",
            "fd_client = accept(fd_server, (struct sockaddr *)&add_server, &len)\n",
            "if fd_client == -1:\n",
            "    return 0\n"
          ]
        },
        {
          "output_type": "stream",
          "name": "stderr",
          "text": [
            "\r23it [23:23, 79.96s/it]"
          ]
        },
        {
          "output_type": "stream",
          "name": "stdout",
          "text": [
            "\n"
          ]
        },
        {
          "output_type": "stream",
          "name": "stderr",
          "text": [
            "\r24it [23:39, 60.62s/it]"
          ]
        },
        {
          "output_type": "stream",
          "name": "stdout",
          "text": [
            "\n"
          ]
        },
        {
          "output_type": "stream",
          "name": "stderr",
          "text": [
            "\r25it [23:59, 48.47s/it]"
          ]
        },
        {
          "output_type": "stream",
          "name": "stdout",
          "text": [
            "str1='Geeksfor'\n",
            "str2='Geeks'\n",
            "str3=str1+str2 \n",
            "print(str3)\n"
          ]
        },
        {
          "output_type": "stream",
          "name": "stderr",
          "text": [
            "\r26it [24:16, 39.13s/it]"
          ]
        },
        {
          "output_type": "stream",
          "name": "stdout",
          "text": [
            "arr = ['arun', 'rishi', 'shivam', 'raj']\n",
            "print(sorted(arr))\n"
          ]
        },
        {
          "output_type": "stream",
          "name": "stderr",
          "text": [
            "\r27it [24:30, 31.66s/it]"
          ]
        },
        {
          "output_type": "stream",
          "name": "stdout",
          "text": [
            "gfg = \"GeeksforGeeks\"\n",
            "print(gfg[4])\n"
          ]
        },
        {
          "output_type": "stream",
          "name": "stderr",
          "text": [
            "\r28it [24:42, 25.48s/it]"
          ]
        },
        {
          "output_type": "stream",
          "name": "stdout",
          "text": [
            "ans = 1\n",
            "print(ans == '1')\n"
          ]
        },
        {
          "output_type": "stream",
          "name": "stderr",
          "text": [
            "\r29it [28:39, 89.03s/it]"
          ]
        },
        {
          "output_type": "stream",
          "name": "stdout",
          "text": [
            "class CircularQueue:\n",
            "    CAPACITY = 100\n",
            "\n",
            "    def __init__(self, n=CAPACITY):\n",
            "        self.size = n\n",
            "        self.front = 0\n",
            "        self.rear = 0\n",
            "        self.q = [None] * n\n",
            "        self.count = 0\n",
            "\n",
            "    def enqueue(self, item):\n",
            "        if self.count == self.size:\n",
            "            print(\"Queue overflow\")\n",
            "        else:\n",
            "            self.q[self.rear] = item\n",
            "            self.rear = (self.rear + 1) % self.size\n",
            "            self.count += 1\n",
            "\n",
            "    def dequeue(self):\n",
            "        if self.count == 0:\n",
            "            print(\"Queue underflow\")\n",
            "            return None\n",
            "        else:\n",
            "            ele = self.q[self.front]\n",
            "            self.q[self.front] = None\n",
            "            self.front = (self.front + 1) % self.size\n",
            "            self.count -= 1\n",
            "            return ele\n",
            "\n",
            "    def front_element(self):\n",
            "        if self.count == 0:\n",
            "            return -999\n",
            "        else:\n",
            "            return self.q[self.front]\n",
            "\n",
            "    def rear_element(self):\n",
            "        if self.count == 0:\n",
            "            return -999\n",
            "        else:\n",
            "            low = self.q[(self.rear - 1) % self.size]\n",
            "            return low\n",
            "\n",
            "class CircularQueueDemo:\n",
            "    @staticmethod\n",
            "    def main():\n",
            "        var = None\n",
            "        my_q = CircularQueue()\n",
            "        my_q.enqueue(10)\n",
            "        my_q.enqueue(3)\n",
            "        var = my_q.rear_element()\n",
            "        my_q.dequeue()\n",
            "        my_q.enqueue(6)\n",
            "        var = my_q.front_element()\n",
            "        print(f\"{var} {var}\")\n",
            "\n",
            "CircularQueueDemo.main()\n"
          ]
        },
        {
          "output_type": "stream",
          "name": "stderr",
          "text": [
            "\r30it [30:05, 88.29s/it]"
          ]
        },
        {
          "output_type": "stream",
          "name": "stdout",
          "text": [
            "def func1(arr, n):\n",
            "    k = arr[0]\n",
            "    for i in range(n - 1):\n",
            "        arr[i] = arr[i + 1]\n",
            "    arr[n - 1] = k\n",
            "\n",
            "def func(arr, d, n):\n",
            "    for _ in range(d):\n",
            "        func1(arr, n)\n",
            "\n",
            "def printArray(arr, n):\n",
            "    for i in range(n):\n",
            "        print(arr[i], end=\" \")\n",
            "\n",
            "arr = [1, 2, 3, 4, 5]\n",
            "n = len(arr)\n",
            "func(arr, 3, n)\n",
            "printArray(arr, n)\n"
          ]
        },
        {
          "output_type": "stream",
          "name": "stderr",
          "text": [
            "\r31it [30:43, 73.19s/it]"
          ]
        },
        {
          "output_type": "stream",
          "name": "stdout",
          "text": [
            "def get_sum(n):\n",
            "    sm, i = 0, 1\n",
            "    while i <= n:\n",
            "        sm += i\n",
            "        i += 1\n",
            "    return sm\n",
            "\n",
            "n = 10\n",
            "ans = get_sum(n)\n",
            "print(ans)\n"
          ]
        },
        {
          "output_type": "stream",
          "name": "stderr",
          "text": [
            "\r32it [31:15, 60.67s/it]"
          ]
        },
        {
          "output_type": "stream",
          "name": "stdout",
          "text": [
            "def recursive_sum(n):\n",
            "    if n == 0:\n",
            "        return 0\n",
            "    return n + recursive_sum(n - 1)\n",
            "\n",
            "n = 0\n",
            "ans = recursive_sum(n)\n",
            "print(ans)\n"
          ]
        },
        {
          "output_type": "stream",
          "name": "stderr",
          "text": [
            "\r33it [33:47, 88.21s/it]"
          ]
        },
        {
          "output_type": "stream",
          "name": "stdout",
          "text": [
            "class Node:\n",
            "    def __init__(self, val):\n",
            "        self.val = val\n",
            "        self.next = None\n",
            "\n",
            "def get_max(head):\n",
            "    temp = head.next\n",
            "    max_num = temp.val\n",
            "    while temp:\n",
            "        if temp.val > max_num:\n",
            "            max_num = temp.val\n",
            "        temp = temp.next\n",
            "    return max_num\n",
            "\n",
            "def get_min(head):\n",
            "    temp = head.next\n",
            "    min_num = temp.val\n",
            "    while temp:\n",
            "        if temp.val < min_num:\n",
            "            min_num = temp.val\n",
            "        temp = temp.next\n",
            "    return min_num\n",
            "\n",
            "def main():\n",
            "    arr = [8, 3, 3, 4, 5, 2, 5, 6, 7]\n",
            "    head = Node(0)\n",
            "    temp = head\n",
            "    for num in arr:\n",
            "        newNode = Node(num)\n",
            "        temp.next = newNode\n",
            "        temp = temp.next\n",
            "    max_num = get_max(head)\n",
            "    min_num = get_min(head)\n",
            "    print(max_num, min_num)\n",
            "\n",
            "if __name__ == \"__main__\":\n",
            "    main()\n"
          ]
        },
        {
          "output_type": "stream",
          "name": "stderr",
          "text": [
            "\r34it [36:38, 112.89s/it]"
          ]
        },
        {
          "output_type": "stream",
          "name": "stdout",
          "text": [
            "class Node:\n",
            "    def __init__(self, val=0, next=None):\n",
            "        self.val = val\n",
            "        self.next = next\n",
            "\n",
            "def max_of_two(a, b):\n",
            "    if a > b:\n",
            "        return a\n",
            "    return b\n",
            "\n",
            "def recursive_get_max(temp):\n",
            "    if temp.next is None:\n",
            "        return temp.val\n",
            "    return max_of_two(temp.val, recursive_get_max(temp.next))\n",
            "\n",
            "def min_of_two(a, b):\n",
            "    if a < b:\n",
            "        return a\n",
            "    return b\n",
            "\n",
            "def recursive_get_min(temp):\n",
            "    if temp.next is None:\n",
            "        return temp.val\n",
            "    return min_of_two(temp.val, recursive_get_min(temp.next))\n",
            "\n",
            "def main():\n",
            "    n = 9\n",
            "    arr = [1, 3, 2, 4, 5, 0, 5, 6, 7]\n",
            "    head = Node()\n",
            "    temp = head\n",
            "    for i in range(n):\n",
            "        newNode = Node(arr[i])\n",
            "        temp.next = newNode\n",
            "        temp = temp.next\n",
            "    max_num = recursive_get_max(head.next)\n",
            "    min_num = recursive_get_min(head.next)\n",
            "    print(max_num, min_num)\n",
            "\n",
            "if __name__ == \"__main__\":\n",
            "    main()\n"
          ]
        },
        {
          "output_type": "stream",
          "name": "stderr",
          "text": [
            "\r35it [37:35, 96.28s/it] "
          ]
        },
        {
          "output_type": "stream",
          "name": "stdout",
          "text": [
            "def search_num(arr, num, length):\n",
            "    for i in range(length):\n",
            "        if arr[i] == num:\n",
            "            return i\n",
            "    return -1\n",
            "\n",
            "arr = [1, 3, 3, 3, 5]\n",
            "num = 3\n",
            "length = 5\n",
            "indx = search_num(arr, num, length)\n",
            "print(f\"Index of {num} is {indx}\")\n"
          ]
        },
        {
          "output_type": "stream",
          "name": "stderr",
          "text": [
            "\r36it [38:42, 87.52s/it]"
          ]
        },
        {
          "output_type": "stream",
          "name": "stdout",
          "text": [
            "arr = [-2, -5, 6, -2, 3, -1, 0, -5, 6]\n",
            "len = len(arr)\n",
            "cur_max = arr[0]\n",
            "for strt_idx in range(len):\n",
            "    tmp_max = 0\n",
            "    for sub_arr_idx in range(strt_idx, len):\n",
            "        tmp_max += arr[sub_arr_idx]\n",
            "        if tmp_max > cur_max:\n",
            "            cur_max = tmp_max\n",
            "print(cur_max)\n"
          ]
        },
        {
          "output_type": "stream",
          "name": "stderr",
          "text": [
            "\r37it [40:32, 94.02s/it]"
          ]
        },
        {
          "output_type": "stream",
          "name": "stdout",
          "text": [
            "def min_jump(arr, length):\n",
            "    jumps = [float('inf')] * length\n",
            "    jumps[length - 1] = 0\n",
            "    for idx in range(length - 2, -1, -1):\n",
            "        tmp_min = float('inf')\n",
            "        for j in range(1, arr[idx] + 1):\n",
            "            if idx + j < length and jumps[idx + j] + 1 < tmp_min:\n",
            "                tmp_min = jumps[idx + j] + 1\n",
            "        jumps[idx] = tmp_min\n",
            "    return jumps[0]\n",
            "\n",
            "arr = [9, 9, 9, 9, 9, 9, 9, 9, 9]\n",
            "length = len(arr)\n",
            "ans = min_jump(arr, length)\n",
            "print(ans)\n"
          ]
        },
        {
          "output_type": "stream",
          "name": "stderr",
          "text": [
            "\r38it [42:40, 104.33s/it]"
          ]
        },
        {
          "output_type": "stream",
          "name": "stdout",
          "text": [
            "def max_num(a, b):\n",
            "    if a > b:\n",
            "        return a\n",
            "    return b\n",
            "\n",
            "def lps(str1):\n",
            "    len_str = len(str1)\n",
            "    str2 = str1[::-1]\n",
            "    arr = [[0 for _ in range(len_str + 1)] for _ in range(len_str + 1)]\n",
            "    for i in range(1, len_str + 1):\n",
            "        for j in range(1, len_str + 1):\n",
            "            if str1[i - 1] == str2[j - 1]:\n",
            "                arr[i][j] = 1 + arr[i - 1][j - 1]\n",
            "            else:\n",
            "                arr[i][j] = max_num(arr[i - 1][j], arr[i][j - 1])\n",
            "    return arr[len_str][len_str]\n",
            "\n",
            "str1 = \"abcd\"\n",
            "ans = lps(str1)\n",
            "print(ans)\n"
          ]
        },
        {
          "output_type": "stream",
          "name": "stderr",
          "text": [
            "\r39it [46:09, 135.79s/it]"
          ]
        },
        {
          "output_type": "stream",
          "name": "stdout",
          "text": [
            "def max_num(a, b):\n",
            "    if a > b:\n",
            "        return a\n",
            "    return b\n",
            "\n",
            "def kadane_algo(arr, length):\n",
            "    answer, current_sum, index = 0, 0, 0\n",
            "    for index in range(length):\n",
            "        current_sum = max_num(0, current_sum + arr[index])\n",
            "        answer = max_num(current_sum, answer)\n",
            "    return answer\n",
            "\n",
            "def max_sum_rectangle(arr, rows, cols):\n",
            "    left, right, temp = [0]*rows, 0, 0\n",
            "    max_sum = float('-inf')\n",
            "    for left in range(cols):\n",
            "        for right in range(left, cols):\n",
            "            if right == left:\n",
            "                for i in range(rows):\n",
            "                    temp[i] = arr[i][right]\n",
            "            else:\n",
            "                for i in range(rows):\n",
            "                    temp[i] += arr[i][right]\n",
            "            val = kadane_algo(temp, rows)\n",
            "            if val > max_sum:\n",
            "                max_sum = val\n",
            "    return max_sum\n",
            "\n",
            "if __name__ == \"__main__\":\n",
            "    arr = [[7, 1, -3, -6, -15],\n",
            "           [10, -6, 3, -4, 11],\n",
            "           [-2, -3, -1, 2, -5],\n",
            "           [3, 0, 1, 0, 3]]\n",
            "    rows, cols = 4, 5\n",
            "    ans = max_sum_rectangle(arr, rows, cols)\n",
            "    print(ans)\n"
          ]
        },
        {
          "output_type": "stream",
          "name": "stderr",
          "text": [
            "\r40it [48:58, 145.58s/it]"
          ]
        },
        {
          "output_type": "stream",
          "name": "stdout",
          "text": [
            "p = ['a', 'b', 'c', 'd', 'e', 'f', 'g', 'h', 'i', 'j', 'k', 'l', 'm', 'n', 'o', 'p', 'q', 'r', 's', 't', 'u', 'v', 'w', 'x', 'y', 'z']\n",
            "ch = ['Q', 'W', 'E', 'R', 'T', 'Y', 'U', 'I', 'O', 'P', 'A', 'S', 'D', 'F', 'G', 'H', 'J', 'K', 'L', 'Z', 'X', 'C', 'V', 'B', 'N', 'M']\n",
            "\n",
            "def do_encryption(s):\n",
            "    c = []\n",
            "    for i in range(len(s)):\n",
            "        for j in range(26):\n",
            "            if p[j] == s[i]:\n",
            "                c.append(ch[j])\n",
            "                break\n",
            "    return ''.join(c)\n",
            "\n",
            "if __name__ == \"__main__\":\n",
            "    sc = input(\"Enter the message: \").lower()\n",
            "    en = do_encryption(sc)\n",
            "    print(\"Encrypted message:\", en)\n"
          ]
        },
        {
          "output_type": "stream",
          "name": "stderr",
          "text": [
            "\r41it [49:39, 114.44s/it]"
          ]
        },
        {
          "output_type": "stream",
          "name": "stdout",
          "text": [
            "arr = [2, 6, 8, 13, 19]\n",
            "\n",
            "# Modifying the data\n",
            "for i in range(0, len(arr), 2):\n",
            "    arr[i] += 1\n",
            "\n",
            "for i in range(len(arr)):\n",
            "    print(arr[i])\n"
          ]
        },
        {
          "output_type": "stream",
          "name": "stderr",
          "text": [
            "\r42it [49:58, 85.73s/it] "
          ]
        },
        {
          "output_type": "stream",
          "name": "stdout",
          "text": [
            "if sys.getsizeof(int) > -10:\n",
            "    print(\"YES\")\n",
            "else:\n",
            "    print(\"NO\")\n"
          ]
        },
        {
          "output_type": "stream",
          "name": "stderr",
          "text": [
            "\r43it [50:14, 64.84s/it]"
          ]
        },
        {
          "output_type": "stream",
          "name": "stdout",
          "text": [
            "_ = 20.5\n",
            "__ = 20\n",
            "\n",
            "print(__ + _)\n"
          ]
        },
        {
          "output_type": "stream",
          "name": "stderr",
          "text": [
            "\r44it [50:29, 49.85s/it]"
          ]
        },
        {
          "output_type": "stream",
          "name": "stdout",
          "text": [
            "a = 2\n",
            "\n",
            "if \"%d=gfg\" % a:\n",
            "    pass\n"
          ]
        },
        {
          "output_type": "stream",
          "name": "stderr",
          "text": [
            "\r45it [50:45, 39.75s/it]"
          ]
        },
        {
          "output_type": "stream",
          "name": "stdout",
          "text": [
            "x = 0\n",
            "y = 1\n",
            "z = x & y\n",
            "print(z)\n"
          ]
        },
        {
          "output_type": "stream",
          "name": "stderr",
          "text": [
            "\r46it [50:52, 29.89s/it]"
          ]
        },
        {
          "output_type": "stream",
          "name": "stdout",
          "text": [
            "\n"
          ]
        },
        {
          "output_type": "stream",
          "name": "stderr",
          "text": [
            "\r47it [51:33, 33.13s/it]"
          ]
        },
        {
          "output_type": "stream",
          "name": "stdout",
          "text": [
            "x, y, z = 4, 3, 1\n",
            "if (x >> (z - 1) & y << (z + 1)):\n",
            "    x += 2\n",
            "else:\n",
            "    y = x << z\n",
            "print(x - y + z)\n"
          ]
        },
        {
          "output_type": "stream",
          "name": "stderr",
          "text": [
            "\r48it [51:56, 30.06s/it]"
          ]
        },
        {
          "output_type": "stream",
          "name": "stdout",
          "text": [
            "arr = [1, 2, 3, 4, 5]\n",
            "for i in range(5):\n",
            "    print(arr[i])\n"
          ]
        },
        {
          "output_type": "stream",
          "name": "stderr",
          "text": [
            "\r49it [52:20, 28.42s/it]"
          ]
        },
        {
          "output_type": "stream",
          "name": "stdout",
          "text": [
            "class A:\n",
            "    def __init__(self, a=0):\n",
            "        print(\"new A\")\n",
            "\n",
            "a = A()\n",
            "b = A()\n",
            "c = A()\n"
          ]
        },
        {
          "output_type": "stream",
          "name": "stderr",
          "text": [
            "\r50it [52:56, 30.51s/it]"
          ]
        },
        {
          "output_type": "stream",
          "name": "stdout",
          "text": [
            "n = 10\n",
            "\n",
            "class A:\n",
            "    def __init__(self):\n",
            "        self.n = 100\n",
            "        self.m = 50\n",
            "    \n",
            "    def disp(self):\n",
            "        print(f\"{self.n}{self.m}\")\n"
          ]
        },
        {
          "output_type": "stream",
          "name": "stderr",
          "text": [
            "\r51it [53:42, 35.28s/it]"
          ]
        },
        {
          "output_type": "stream",
          "name": "stdout",
          "text": [
            "import sys\n",
            "\n",
            "class Test:\n",
            "    def __init__(self):\n",
            "        print(\"Test's Constructor is Called\")\n",
            "\n",
            "class Result:\n",
            "    a = Test()\n",
            "    def __init__(self):\n",
            "        print(\"Result's Constructor is Called\")\n",
            "\n",
            "def main():\n",
            "    b = Result()\n",
            "\n",
            "if __name__ == \"__main__\":\n",
            "    main()\n"
          ]
        },
        {
          "output_type": "stream",
          "name": "stderr",
          "text": [
            "\r52it [54:06, 31.86s/it]"
          ]
        },
        {
          "output_type": "stream",
          "name": "stdout",
          "text": [
            "def test(y):\n",
            "    y = \"It is a string\"\n",
            "\n",
            "def main():\n",
            "    x = None\n",
            "    test(x)\n",
            "    print(x)\n",
            "\n",
            "main()\n"
          ]
        },
        {
          "output_type": "stream",
          "name": "stderr",
          "text": [
            "\r53it [54:14, 24.61s/it]"
          ]
        },
        {
          "output_type": "stream",
          "name": "stdout",
          "text": [
            "\n"
          ]
        },
        {
          "output_type": "stream",
          "name": "stderr",
          "text": [
            "\r54it [54:28, 21.65s/it]"
          ]
        },
        {
          "output_type": "stream",
          "name": "stdout",
          "text": [
            "i = 0\n",
            "j = i + 1 + i\n",
            "print(j)\n"
          ]
        },
        {
          "output_type": "stream",
          "name": "stderr",
          "text": [
            "\r55it [54:41, 19.02s/it]"
          ]
        },
        {
          "output_type": "stream",
          "name": "stdout",
          "text": [
            "x=2;y=1;x*=x+y;print(x)\n"
          ]
        },
        {
          "output_type": "stream",
          "name": "stderr",
          "text": [
            "\r56it [54:54, 16.99s/it]"
          ]
        },
        {
          "output_type": "stream",
          "name": "stdout",
          "text": [
            "\n"
          ]
        },
        {
          "output_type": "stream",
          "name": "stderr",
          "text": [
            "\r57it [55:29, 22.67s/it]"
          ]
        },
        {
          "output_type": "stream",
          "name": "stdout",
          "text": [
            "import sys\n",
            "\n",
            "ch = float(input(\"enter a value between 1 to 2:\"))\n",
            "if ch == 1:\n",
            "    print(1)\n",
            "elif ch == 2:\n",
            "    print(2)\n",
            "else:\n",
            "    print(\"Invalid input\")\n"
          ]
        },
        {
          "output_type": "stream",
          "name": "stderr",
          "text": [
            "\r58it [55:53, 22.94s/it]"
          ]
        },
        {
          "output_type": "stream",
          "name": "stdout",
          "text": [
            "for i in range(5):\n",
            "    for j in range(4):\n",
            "        if i > 1:\n",
            "            continue\n",
            "        print(\"Hi\")\n"
          ]
        },
        {
          "output_type": "stream",
          "name": "stderr",
          "text": [
            "\r59it [56:20, 24.25s/it]"
          ]
        },
        {
          "output_type": "stream",
          "name": "stdout",
          "text": [
            "def main():\n",
            "    static_x = [0]\n",
            "    if static_x[0] < 2:\n",
            "        static_x[0] += 1\n",
            "        main()\n",
            "\n",
            "main()\n"
          ]
        },
        {
          "output_type": "stream",
          "name": "stderr",
          "text": [
            "\r60it [56:36, 21.82s/it]"
          ]
        },
        {
          "output_type": "stream",
          "name": "stdout",
          "text": [
            "max = 10\n",
            "\n",
            "def f():\n",
            "    print(max * 10)\n",
            "\n",
            "f()\n"
          ]
        },
        {
          "output_type": "stream",
          "name": "stderr",
          "text": [
            "\r61it [57:29, 31.12s/it]"
          ]
        },
        {
          "output_type": "stream",
          "name": "stdout",
          "text": [
            "\n"
          ]
        },
        {
          "output_type": "stream",
          "name": "stderr",
          "text": [
            "\r62it [57:49, 27.65s/it]"
          ]
        },
        {
          "output_type": "stream",
          "name": "stdout",
          "text": [
            "a = [1, 2, 3]\n",
            "p = a\n",
            "print(hex(id(p)), hex(id(a)))\n"
          ]
        },
        {
          "output_type": "stream",
          "name": "stderr",
          "text": [
            "\r63it [58:08, 24.97s/it]"
          ]
        },
        {
          "output_type": "stream",
          "name": "stdout",
          "text": [
            "s = \"hello\"\n",
            "p = s\n",
            "print(f\"{p[1]}\\t{s[1]}\")\n"
          ]
        },
        {
          "output_type": "stream",
          "name": "stderr",
          "text": [
            "\r64it [58:41, 27.37s/it]"
          ]
        },
        {
          "output_type": "stream",
          "name": "stdout",
          "text": [
            "class Student:\n",
            "    def __init__(self):\n",
            "        self.no = 5\n",
            "        self.name = \" \"\n",
            "\n",
            "def main():\n",
            "    s = Student()\n",
            "    s.no = 8\n",
            "    print(\"hello\")\n",
            "\n",
            "main()\n"
          ]
        },
        {
          "output_type": "stream",
          "name": "stderr",
          "text": [
            "\r65it [59:01, 25.41s/it]"
          ]
        },
        {
          "output_type": "stream",
          "name": "stdout",
          "text": [
            "class P:\n",
            "    def __init__(self):\n",
            "        self.k = 10\n",
            "\n",
            "p = P()\n",
            "print(p.k)\n"
          ]
        },
        {
          "output_type": "stream",
          "name": "stderr",
          "text": [
            "\r66it [59:29, 26.14s/it]"
          ]
        },
        {
          "output_type": "stream",
          "name": "stdout",
          "text": [
            "class Student:\n",
            "    def __init__(self):\n",
            "        self.c = \"\"\n",
            "\n",
            "def main():\n",
            "    s = Student()\n",
            "    s.c = \"hello\"\n",
            "    print(s.c)\n",
            "\n",
            "main()\n"
          ]
        },
        {
          "output_type": "stream",
          "name": "stderr",
          "text": [
            "\r67it [1:00:09, 30.33s/it]"
          ]
        },
        {
          "output_type": "stream",
          "name": "stdout",
          "text": [
            "class P:\n",
            "    def __init__(self, x, y, ptr):\n",
            "        self.x = x\n",
            "        self.y = y\n",
            "        self.ptr = ptr\n",
            "\n",
            "p = P(1, 2, None)\n",
            "p.ptr = p\n",
            "print(p.ptr.x)\n"
          ]
        },
        {
          "output_type": "stream",
          "name": "stderr",
          "text": [
            "\r68it [1:00:38, 29.78s/it]"
          ]
        },
        {
          "output_type": "stream",
          "name": "stdout",
          "text": [
            "class Student:\n",
            "    def __init__(self, name):\n",
            "        self.name = name\n",
            "\n",
            "s = [Student(\"hi\"), Student(\"hey\")]\n",
            "print(s[0].name[1])\n"
          ]
        },
        {
          "output_type": "stream",
          "name": "stderr",
          "text": [
            "\r69it [1:01:07, 29.47s/it]"
          ]
        },
        {
          "output_type": "stream",
          "name": "stdout",
          "text": [
            "lookup = [0, 1, 2, 3, 4, 5, 6, 7, 8, 9]\n",
            "print(lookup[3])\n"
          ]
        },
        {
          "output_type": "stream",
          "name": "stderr",
          "text": [
            "\r70it [1:01:41, 30.96s/it]"
          ]
        },
        {
          "output_type": "stream",
          "name": "stdout",
          "text": [
            "import ctypes\n",
            "\n",
            "class Union(ctypes.Union):\n",
            "    _fields_ = [(\"x\", ctypes.c_int), (\"y\", ctypes.c_char)]\n",
            "\n",
            "p = Union()\n",
            "p.x = 10\n",
            "print(ctypes.sizeof(p))\n"
          ]
        },
        {
          "output_type": "stream",
          "name": "stderr",
          "text": [
            "\r71it [1:02:00, 27.42s/it]"
          ]
        },
        {
          "output_type": "stream",
          "name": "stdout",
          "text": [
            "import ctypes\n",
            "\n",
            "def f(chr, *args):\n",
            "    print(chr)\n",
            "\n",
            "c = 97\n",
            "f(c)\n"
          ]
        },
        {
          "output_type": "stream",
          "name": "stderr",
          "text": [
            "\r72it [1:02:09, 21.90s/it]"
          ]
        },
        {
          "output_type": "stream",
          "name": "stdout",
          "text": [
            "n = int(input())\n",
            "print(n)\n"
          ]
        },
        {
          "output_type": "stream",
          "name": "stderr",
          "text": [
            "\r73it [1:02:23, 19.59s/it]"
          ]
        },
        {
          "output_type": "stream",
          "name": "stdout",
          "text": [
            "\n"
          ]
        },
        {
          "output_type": "stream",
          "name": "stderr",
          "text": [
            "\r74it [1:02:47, 20.90s/it]"
          ]
        },
        {
          "output_type": "stream",
          "name": "stdout",
          "text": [
            "import ctypes\n",
            "\n",
            "str_c = ctypes.c_char_p(b\"hello, world\\n\")\n",
            "strlen = ctypes.CDLL(None).strlen\n",
            "print(strlen(str_c))\n"
          ]
        },
        {
          "output_type": "stream",
          "name": "stderr",
          "text": [
            "\r75it [1:03:13, 22.20s/it]"
          ]
        },
        {
          "output_type": "stream",
          "name": "stdout",
          "text": [
            "\n"
          ]
        },
        {
          "output_type": "stream",
          "name": "stderr",
          "text": [
            "\r76it [1:03:44, 24.84s/it]"
          ]
        },
        {
          "output_type": "stream",
          "name": "stdout",
          "text": [
            "hello_world = {\"a\": 1, \"b\": 2, \"c\": 3, \"d\": 4, \"e\": 5}\n",
            "print(b * c + e - d)\n"
          ]
        },
        {
          "output_type": "stream",
          "name": "stderr",
          "text": [
            "\r77it [1:03:57, 21.46s/it]"
          ]
        },
        {
          "output_type": "stream",
          "name": "stdout",
          "text": [
            "\n"
          ]
        },
        {
          "output_type": "stream",
          "name": "stderr",
          "text": [
            "\r78it [1:04:18, 21.41s/it]"
          ]
        },
        {
          "output_type": "stream",
          "name": "stdout",
          "text": [
            "import ctypes\n",
            "\n",
            "p = ctypes.create_string_buffer(b'welcome', 100)\n",
            "print(p.value.decode('utf-8'))\n"
          ]
        },
        {
          "output_type": "stream",
          "name": "stderr",
          "text": [
            "\r79it [1:04:39, 21.21s/it]"
          ]
        },
        {
          "output_type": "stream",
          "name": "stdout",
          "text": [
            "def hello_world(s, n):\n",
            "    return s + \" \" + n\n",
            "\n",
            "print(hello_world(\"hello\", \"world\"))\n"
          ]
        },
        {
          "output_type": "stream",
          "name": "stderr",
          "text": [
            "\r80it [1:04:53, 18.91s/it]"
          ]
        },
        {
          "output_type": "stream",
          "name": "stdout",
          "text": [
            "def hello(c):\n",
            "    return c\n",
            "\n",
            "print(hello(\"i am\"))\n"
          ]
        },
        {
          "output_type": "stream",
          "name": "stderr",
          "text": [
            "\r81it [1:05:12, 19.06s/it]"
          ]
        },
        {
          "output_type": "stream",
          "name": "stdout",
          "text": [
            "def hello(c, d):\n",
            "    return c + \" \" + d\n",
            "\n",
            "print(hello(\"i\", \"am\"))\n"
          ]
        },
        {
          "output_type": "stream",
          "name": "stderr",
          "text": [
            "\r82it [1:05:28, 17.97s/it]"
          ]
        },
        {
          "output_type": "stream",
          "name": "stdout",
          "text": [
            "a, b = 0, 10\n",
            "a = b + 5\n"
          ]
        },
        {
          "output_type": "stream",
          "name": "stderr",
          "text": [
            "\r83it [1:05:52, 19.77s/it]"
          ]
        },
        {
          "output_type": "stream",
          "name": "stdout",
          "text": [
            "a = 5\n",
            "b = 10\n",
            "c = a - 1 + b + 1\n",
            "print(c)\n",
            "print(b)\n",
            "input()\n"
          ]
        },
        {
          "output_type": "stream",
          "name": "stderr",
          "text": [
            "\r84it [1:06:24, 23.50s/it]"
          ]
        },
        {
          "output_type": "stream",
          "name": "stdout",
          "text": [
            "def main():\n",
            "    i = 0\n",
            "    for i in range(5):\n",
            "        j = 0\n",
            "        j += i\n",
            "        print(j)\n",
            "    print(i * j)\n",
            "    input()\n",
            "\n",
            "main()\n"
          ]
        },
        {
          "output_type": "stream",
          "name": "stderr",
          "text": [
            "\r85it [1:07:02, 28.03s/it]"
          ]
        },
        {
          "output_type": "stream",
          "name": "stdout",
          "text": [
            "def main():\n",
            "    sum = 0.0\n",
            "    for i in range(1, 11):\n",
            "        sum += 1 / i\n",
            "    print(f\"sum ={sum}\")\n",
            "    input()\n",
            "\n",
            "if __name__ == \"__main__\":\n",
            "    main()\n"
          ]
        },
        {
          "output_type": "stream",
          "name": "stderr",
          "text": [
            "\r86it [1:07:39, 30.59s/it]"
          ]
        },
        {
          "output_type": "stream",
          "name": "stdout",
          "text": [
            "i = 1.0\n",
            "j = 0.05\n",
            "while i < 2.0 and j <= 2.0:\n",
            "    print(i - j)\n",
            "    i += 1\n",
            "    j += 1\n",
            "input()\n"
          ]
        },
        {
          "output_type": "stream",
          "name": "stderr",
          "text": [
            "\r87it [1:08:17, 32.76s/it]"
          ]
        },
        {
          "output_type": "stream",
          "name": "stdout",
          "text": [
            "def main():\n",
            "    obj = \"hello\"\n",
            "    obj1 = \"world\"\n",
            "    obj2 = obj\n",
            "    print(str(obj == obj2) + \"  \" + str(obj2 < obj))\n",
            "\n",
            "if __name__ == \"__main__\":\n",
            "    main()\n"
          ]
        },
        {
          "output_type": "stream",
          "name": "stderr",
          "text": [
            "\r88it [1:09:06, 37.83s/it]"
          ]
        },
        {
          "output_type": "stream",
          "name": "stdout",
          "text": [
            "def main():\n",
            "    i = None\n",
            "    res = fun(i)\n",
            "    print(res)\n",
            "    input()\n",
            "\n",
            "def fun(i):\n",
            "    s = 1\n",
            "    i = 7\n",
            "    for j in range(1, i + 1):\n",
            "        s *= j\n",
            "    return s\n",
            "\n",
            "if __name__ == \"__main__\":\n",
            "    main()\n"
          ]
        },
        {
          "output_type": "stream",
          "name": "stderr",
          "text": [
            "\r89it [1:10:08, 45.10s/it]"
          ]
        },
        {
          "output_type": "stream",
          "name": "stdout",
          "text": [
            "def main():\n",
            "    a = [1, 2, 3, 4, 5]\n",
            "    fun(a)\n",
            "    input()\n",
            "\n",
            "def fun(b):\n",
            "    k = [3, 4, 7, 8, 0]\n",
            "    for i in range(len(b)):\n",
            "        b[i] = b[i] + k[i]\n",
            "        print(b[i], end=\" \")\n",
            "\n",
            "if __name__ == \"__main__\":\n",
            "    main()\n"
          ]
        },
        {
          "output_type": "stream",
          "name": "stderr",
          "text": [
            "\r90it [1:10:58, 46.48s/it]"
          ]
        },
        {
          "output_type": "stream",
          "name": "stdout",
          "text": [
            "try:\n",
            "    a, b, c = 5, 0, 5\n",
            "    a = c // b\n",
            "    print(\"A\")\n",
            "except ArithmeticError as e:\n",
            "    c = 5\n",
            "    i = 10\n",
            "    z = 2 * c - i\n",
            "    print(\"B\")\n",
            "    print(z)\n",
            "input()\n"
          ]
        },
        {
          "output_type": "stream",
          "name": "stderr",
          "text": [
            "\r91it [1:11:58, 50.36s/it]"
          ]
        },
        {
          "output_type": "stream",
          "name": "stdout",
          "text": [
            "class A:\n",
            "    pass\n",
            "\n",
            "class B(A):\n",
            "    pass\n",
            "\n",
            "class CheckCast:\n",
            "    @staticmethod\n",
            "    def main():\n",
            "        a = A()\n",
            "        b = B()\n",
            "        b = a\n",
            "        b = None\n",
            "        if b is None:\n",
            "            print(\"The cast in b = (B) a is NOT allowed.\")\n",
            "        else:\n",
            "            print(\"The cast in b = (B) a is allowed\")\n"
          ]
        },
        {
          "output_type": "stream",
          "name": "stderr",
          "text": [
            "\r92it [1:12:15, 40.52s/it]"
          ]
        },
        {
          "output_type": "stream",
          "name": "stdout",
          "text": [
            "import math\n",
            "\n",
            "x = 3.14\n",
            "y = int(math.floor(x))\n",
            "print(y)\n"
          ]
        },
        {
          "output_type": "stream",
          "name": "stderr",
          "text": [
            "\r93it [1:13:38, 53.11s/it]"
          ]
        },
        {
          "output_type": "stream",
          "name": "stdout",
          "text": [
            "class Box:\n",
            "    def __init__(self):\n",
            "        self.width = 0\n",
            "        self.height = 0\n",
            "        self.length = 0\n",
            "        self.volume = 0\n",
            "\n",
            "    def volume(self, height, length, width):\n",
            "        self.volume = width * height * length\n",
            "\n",
            "class ParameterizedMethod:\n",
            "    @staticmethod\n",
            "    def main():\n",
            "        obj = Box()\n",
            "        obj.height = 1\n",
            "        obj.length = 5\n",
            "        obj.width = 5\n",
            "        obj.volume(3, 2, 1)\n",
            "        print(obj.volume)\n",
            "\n",
            "ParameterizedMethod.main()\n"
          ]
        },
        {
          "output_type": "stream",
          "name": "stderr",
          "text": [
            "\r94it [1:14:38, 55.39s/it]"
          ]
        },
        {
          "output_type": "stream",
          "name": "stdout",
          "text": [
            "g = 100\n",
            "\n",
            "def main():\n",
            "    a = None\n",
            "    with open('temp.txt', 'w') as f:\n",
            "        f.write('b=20\\na=35\\ng=65\\nprint(b,a,g)\\n')\n",
            "    exec(open('temp.txt').read())\n",
            "    a = 50\n",
            "    print(a, g)\n",
            "\n",
            "if __name__ == \"__main__\":\n",
            "    main()\n"
          ]
        },
        {
          "output_type": "stream",
          "name": "stderr",
          "text": [
            "\r95it [1:15:01, 45.66s/it]"
          ]
        },
        {
          "output_type": "stream",
          "name": "stdout",
          "text": [
            "arr = [4, 5, 6, 7]\n",
            "p = arr[1]\n",
            "print(arr[0] + 9)\n"
          ]
        },
        {
          "output_type": "stream",
          "name": "stderr",
          "text": [
            "\r96it [1:15:10, 34.63s/it]"
          ]
        },
        {
          "output_type": "stream",
          "name": "stdout",
          "text": [
            "q = 5\n",
            "print(q)\n"
          ]
        },
        {
          "output_type": "stream",
          "name": "stderr",
          "text": [
            "\r97it [1:15:22, 27.75s/it]"
          ]
        },
        {
          "output_type": "stream",
          "name": "stdout",
          "text": [
            "a = 5\n",
            "p = a\n",
            "print(p)\n"
          ]
        },
        {
          "output_type": "stream",
          "name": "stderr",
          "text": [
            "\r98it [1:15:43, 25.75s/it]"
          ]
        },
        {
          "output_type": "stream",
          "name": "stdout",
          "text": [
            "import time\n",
            "\n",
            "a = 10\n",
            "while a < 15:\n",
            "    print(a)\n",
            "    time.sleep(1)\n"
          ]
        },
        {
          "output_type": "stream",
          "name": "stderr",
          "text": [
            "\r99it [1:16:45, 36.59s/it]"
          ]
        },
        {
          "output_type": "stream",
          "name": "stdout",
          "text": [
            "from enum import Enum\n",
            "\n",
            "class Month(Enum):\n",
            "    JAN = 1\n",
            "    FEB = 2\n",
            "    MAR = 3\n",
            "    APR = 4\n",
            "    MAY = 5\n",
            "    JUN = 6\n",
            "    JUL = 7\n",
            "    AUG = 8\n",
            "    SEP = 9\n",
            "    OCT = 10\n",
            "    DEC = 11\n",
            "\n",
            "for i in Month:\n",
            "    print(i.value)\n"
          ]
        },
        {
          "output_type": "stream",
          "name": "stderr",
          "text": [
            "\r100it [1:17:20, 36.23s/it]"
          ]
        },
        {
          "output_type": "stream",
          "name": "stdout",
          "text": [
            "class MyClass:\n",
            "    def __init__(self):\n",
            "        self.i = 0\n",
            "\n",
            "    def __getattr__(self, name):\n",
            "        return self\n",
            "\n",
            "ob = MyClass()\n",
            "ob.i = 10\n",
            "print(ob.i, ob.i)\n"
          ]
        },
        {
          "output_type": "stream",
          "name": "stderr",
          "text": [
            "\r101it [1:18:18, 42.73s/it]"
          ]
        },
        {
          "output_type": "stream",
          "name": "stdout",
          "text": [
            "class Box:\n",
            "    def __init__(self, capacity=0):\n",
            "        self.capacity = capacity\n",
            "\n",
            "    def __lt__(self, other):\n",
            "        return other.capacity < self.capacity\n",
            "\n",
            "b1 = Box(10)\n",
            "b2 = Box(14)\n",
            "if b1 < b2:\n",
            "    print(\"B1's capacity is small\")\n",
            "else:\n",
            "    print(\"B2's capacity is small\")\n"
          ]
        },
        {
          "output_type": "stream",
          "name": "stderr",
          "text": [
            "\r102it [1:18:48, 38.75s/it]"
          ]
        },
        {
          "output_type": "stream",
          "name": "stdout",
          "text": [
            "x = 5\n",
            "y = 5\n",
            "z = 0\n",
            "x += 1\n",
            "y -= 1\n",
            "x += 1\n",
            "z = x + x\n",
            "print(z)\n"
          ]
        },
        {
          "output_type": "stream",
          "name": "stderr",
          "text": [
            "\r103it [1:18:54, 29.07s/it]"
          ]
        },
        {
          "output_type": "stream",
          "name": "stdout",
          "text": [
            "print(\"a\")\n"
          ]
        },
        {
          "output_type": "stream",
          "name": "stderr",
          "text": [
            "\r104it [1:19:11, 25.38s/it]"
          ]
        },
        {
          "output_type": "stream",
          "name": "stdout",
          "text": [
            "class A:\n",
            "    def __init__(self):\n",
            "        print(\"Constructor called\")\n",
            "\n",
            "a = A()\n"
          ]
        },
        {
          "output_type": "stream",
          "name": "stderr",
          "text": [
            "\r105it [1:19:45, 28.00s/it]"
          ]
        },
        {
          "output_type": "stream",
          "name": "stdout",
          "text": [
            "def square(x):\n",
            "    return x * x\n",
            "\n",
            "def square(ss):\n",
            "    return ss + ss\n",
            "\n",
            "i = 2\n",
            "ii = square(i)\n",
            "print(f\"{i}: {ii}\")\n",
            "print(square(\"A\") + \":\")\n"
          ]
        },
        {
          "output_type": "stream",
          "name": "stderr",
          "text": [
            "\r106it [1:21:28, 50.49s/it]"
          ]
        },
        {
          "output_type": "stream",
          "name": "stdout",
          "text": [
            "try:\n",
            "    Op1 = 10\n",
            "    Op2 = 5\n",
            "    Res = None\n",
            "    Op = input(\"Enter an operator (+,-,*,/): \")\n",
            "    if Op not in ['+', '-', '*', '/']:\n",
            "        raise ValueError(Op)\n",
            "    if Op == '+':\n",
            "        Res = Op1 + Op2\n",
            "    elif Op == '-':\n",
            "        Res = Op1 - Op2\n",
            "    elif Op == '*':\n",
            "        Res = Op1 * Op2\n",
            "    elif Op == '/':\n",
            "        Res = Op1 / Op2\n",
            "    print(f\"\\n{Op1} {Op} {Op2} = {Res}\")\n",
            "except ValueError as e:\n",
            "    print(f\"{e} is not a valid operator\")\n"
          ]
        },
        {
          "output_type": "stream",
          "name": "stderr",
          "text": [
            "\r107it [1:22:07, 47.12s/it]"
          ]
        },
        {
          "output_type": "stream",
          "name": "stdout",
          "text": [
            "import math\n",
            "\n",
            "def my_sqrt(d):\n",
            "    if d < 0.0:\n",
            "        raise ValueError(\"Cannot take sqrt of negative number\")\n",
            "    return math.sqrt(d)\n",
            "\n",
            "if __name__ == \"__main__\":\n",
            "    d = 5\n",
            "    print(my_sqrt(d))\n"
          ]
        },
        {
          "output_type": "stream",
          "name": "stderr",
          "text": [
            "\r108it [1:23:00, 48.90s/it]"
          ]
        },
        {
          "output_type": "stream",
          "name": "stdout",
          "text": [
            "def func(a, b):\n",
            "    if b == 0:\n",
            "        raise ValueError(\"This value of b will make the product zero. So please provide positive values.\")\n",
            "    else:\n",
            "        print(f\"Product of {a} and {b} is: {a * b}\")\n",
            "\n",
            "try:\n",
            "    func(5, 0)\n",
            "except ValueError as e:\n",
            "    print(e)\n"
          ]
        },
        {
          "output_type": "stream",
          "name": "stderr",
          "text": [
            "\r109it [1:24:19, 57.95s/it]"
          ]
        },
        {
          "output_type": "stream",
          "name": "stdout",
          "text": [
            "def func(a, b):\n",
            "    if b < 1:\n",
            "        raise ValueError(\"value of b is less than zero\")\n",
            "    else:\n",
            "        print(f\"Product of {a} and {b} is: {a * b}\")\n",
            "\n",
            "try:\n",
            "    try:\n",
            "        func(5, -1)\n",
            "    except ValueError as e:\n",
            "        if str(e) == \"value of b is zero\":\n",
            "            raise Exception(\"value of b is zero\")\n",
            "        else:\n",
            "            raise Exception(\"value of b is less than zero\")\n",
            "except Exception as e:\n",
            "    print(e)\n"
          ]
        },
        {
          "output_type": "stream",
          "name": "stderr",
          "text": [
            "\r110it [1:24:37, 45.80s/it]"
          ]
        },
        {
          "output_type": "stream",
          "name": "stdout",
          "text": [
            "import sys\n",
            "\n",
            "s = \"Hello World\"\n",
            "var = s\n",
            "print(var)\n",
            "sys.exit(0)\n"
          ]
        },
        {
          "output_type": "stream",
          "name": "stderr",
          "text": [
            "\r111it [1:24:58, 38.32s/it]"
          ]
        },
        {
          "output_type": "stream",
          "name": "stdout",
          "text": [
            "import sys\n",
            "\n",
            "s = \"Hello World\"\n",
            "var = s.encode('utf-8')\n",
            "sys.stdout.buffer.write(var)\n",
            "print()\n"
          ]
        },
        {
          "output_type": "stream",
          "name": "stderr",
          "text": [
            "\r112it [1:25:24, 34.70s/it]"
          ]
        },
        {
          "output_type": "stream",
          "name": "stdout",
          "text": [
            "import cmath\n",
            "\n",
            "cn = complex(3.0, 5.0)\n",
            "print(\"Complex number is:\", cn.real, \"+\", cn.imag, \"i\")\n"
          ]
        },
        {
          "output_type": "stream",
          "name": "stderr",
          "text": [
            "\r113it [1:26:20, 41.13s/it]"
          ]
        },
        {
          "output_type": "stream",
          "name": "stdout",
          "text": [
            "import itertools\n",
            "\n",
            "def op_increase(i):\n",
            "    return i + 1\n",
            "\n",
            "a = [i * 10 for i in range(1, 4)]\n",
            "b = [0] * len(a)\n",
            "b = list(map(op_increase, a))\n",
            "a = list(itertools.starmap(operator.add, zip(a, b)))\n",
            "for num in a:\n",
            "    print(num, end=' ')\n"
          ]
        },
        {
          "output_type": "stream",
          "name": "stderr",
          "text": [
            "\r114it [1:29:38, 88.06s/it]"
          ]
        },
        {
          "output_type": "stream",
          "name": "stdout",
          "text": [
            "\n"
          ]
        },
        {
          "output_type": "stream",
          "name": "stderr",
          "text": [
            "\r115it [1:29:48, 64.85s/it]"
          ]
        },
        {
          "output_type": "stream",
          "name": "stdout",
          "text": [
            "print(\"{:>5}\".format(65))\n"
          ]
        },
        {
          "output_type": "stream",
          "name": "stderr",
          "text": [
            "\r116it [1:29:57, 48.12s/it]"
          ]
        },
        {
          "output_type": "stream",
          "name": "stdout",
          "text": [
            "\n"
          ]
        },
        {
          "output_type": "stream",
          "name": "stderr",
          "text": [
            "\r117it [1:30:12, 37.95s/it]"
          ]
        },
        {
          "output_type": "stream",
          "name": "stdout",
          "text": [
            "\n"
          ]
        },
        {
          "output_type": "stream",
          "name": "stderr",
          "text": [
            "\r118it [1:30:24, 30.35s/it]"
          ]
        },
        {
          "output_type": "stream",
          "name": "stdout",
          "text": [
            "import sys\n",
            "\n",
            "for arg in sys.argv:\n",
            "    print(arg)\n"
          ]
        },
        {
          "output_type": "stream",
          "name": "stderr",
          "text": [
            "\r119it [1:30:47, 28.05s/it]"
          ]
        },
        {
          "output_type": "stream",
          "name": "stdout",
          "text": [
            "class BoolOperators:\n",
            "    def main(self):\n",
            "        var1 = True\n",
            "        var2 = False\n",
            "        print(var1 and var2)\n"
          ]
        },
        {
          "output_type": "stream",
          "name": "stderr",
          "text": [
            "\r120it [1:31:16, 28.35s/it]"
          ]
        },
        {
          "output_type": "stream",
          "name": "stdout",
          "text": [
            "\n"
          ]
        },
        {
          "output_type": "stream",
          "name": "stderr",
          "text": [
            "\r121it [1:32:04, 34.39s/it]"
          ]
        },
        {
          "output_type": "stream",
          "name": "stdout",
          "text": [
            "class A:\n",
            "    def calculate(self, a, b):\n",
            "        return 1\n",
            "\n",
            "class B(A):\n",
            "    def calculate(self, a, b):\n",
            "        return 2\n",
            "\n",
            "class Output:\n",
            "    @staticmethod\n",
            "    def main(args):\n",
            "        object = B()\n",
            "        print(\"b is \" + str(object.calculate(0, 1)))\n"
          ]
        },
        {
          "output_type": "stream",
          "name": "stderr",
          "text": [
            "\r122it [1:32:43, 35.69s/it]"
          ]
        },
        {
          "output_type": "stream",
          "name": "stdout",
          "text": [
            "class bitwise_operator:\n",
            "    def main(args):\n",
            "        a = 3\n",
            "        b = 6\n",
            "        c = a | b\n",
            "        d = a & b\n",
            "        print(str(c) + \" \" + str(d))\n",
            "\n",
            "bitwise_operator.main(None)\n"
          ]
        },
        {
          "output_type": "stream",
          "name": "stderr",
          "text": [
            "\r123it [1:34:08, 50.34s/it]"
          ]
        },
        {
          "output_type": "stream",
          "name": "stdout",
          "text": [
            "class Box:\n",
            "    def __init__(self):\n",
            "        self.width = 0\n",
            "        self.height = 0\n",
            "        self.length = 0\n",
            "        self.volume = 0\n",
            "\n",
            "    def calculate_volume(self):\n",
            "        self.volume = self.width * self.height * self.length\n",
            "\n",
            "    def set_volume(self, x):\n",
            "        self.volume = x\n",
            "\n",
            "\n",
            "class Output:\n",
            "    @staticmethod\n",
            "    def main():\n",
            "        obj = Box()\n",
            "        obj.height = 1\n",
            "        obj.length = 5\n",
            "        obj.width = 5\n",
            "        obj.set_volume(5)\n",
            "        print(obj.volume)\n",
            "\n",
            "\n",
            "Output.main()\n"
          ]
        },
        {
          "output_type": "stream",
          "name": "stderr",
          "text": [
            "\r124it [1:34:55, 49.58s/it]"
          ]
        },
        {
          "output_type": "stream",
          "name": "stdout",
          "text": [
            "class Recursion:\n",
            "    def fact(self, n):\n",
            "        if n == 1:\n",
            "            return 1\n",
            "        else:\n",
            "            return self.fact(n - 1) * n\n",
            "\n",
            "class Output:\n",
            "    @staticmethod\n",
            "    def main():\n",
            "        obj = Recursion()\n",
            "        print(obj.fact(1))\n",
            "\n",
            "Output.main()\n"
          ]
        },
        {
          "output_type": "stream",
          "name": "stderr",
          "text": [
            "\r125it [1:35:22, 42.69s/it]"
          ]
        },
        {
          "output_type": "stream",
          "name": "stdout",
          "text": [
            "class Output:\n",
            "    @staticmethod\n",
            "    def main():\n",
            "        s1 = \"Hello\"\n",
            "        s2 = s1[::-1]\n",
            "        print(s2)\n",
            "\n",
            "Output.main()\n"
          ]
        },
        {
          "output_type": "stream",
          "name": "stderr",
          "text": [
            "\r126it [1:36:12, 44.96s/it]"
          ]
        },
        {
          "output_type": "stream",
          "name": "stdout",
          "text": [
            "class Output:\n",
            "    def main(args):\n",
            "        a = ['a', '5', 'A', ' ']\n",
            "        print(str(ord('0') <= ord(a[0]) <= ord('9')) + \" \")\n",
            "        print(str(a[3] == ' ') + \" \")\n",
            "        print(str(a[2].isupper()))\n",
            "Output.main(None)\n"
          ]
        },
        {
          "output_type": "stream",
          "name": "stderr",
          "text": [
            "\r127it [1:36:34, 38.10s/it]"
          ]
        },
        {
          "output_type": "stream",
          "name": "stdout",
          "text": [
            "class Output:\n",
            "    def main(self):\n",
            "        str = \"true\"\n",
            "        x = bool(str)\n",
            "        print(x)\n",
            "\n",
            "Output().main()\n"
          ]
        },
        {
          "output_type": "stream",
          "name": "stderr",
          "text": [
            "\r128it [1:38:11, 55.59s/it]"
          ]
        },
        {
          "output_type": "stream",
          "name": "stdout",
          "text": [
            "import pickle\n",
            "\n",
            "class Myclass:\n",
            "    def __init__(self, s, i, d):\n",
            "        self.d = d\n",
            "        self.i = i\n",
            "        self.s = s\n",
            "\n",
            "def serialize_object(obj, filename):\n",
            "    with open(filename, 'wb') as file:\n",
            "        pickle.dump(obj, file)\n",
            "\n",
            "def deserialize_object(filename):\n",
            "    with open(filename, 'rb') as file:\n",
            "        return pickle.load(file)\n",
            "\n",
            "if __name__ == \"__main__\":\n",
            "    obj1 = Myclass(\"Hello\", -7, 2.1e10)\n",
            "    serialize_object(obj1, \"serial\")\n",
            "    \n",
            "    deserialized_obj = deserialize_object(\"serial\")\n",
            "    print(deserialized_obj.i)\n"
          ]
        },
        {
          "output_type": "stream",
          "name": "stderr",
          "text": [
            "\r129it [1:38:40, 47.56s/it]"
          ]
        },
        {
          "output_type": "stream",
          "name": "stdout",
          "text": [
            "from bitarray import bitarray\n",
            "\n",
            "obj = bitarray(5)\n",
            "for i in range(5):\n",
            "    obj[i] = True\n",
            "obj[2] = False\n",
            "print(obj)\n"
          ]
        },
        {
          "output_type": "stream",
          "name": "stderr",
          "text": [
            "\r130it [1:39:17, 44.38s/it]"
          ]
        },
        {
          "output_type": "stream",
          "name": "stdout",
          "text": [
            "class ExceptionHandling:\n",
            "    def main(self):\n",
            "        try:\n",
            "            raise NullPointerException(\"Hello\")\n",
            "        except ArithmeticException as e:\n",
            "            print(\"B\")\n",
            "\n",
            "# Entry point of the program\n",
            "if __name__ == \"__main__\":\n",
            "    ExceptionHandling().main()\n"
          ]
        },
        {
          "output_type": "stream",
          "name": "stderr",
          "text": [
            "\r131it [1:40:01, 44.27s/it]"
          ]
        },
        {
          "output_type": "stream",
          "name": "stdout",
          "text": [
            "class Output:\n",
            "    @staticmethod\n",
            "    def main(args):\n",
            "        try:\n",
            "            a = 0\n",
            "            b = 5\n",
            "            c = b / a\n",
            "            print(\"Hello\")\n",
            "        except Exception as e:\n",
            "            print(\"World\")\n",
            "        finally:\n",
            "            print(\"World\")\n",
            "\n",
            "Output.main([])\n"
          ]
        },
        {
          "output_type": "stream",
          "name": "stderr",
          "text": [
            "\r132it [1:40:56, 47.70s/it]"
          ]
        },
        {
          "output_type": "stream",
          "name": "stdout",
          "text": [
            "class Myexception(Exception):\n",
            "    def __init__(self, a):\n",
            "        self.detail = a\n",
            "\n",
            "    def __str__(self):\n",
            "        return \"detail\"\n",
            "\n",
            "class Output:\n",
            "    @staticmethod\n",
            "    def compute(a):\n",
            "        raise Myexception(a)\n",
            "\n",
            "    @staticmethod\n",
            "    def main(args):\n",
            "        try:\n",
            "            Output.compute(3)\n",
            "        except Exception as e:\n",
            "            print(\"Exception\")\n"
          ]
        },
        {
          "output_type": "stream",
          "name": "stderr",
          "text": [
            "\r133it [1:41:52, 50.17s/it]"
          ]
        },
        {
          "output_type": "stream",
          "name": "stdout",
          "text": [
            "obj = \"abcdefgh\"\n",
            "length = len(obj)\n",
            "c = list(obj)\n",
            "input1 = io.StringIO(''.join(c))\n",
            "input2 = io.StringIO(''.join(c[1:5]))\n",
            "i = j = None\n",
            "while (i := input1.read(1)) and (j := input2.read(1)):\n",
            "    if i == j:\n",
            "        print(i, end='')\n"
          ]
        },
        {
          "output_type": "stream",
          "name": "stderr",
          "text": [
            "\r134it [1:42:51, 52.86s/it]"
          ]
        },
        {
          "output_type": "stream",
          "name": "stdout",
          "text": [
            "class Shape:\n",
            "    def area(self):\n",
            "        return 1\n",
            "\n",
            "class Square(Shape):\n",
            "    def area(self):\n",
            "        return 2\n",
            "\n",
            "class Rectangle(Shape):\n",
            "    def area(self):\n",
            "        return 3\n",
            "\n",
            "class Main:\n",
            "    @staticmethod\n",
            "    def main(args):\n",
            "        shape = Shape()\n",
            "        square = Square()\n",
            "        rect = Rectangle()\n",
            "        rect = square\n",
            "        print(square.area())\n",
            "\n",
            "Main.main(None)\n"
          ]
        },
        {
          "output_type": "stream",
          "name": "stderr",
          "text": [
            "\r135it [1:43:20, 45.55s/it]"
          ]
        },
        {
          "output_type": "stream",
          "name": "stdout",
          "text": [
            "import io\n",
            "\n",
            "try:\n",
            "    with io.BytesIO() as is_:\n",
            "        # do stuff with is_\n",
            "        pass\n",
            "except IOError as e:\n",
            "    # handle exception\n",
            "    pass\n"
          ]
        },
        {
          "output_type": "stream",
          "name": "stderr",
          "text": [
            "\r136it [1:43:34, 35.99s/it]"
          ]
        },
        {
          "output_type": "stream",
          "name": "stdout",
          "text": [
            "\n"
          ]
        },
        {
          "output_type": "stream",
          "name": "stderr",
          "text": [
            "\r137it [1:43:51, 30.41s/it]"
          ]
        },
        {
          "output_type": "stream",
          "name": "stdout",
          "text": [
            "arr = [1, 2, 3]\n",
            "rev = arr[::-1]\n",
            "print(rev)\n"
          ]
        },
        {
          "output_type": "stream",
          "name": "stderr",
          "text": [
            "\r138it [1:44:05, 25.54s/it]"
          ]
        },
        {
          "output_type": "stream",
          "name": "stdout",
          "text": [
            "pi = 3.14\n",
            "pi = 4\n",
            "print(pi)\n"
          ]
        },
        {
          "output_type": "stream",
          "name": "stderr",
          "text": [
            "\r139it [1:44:12, 20.01s/it]"
          ]
        },
        {
          "output_type": "stream",
          "name": "stdout",
          "text": [
            "x,y=y,x;\n"
          ]
        },
        {
          "output_type": "stream",
          "name": "stderr",
          "text": [
            "\r140it [1:45:20, 34.43s/it]"
          ]
        },
        {
          "output_type": "stream",
          "name": "stdout",
          "text": [
            "import webbrowser\n",
            "\n",
            "html_content = \"\"\"\n",
            "<!DOCTYPE html>\n",
            "<html>\n",
            "<head>\n",
            "    <title>Math Floor Example</title>\n",
            "</head>\n",
            "<body>\n",
            "    <p id=\"demo\"></p>\n",
            "    <script>\n",
            "        document.getElementById(\"demo\").innerHTML = Math.floor(4.7);\n",
            "    </script>\n",
            "</body>\n",
            "</html>\n",
            "\"\"\"\n",
            "\n",
            "with open('math_floor_example.html', 'w') as file:\n",
            "    file.write(html_content)\n",
            "\n",
            "webbrowser.open('math_floor_example.html')\n"
          ]
        },
        {
          "output_type": "stream",
          "name": "stderr",
          "text": [
            "\r141it [1:45:35, 28.61s/it]"
          ]
        },
        {
          "output_type": "stream",
          "name": "stdout",
          "text": [
            "def my_function():\n",
            "    l = len(document.getElementsByTagName(\"P\"))\n",
            "    alert(l)\n"
          ]
        },
        {
          "output_type": "stream",
          "name": "stderr",
          "text": [
            "\r142it [1:46:19, 33.16s/it]"
          ]
        },
        {
          "output_type": "stream",
          "name": "stdout",
          "text": [
            "def my_function():\n",
            "    str_ = \"The rain in SPAIN stays mainly in the plain\"\n",
            "    res = re.search(r\"z\", str_)\n",
            "    if res:\n",
            "        res = \"true\"\n",
            "    else:\n",
            "        res = \"false\"\n",
            "    return res\n",
            "\n",
            "import re\n",
            "\n",
            "print(my_function())\n"
          ]
        },
        {
          "output_type": "stream",
          "name": "stderr",
          "text": [
            "\r143it [1:46:42, 30.03s/it]"
          ]
        },
        {
          "output_type": "stream",
          "name": "stdout",
          "text": [
            "import numpy as np\n",
            "\n",
            "A = np.array([[1, 2], [3, 4]])\n",
            "C = np.dot(A, A)\n"
          ]
        },
        {
          "output_type": "stream",
          "name": "stderr",
          "text": [
            "\r144it [1:47:11, 29.81s/it]"
          ]
        },
        {
          "output_type": "stream",
          "name": "stdout",
          "text": [
            "import numpy as np\n",
            "import matplotlib.pyplot as plt\n",
            "\n",
            "T = np.arange(-5, 6, 1)\n",
            "y = np.sin(T)\n",
            "plt.plot(T, y)\n",
            "plt.show()\n"
          ]
        },
        {
          "output_type": "stream",
          "name": "stderr",
          "text": [
            "\r145it [1:47:35, 28.06s/it]"
          ]
        },
        {
          "output_type": "stream",
          "name": "stdout",
          "text": [
            "\n"
          ]
        },
        {
          "output_type": "stream",
          "name": "stderr",
          "text": [
            "\r146it [1:47:54, 25.22s/it]"
          ]
        },
        {
          "output_type": "stream",
          "name": "stdout",
          "text": [
            "\n"
          ]
        },
        {
          "output_type": "stream",
          "name": "stderr",
          "text": [
            "\r147it [1:48:20, 25.62s/it]"
          ]
        },
        {
          "output_type": "stream",
          "name": "stdout",
          "text": [
            "\n"
          ]
        },
        {
          "output_type": "stream",
          "name": "stderr",
          "text": [
            "\r148it [1:49:01, 30.24s/it]"
          ]
        },
        {
          "output_type": "stream",
          "name": "stdout",
          "text": [
            "\n"
          ]
        },
        {
          "output_type": "stream",
          "name": "stderr",
          "text": [
            "\r149it [1:49:32, 30.30s/it]"
          ]
        },
        {
          "output_type": "stream",
          "name": "stdout",
          "text": [
            "num = 2\n",
            "if num in [2, 3, 4]:\n",
            "    p = 9\n",
            "elif num in [1, 5, 6]:\n",
            "    q = 9\n"
          ]
        },
        {
          "output_type": "stream",
          "name": "stderr",
          "text": [
            "\r150it [1:50:36, 40.45s/it]"
          ]
        },
        {
          "output_type": "stream",
          "name": "stdout",
          "text": [
            "def addem(*args):\n",
            "    p = len(args) - 1\n",
            "    if p == 2:\n",
            "        return args[0] * args[1]\n",
            "    elif p == 1:\n",
            "        import math\n",
            "        return math.sin(args[0])\n",
            "    else:\n",
            "        return 0\n",
            "\n",
            "result = addem(1, 2, 3, 4, 5, 6, 7, 8)\n",
            "print(result)\n"
          ]
        },
        {
          "output_type": "stream",
          "name": "stderr",
          "text": [
            "\r151it [1:50:46, 31.38s/it]"
          ]
        },
        {
          "output_type": "stream",
          "name": "stdout",
          "text": [
            "\n"
          ]
        },
        {
          "output_type": "stream",
          "name": "stderr",
          "text": [
            "\r152it [1:50:52, 23.90s/it]"
          ]
        },
        {
          "output_type": "stream",
          "name": "stdout",
          "text": [
            "\n"
          ]
        },
        {
          "output_type": "stream",
          "name": "stderr",
          "text": [
            "\r153it [1:51:14, 23.15s/it]"
          ]
        },
        {
          "output_type": "stream",
          "name": "stdout",
          "text": [
            "import numpy as np\n",
            "p = [1, 3, 2]\n",
            "roots = np.roots(p)\n",
            "print(roots)\n"
          ]
        },
        {
          "output_type": "stream",
          "name": "stderr",
          "text": [
            "\r154it [1:51:25, 19.50s/it]"
          ]
        },
        {
          "output_type": "stream",
          "name": "stdout",
          "text": [
            "poly = [1, 2, 3]\n"
          ]
        },
        {
          "output_type": "stream",
          "name": "stderr",
          "text": [
            "\r155it [1:51:50, 21.23s/it]"
          ]
        },
        {
          "output_type": "stream",
          "name": "stdout",
          "text": [
            "\n"
          ]
        },
        {
          "output_type": "stream",
          "name": "stderr",
          "text": [
            "\r156it [1:52:27, 25.90s/it]"
          ]
        },
        {
          "output_type": "stream",
          "name": "stdout",
          "text": [
            "team = \"arsenal\"\n",
            "if team == \"manu\":\n",
            "    print(\"I love man u\")\n",
            "if team == \"arsenal\":\n",
            "    print(\"I love arsenal\")\n",
            "if team == \"manc\":\n",
            "    print(\"I love manc\")\n"
          ]
        },
        {
          "output_type": "stream",
          "name": "stderr",
          "text": [
            "\r157it [1:52:36, 20.84s/it]"
          ]
        },
        {
          "output_type": "stream",
          "name": "stdout",
          "text": [
            "print(\"welcome to India\".lower())\n"
          ]
        },
        {
          "output_type": "stream",
          "name": "stderr",
          "text": [
            "\r158it [1:52:55, 20.20s/it]"
          ]
        },
        {
          "output_type": "stream",
          "name": "stdout",
          "text": [
            "\n"
          ]
        },
        {
          "output_type": "stream",
          "name": "stderr",
          "text": [
            "\r159it [1:53:14, 19.81s/it]"
          ]
        },
        {
          "output_type": "stream",
          "name": "stdout",
          "text": [
            "x = 10\n",
            "y = 4\n",
            "z = 3\n",
            "print(x % y % z)\n"
          ]
        },
        {
          "output_type": "stream",
          "name": "stderr",
          "text": [
            "\r160it [1:53:38, 21.28s/it]"
          ]
        },
        {
          "output_type": "stream",
          "name": "stdout",
          "text": [
            "four4 = 4\n",
            "three3 = 3\n",
            "two2 = 2\n",
            "print(four4 + three3 / two2 - 1)\n"
          ]
        },
        {
          "output_type": "stream",
          "name": "stderr",
          "text": [
            "\r161it [1:54:02, 21.95s/it]"
          ]
        },
        {
          "output_type": "stream",
          "name": "stdout",
          "text": [
            "x = 5\n",
            "y = 10\n",
            "\n",
            "def fun():\n",
            "    global y\n",
            "    y = x + y\n",
            "\n",
            "fun()\n",
            "print(y)\n"
          ]
        },
        {
          "output_type": "stream",
          "name": "stderr",
          "text": [
            "\r162it [1:54:04, 16.11s/it]"
          ]
        },
        {
          "output_type": "stream",
          "name": "stdout",
          "text": [
            "\n"
          ]
        },
        {
          "output_type": "stream",
          "name": "stderr",
          "text": [
            "\r163it [1:54:22, 16.51s/it]"
          ]
        },
        {
          "output_type": "stream",
          "name": "stdout",
          "text": [
            "a = 1\n",
            "if print(a):\n",
            "    print(\"True\")\n",
            "else:\n",
            "    print(\"False\")\n"
          ]
        },
        {
          "output_type": "stream",
          "name": "stderr",
          "text": [
            "\r164it [1:54:36, 15.84s/it]"
          ]
        },
        {
          "output_type": "stream",
          "name": "stdout",
          "text": [
            "if print(\"hi\"):\n",
            "    if print(\"hello\"):\n",
            "        print(\"hi\")\n"
          ]
        },
        {
          "output_type": "stream",
          "name": "stderr",
          "text": [
            "\r165it [1:54:54, 16.52s/it]"
          ]
        },
        {
          "output_type": "stream",
          "name": "stdout",
          "text": [
            "if b == 2:\n",
            "    print(\"hello\")\n",
            "elif b == 1:\n",
            "    print(\"hi\")\n"
          ]
        },
        {
          "output_type": "stream",
          "name": "stderr",
          "text": [
            "\r166it [1:55:14, 17.42s/it]"
          ]
        },
        {
          "output_type": "stream",
          "name": "stdout",
          "text": [
            "for i in range(5):\n",
            "    for j in range(i, 0, -1):\n",
            "        print(i)\n"
          ]
        },
        {
          "output_type": "stream",
          "name": "stderr",
          "text": [
            "\r167it [1:55:34, 18.19s/it]"
          ]
        },
        {
          "output_type": "stream",
          "name": "stdout",
          "text": [
            "def a():\n",
            "    def b():\n",
            "        print('I am b')\n",
            "    print('I am a')\n",
            "\n",
            "b()\n",
            "a()\n"
          ]
        },
        {
          "output_type": "stream",
          "name": "stderr",
          "text": [
            "\r168it [1:56:29, 29.27s/it]"
          ]
        },
        {
          "output_type": "stream",
          "name": "stdout",
          "text": [
            "\n"
          ]
        },
        {
          "output_type": "stream",
          "name": "stderr",
          "text": [
            "\r169it [1:56:33, 21.81s/it]"
          ]
        },
        {
          "output_type": "stream",
          "name": "stdout",
          "text": [
            "\n"
          ]
        },
        {
          "output_type": "stream",
          "name": "stderr",
          "text": [
            "\r170it [1:56:53, 21.12s/it]"
          ]
        },
        {
          "output_type": "stream",
          "name": "stdout",
          "text": [
            "x = \"abcdef\"\n",
            "i = \"a\"\n",
            "while i in x[1:]:\n",
            "    print(i, end=\" \")\n"
          ]
        },
        {
          "output_type": "stream",
          "name": "stderr",
          "text": [
            "\r171it [1:56:56, 15.90s/it]"
          ]
        },
        {
          "output_type": "stream",
          "name": "stdout",
          "text": [
            "\n"
          ]
        },
        {
          "output_type": "stream",
          "name": "stderr",
          "text": [
            "\r172it [1:57:12, 15.77s/it]"
          ]
        },
        {
          "output_type": "stream",
          "name": "stdout",
          "text": [
            "\n"
          ]
        },
        {
          "output_type": "stream",
          "name": "stderr",
          "text": [
            "\r173it [1:57:23, 14.32s/it]"
          ]
        },
        {
          "output_type": "stream",
          "name": "stdout",
          "text": [
            "\n"
          ]
        },
        {
          "output_type": "stream",
          "name": "stderr",
          "text": [
            "\r174it [1:57:30, 12.16s/it]"
          ]
        },
        {
          "output_type": "stream",
          "name": "stdout",
          "text": [
            "\n"
          ]
        },
        {
          "output_type": "stream",
          "name": "stderr",
          "text": [
            "\r175it [1:57:41, 11.98s/it]"
          ]
        },
        {
          "output_type": "stream",
          "name": "stdout",
          "text": [
            "['a', 'b', 'c', 'd']\n"
          ]
        },
        {
          "output_type": "stream",
          "name": "stderr",
          "text": [
            "\r176it [1:58:05, 15.56s/it]"
          ]
        },
        {
          "output_type": "stream",
          "name": "stdout",
          "text": [
            "def f(values):\n",
            "    values[0] = 44\n",
            "\n",
            "v = [1, 2, 3]\n",
            "f(v)\n",
            "print(v)\n"
          ]
        },
        {
          "output_type": "stream",
          "name": "stderr",
          "text": [
            "\r177it [1:58:17, 14.38s/it]"
          ]
        },
        {
          "output_type": "stream",
          "name": "stdout",
          "text": [
            "\n"
          ]
        },
        {
          "output_type": "stream",
          "name": "stderr",
          "text": [
            "\r178it [1:58:54, 21.23s/it]"
          ]
        },
        {
          "output_type": "stream",
          "name": "stdout",
          "text": [
            "a=[1,5,7,9,9,1]\n",
            "b=a[0]\n",
            "x=0\n",
            "for x in range(1,len(a)):\n",
            "    if a[x]>b:\n",
            "        b=a[x]\n",
            "        b=x\n",
            "print(b)\n"
          ]
        },
        {
          "output_type": "stream",
          "name": "stderr",
          "text": [
            "\r179it [1:59:17, 21.67s/it]"
          ]
        },
        {
          "output_type": "stream",
          "name": "stdout",
          "text": [
            "\n"
          ]
        },
        {
          "output_type": "stream",
          "name": "stderr",
          "text": [
            "\r180it [1:59:37, 21.34s/it]"
          ]
        },
        {
          "output_type": "stream",
          "name": "stdout",
          "text": [
            "def san(x):\n",
            "    print(x + 1)\n",
            "\n",
            "x = -2\n",
            "x = 4\n",
            "san(12)\n"
          ]
        },
        {
          "output_type": "stream",
          "name": "stderr",
          "text": [
            "\r181it [1:59:59, 21.35s/it]"
          ]
        },
        {
          "output_type": "stream",
          "name": "stdout",
          "text": [
            "x=12\n",
            "def f1(a,b=x):\n",
            "    print(a,b)\n",
            "x=15\n",
            "f1(4)\n"
          ]
        },
        {
          "output_type": "stream",
          "name": "stderr",
          "text": [
            "\r182it [2:00:17, 20.39s/it]"
          ]
        },
        {
          "output_type": "stream",
          "name": "stdout",
          "text": [
            "\n"
          ]
        },
        {
          "output_type": "stream",
          "name": "stderr",
          "text": [
            "\r183it [2:00:33, 19.09s/it]"
          ]
        },
        {
          "output_type": "stream",
          "name": "stdout",
          "text": [
            "\n"
          ]
        },
        {
          "output_type": "stream",
          "name": "stderr",
          "text": [
            "\r184it [2:00:56, 20.18s/it]"
          ]
        },
        {
          "output_type": "stream",
          "name": "stdout",
          "text": [
            "\n"
          ]
        },
        {
          "output_type": "stream",
          "name": "stderr",
          "text": [
            "\r185it [2:01:26, 23.05s/it]"
          ]
        },
        {
          "output_type": "stream",
          "name": "stdout",
          "text": [
            "\n"
          ]
        },
        {
          "output_type": "stream",
          "name": "stderr",
          "text": [
            "\r186it [2:01:39, 20.20s/it]"
          ]
        },
        {
          "output_type": "stream",
          "name": "stdout",
          "text": [
            "\n"
          ]
        },
        {
          "output_type": "stream",
          "name": "stderr",
          "text": [
            "\r187it [2:01:46, 16.07s/it]"
          ]
        },
        {
          "output_type": "stream",
          "name": "stdout",
          "text": [
            "\n"
          ]
        },
        {
          "output_type": "stream",
          "name": "stderr",
          "text": [
            "\r188it [2:02:12, 19.17s/it]"
          ]
        },
        {
          "output_type": "stream",
          "name": "stdout",
          "text": [
            "import numpy as np\n",
            "\n",
            "x = np.array([1, 2, 3, 4, 5])\n",
            "mean_value = np.mean(x)\n",
            "print(mean_value)\n"
          ]
        },
        {
          "output_type": "stream",
          "name": "stderr",
          "text": [
            "\r189it [2:02:20, 15.92s/it]"
          ]
        },
        {
          "output_type": "stream",
          "name": "stdout",
          "text": [
            "\n"
          ]
        },
        {
          "output_type": "stream",
          "name": "stderr",
          "text": [
            "\r190it [2:02:54, 21.24s/it]"
          ]
        },
        {
          "output_type": "stream",
          "name": "stdout",
          "text": [
            "a = 5\n",
            "b = 10\n",
            "while (a < 10 or b < 20) and True:\n",
            "    print(a * b)\n",
            "    a += 2\n",
            "    b += 2\n"
          ]
        },
        {
          "output_type": "stream",
          "name": "stderr",
          "text": [
            "\r191it [2:03:22, 23.30s/it]"
          ]
        },
        {
          "output_type": "stream",
          "name": "stdout",
          "text": [
            "i = 2\n",
            "if i == 0:\n",
            "    print(\"Geeks\")\n",
            "elif i == 1:\n",
            "    print(\"Quiz\")\n",
            "else:\n",
            "    print(\"GeeksQuiz\")\n"
          ]
        },
        {
          "output_type": "stream",
          "name": "stderr",
          "text": [
            "\r192it [2:03:43, 22.69s/it]"
          ]
        },
        {
          "output_type": "stream",
          "name": "stdout",
          "text": [
            "def main():\n",
            "    g = \"geeksforgeeks\"\n",
            "    print(g[g[6] - g[8]:])\n",
            "\n",
            "main()\n"
          ]
        },
        {
          "output_type": "stream",
          "name": "stderr",
          "text": [
            "\r193it [2:04:28, 29.34s/it]"
          ]
        },
        {
          "output_type": "stream",
          "name": "stdout",
          "text": [
            "def square(x):\n",
            "    x[0] = (x[0]) * (x[0])\n",
            "\n",
            "def square(x, y):\n",
            "    x[0] = x[0] * (y[0] - 1)\n",
            "\n",
            "number = [30]\n",
            "square(number, number)\n",
            "print(number[0])\n"
          ]
        },
        {
          "output_type": "stream",
          "name": "stderr",
          "text": [
            "\r194it [2:05:43, 43.08s/it]"
          ]
        },
        {
          "output_type": "stream",
          "name": "stdout",
          "text": [
            "class Good:\n",
            "    def __init__(self, m):\n",
            "        self.m = m\n",
            "\n",
            "    def equals(self, n):\n",
            "        return n.m == self.m\n",
            "\n",
            "if __name__ == \"__main__\":\n",
            "    m1 = Good(22)\n",
            "    m2 = Good(22)\n",
            "    s1 = Good(22)\n",
            "    s2 = Good(22)\n",
            "\n",
            "    print(m1.equals(m2))\n",
            "    print(m1.equals(s2))\n",
            "    print(s1.equals(m2))\n",
            "    print(s1.equals(s2))\n"
          ]
        },
        {
          "output_type": "stream",
          "name": "stderr",
          "text": [
            "\r195it [2:06:02, 35.72s/it]"
          ]
        },
        {
          "output_type": "stream",
          "name": "stdout",
          "text": [
            "total = 0\n",
            "for num in range(1, 6):\n",
            "    total += num\n",
            "print(total)\n"
          ]
        },
        {
          "output_type": "stream",
          "name": "stderr",
          "text": [
            "196it [2:06:54, 38.85s/it]"
          ]
        },
        {
          "output_type": "stream",
          "name": "stdout",
          "text": [
            "import React from 'react'\n",
            "import ReactDOM from 'react-dom'\n",
            "\n",
            "class HelloWorld extends React.Component {\n",
            "    render() {\n",
            "        return (\n",
            "            <div>\n",
            "                Hello World 1\n",
            "                <div>Hello World 2</div>\n",
            "            </div>\n",
            "        )\n",
            "    }\n",
            "}\n",
            "\n",
            "const mountNode = document.getElementById('mountNode')\n",
            "ReactDOM.render(<HelloWorld />, mountNode)\n"
          ]
        },
        {
          "output_type": "stream",
          "name": "stderr",
          "text": [
            "\n"
          ]
        }
      ]
    },
    {
      "cell_type": "markdown",
      "source": [
        "Execute the python code, then the output with the choices are fed into the model for final results."
      ],
      "metadata": {
        "id": "0vVep5DcDjMT"
      }
    },
    {
      "cell_type": "code",
      "source": [
        "import os\n",
        "import pandas as pd\n",
        "import signal\n",
        "import traceback\n",
        "from tqdm import tqdm\n",
        "\n",
        "def safe_exec(code):\n",
        "    \"\"\"Safely execute Python code with a timeout.\"\"\"\n",
        "    def handler(signum, frame):\n",
        "        raise TimeoutError(\"Execution timed out\")\n",
        "\n",
        "    signal.signal(signal.SIGALRM, handler)\n",
        "    signal.alarm(5)  # Set a 5-second timeout\n",
        "\n",
        "    local_vars = {}\n",
        "    try:\n",
        "        exec(code, {}, local_vars)\n",
        "        signal.alarm(0)  # Disable alarm after successful execution\n",
        "        return local_vars\n",
        "    except Exception as e:\n",
        "        return str(e)\n",
        "\n",
        "# Load converted Python codes\n",
        "df_codes = pd.read_csv(\"python_code_converted.csv\")\n",
        "\n",
        "# Load test data containing questions and choices\n",
        "df_test = pd.read_csv(\"b6_test_data.csv\")\n",
        "\n",
        "# Dictionary to quickly look up questions and choices\n",
        "test_data_map = {\n",
        "    row['task_id']: (row['question'], eval(row['choices']))  # Ensure choices are properly parsed\n",
        "    for _, row in df_test.iterrows()\n",
        "}\n",
        "\n",
        "results = []\n",
        "\n",
        "for _, row in tqdm(df_codes.iterrows()):\n",
        "    task_id = row['task_id']\n",
        "    python_code = row['python_code']\n",
        "\n",
        "    if task_id not in test_data_map:\n",
        "        continue\n",
        "\n",
        "    question, choices = test_data_map[task_id]\n",
        "\n",
        "    # Execute the Python code safely\n",
        "    exec_result = safe_exec(python_code)\n",
        "\n",
        "    # Format the prompt for the model\n",
        "    prompt = (\n",
        "        \"I will give you the question that needs executing a code, some choices, \"\n",
        "        \"and the code running result. Tell me which answer in the choices is correct \"\n",
        "        \"under an uppercase letter showing the position of the choice in choices.\\n\\n\"\n",
        "        f\"Question: {question}\\n\"\n",
        "        f\"Choices: {choices}\\n\"\n",
        "        f\"Execution Result: {exec_result}\"\n",
        "    )\n",
        "\n",
        "    # Get model response\n",
        "    answer = get_response(prompt)\n",
        "\n",
        "    # Store the results\n",
        "    results.append({\n",
        "        'task_id': task_id,\n",
        "        'answer': answer\n",
        "    })\n",
        "\n",
        "# Save results to CSV\n",
        "output_df = pd.DataFrame(results)\n",
        "output_df.to_csv('submission.csv', index=False)"
      ],
      "metadata": {
        "id": "w_RRsS4EFGiG"
      },
      "execution_count": null,
      "outputs": []
    }
  ]
}