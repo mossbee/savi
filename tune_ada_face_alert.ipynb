{
 "cells": [
  {
   "cell_type": "markdown",
   "metadata": {},
   "source": [
    "In this command, `/path/to/your/data` is a placeholder that you should replace with the actual absolute path to the base directory where your face dataset is stored on your computer. \n",
    "\n",
    "Based on the AdaFace repository structure:\n",
    "\n",
    "- `--data_root` is the base directory containing all your datasets\n",
    "- `--train_data_path` is the relative path from data_root to your training images\n",
    "- `--val_data_path` is the relative path from data_root to your validation data\n",
    "\n",
    "For example, on Windows it might look like:\n"
   ]
  },
  {
   "cell_type": "code",
   "execution_count": null,
   "metadata": {
    "vscode": {
     "languageId": "bash"
    }
   },
   "outputs": [],
   "source": [
    "python finetune.py \\\n",
    "    --data_root E:\\Datasets \\\n",
    "    --train_data_path my_face_dataset/imgs \\\n",
    "    --val_data_path my_face_dataset \\\n",
    "    --pretrained_model ./pretrained/adaface_ir50_ms1mv2.ckpt \\\n",
    "    --arch ir_50 \\\n",
    "    --batch_size 64 \\\n",
    "    --epochs 10 \\\n",
    "    --lr 0.001 \\\n",
    "    --gpus 1"
   ]
  },
  {
   "cell_type": "markdown",
   "metadata": {},
   "source": [
    "\n",
    "\n",
    "This would mean your training images are located at `E:\\Datasets\\my_face_dataset\\imgs` with each person's images in a separate subfolder, and validation data (if any) would be at `E:\\Datasets\\my_face_dataset`.\n",
    "\n",
    "For custom datasets, as mentioned in the README_TRAIN.md, prepare your images in a folder structure where each subfolder name represents the identity label."
   ]
  }
 ],
 "metadata": {
  "language_info": {
   "name": "python"
  }
 },
 "nbformat": 4,
 "nbformat_minor": 2
}
